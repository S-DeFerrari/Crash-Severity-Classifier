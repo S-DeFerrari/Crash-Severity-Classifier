{
 "cells": [
  {
   "cell_type": "code",
   "execution_count": 176,
   "metadata": {},
   "outputs": [],
   "source": [
    "from sklearn.metrics import precision_score, recall_score, precision_recall_curve,f1_score, fbeta_score\n",
    "from sklearn.metrics import roc_auc_score, roc_curve"
   ]
  },
  {
   "cell_type": "code",
   "execution_count": 1,
   "metadata": {},
   "outputs": [],
   "source": [
    "import pandas as pd\n",
    "import matplotlib.pyplot as plt\n",
    "import seaborn as sns\n",
    "plt.style.use('default')\n",
    "%matplotlib inline\n",
    "import numpy as np"
   ]
  },
  {
   "cell_type": "markdown",
   "metadata": {},
   "source": [
    "# Table of Contents\n",
    "1) Intro\n",
    "\n",
    "2) Loading and Final Engineering \n",
    "    \n",
    "    2.1) Choosing Target Class\n",
    "    2.2) EDA\n",
    "\n",
    "3) Modeling\n",
    "\n",
    "    3.1) \"Dumb\" Model\n",
    "    3.2) Logistic Regression\n",
    "    3.3) K Nearest Neighbor \n",
    "    3.4) Decision Tree\n",
    "    3.5) Random Forest\n",
    "    3.6) XG Boost"
   ]
  },
  {
   "cell_type": "markdown",
   "metadata": {},
   "source": [
    "# 1 - Intro\n",
    "I am using car crash data in New York State over a 3 year period to predict the chance of a crash being simple property damage vs an injury/fatality. Below is my finalizing my target class (picking between Fatality vs No Fatality and Damage vs Injury Fatality) and my models ranging from the simple model that predicts property damage each time to XG Boost. Each model features a normal threshold (.5) and slightly revised threshold scores based on the results of the ROC Curve. Each model is also accompanied by a confusion matrix."
   ]
  },
  {
   "cell_type": "markdown",
   "metadata": {},
   "source": [
    "# 2 - Loading and Final Engineering"
   ]
  },
  {
   "cell_type": "code",
   "execution_count": 2,
   "metadata": {},
   "outputs": [],
   "source": [
    "df_sample = pd.read_csv('crash_fixed.csv') "
   ]
  },
  {
   "cell_type": "code",
   "execution_count": 3,
   "metadata": {},
   "outputs": [],
   "source": [
    "df_sample.drop(['Unnamed: 0'] ,axis=1, inplace=True)"
   ]
  },
  {
   "cell_type": "code",
   "execution_count": 4,
   "metadata": {
    "scrolled": false
   },
   "outputs": [
    {
     "data": {
      "text/html": [
       "<div>\n",
       "<style scoped>\n",
       "    .dataframe tbody tr th:only-of-type {\n",
       "        vertical-align: middle;\n",
       "    }\n",
       "\n",
       "    .dataframe tbody tr th {\n",
       "        vertical-align: top;\n",
       "    }\n",
       "\n",
       "    .dataframe thead th {\n",
       "        text-align: right;\n",
       "    }\n",
       "</style>\n",
       "<table border=\"1\" class=\"dataframe\">\n",
       "  <thead>\n",
       "    <tr style=\"text-align: right;\">\n",
       "      <th></th>\n",
       "      <th>Crash Descriptor</th>\n",
       "      <th>Police Report</th>\n",
       "      <th>Traffic Control Device</th>\n",
       "      <th>Number of Vehicles Involved</th>\n",
       "      <th>Population Density</th>\n",
       "      <th>Pop per DUI</th>\n",
       "      <th>Time</th>\n",
       "      <th>Month</th>\n",
       "      <th>Day of Week</th>\n",
       "      <th>Precipitation?</th>\n",
       "      <th>...</th>\n",
       "      <th>County Name_SULLIVAN</th>\n",
       "      <th>County Name_TIOGA</th>\n",
       "      <th>County Name_TOMPKINS</th>\n",
       "      <th>County Name_ULSTER</th>\n",
       "      <th>County Name_WARREN</th>\n",
       "      <th>County Name_WASHINGTON</th>\n",
       "      <th>County Name_WAYNE</th>\n",
       "      <th>County Name_WESTCHESTER</th>\n",
       "      <th>County Name_WYOMING</th>\n",
       "      <th>County Name_YATES</th>\n",
       "    </tr>\n",
       "  </thead>\n",
       "  <tbody>\n",
       "    <tr>\n",
       "      <th>0</th>\n",
       "      <td>Property Damage Accident</td>\n",
       "      <td>1</td>\n",
       "      <td>1</td>\n",
       "      <td>2</td>\n",
       "      <td>20553</td>\n",
       "      <td>5579</td>\n",
       "      <td>11</td>\n",
       "      <td>12</td>\n",
       "      <td>6</td>\n",
       "      <td>1</td>\n",
       "      <td>...</td>\n",
       "      <td>0</td>\n",
       "      <td>0</td>\n",
       "      <td>0</td>\n",
       "      <td>0</td>\n",
       "      <td>0</td>\n",
       "      <td>0</td>\n",
       "      <td>0</td>\n",
       "      <td>0</td>\n",
       "      <td>0</td>\n",
       "      <td>0</td>\n",
       "    </tr>\n",
       "    <tr>\n",
       "      <th>1</th>\n",
       "      <td>Injury Accident</td>\n",
       "      <td>1</td>\n",
       "      <td>1</td>\n",
       "      <td>1</td>\n",
       "      <td>69464</td>\n",
       "      <td>6594</td>\n",
       "      <td>18</td>\n",
       "      <td>12</td>\n",
       "      <td>6</td>\n",
       "      <td>1</td>\n",
       "      <td>...</td>\n",
       "      <td>0</td>\n",
       "      <td>0</td>\n",
       "      <td>0</td>\n",
       "      <td>0</td>\n",
       "      <td>0</td>\n",
       "      <td>0</td>\n",
       "      <td>0</td>\n",
       "      <td>0</td>\n",
       "      <td>0</td>\n",
       "      <td>0</td>\n",
       "    </tr>\n",
       "    <tr>\n",
       "      <th>2</th>\n",
       "      <td>Property Damage Accident</td>\n",
       "      <td>1</td>\n",
       "      <td>0</td>\n",
       "      <td>1</td>\n",
       "      <td>213</td>\n",
       "      <td>1261</td>\n",
       "      <td>14</td>\n",
       "      <td>12</td>\n",
       "      <td>6</td>\n",
       "      <td>1</td>\n",
       "      <td>...</td>\n",
       "      <td>0</td>\n",
       "      <td>0</td>\n",
       "      <td>1</td>\n",
       "      <td>0</td>\n",
       "      <td>0</td>\n",
       "      <td>0</td>\n",
       "      <td>0</td>\n",
       "      <td>0</td>\n",
       "      <td>0</td>\n",
       "      <td>0</td>\n",
       "    </tr>\n",
       "    <tr>\n",
       "      <th>3</th>\n",
       "      <td>Property Damage Accident</td>\n",
       "      <td>1</td>\n",
       "      <td>0</td>\n",
       "      <td>1</td>\n",
       "      <td>881</td>\n",
       "      <td>1438</td>\n",
       "      <td>12</td>\n",
       "      <td>12</td>\n",
       "      <td>6</td>\n",
       "      <td>0</td>\n",
       "      <td>...</td>\n",
       "      <td>0</td>\n",
       "      <td>0</td>\n",
       "      <td>0</td>\n",
       "      <td>0</td>\n",
       "      <td>0</td>\n",
       "      <td>0</td>\n",
       "      <td>0</td>\n",
       "      <td>0</td>\n",
       "      <td>0</td>\n",
       "      <td>0</td>\n",
       "    </tr>\n",
       "    <tr>\n",
       "      <th>4</th>\n",
       "      <td>Property Damage &amp; Injury Accident</td>\n",
       "      <td>1</td>\n",
       "      <td>1</td>\n",
       "      <td>2</td>\n",
       "      <td>69464</td>\n",
       "      <td>6594</td>\n",
       "      <td>15</td>\n",
       "      <td>12</td>\n",
       "      <td>6</td>\n",
       "      <td>1</td>\n",
       "      <td>...</td>\n",
       "      <td>0</td>\n",
       "      <td>0</td>\n",
       "      <td>0</td>\n",
       "      <td>0</td>\n",
       "      <td>0</td>\n",
       "      <td>0</td>\n",
       "      <td>0</td>\n",
       "      <td>0</td>\n",
       "      <td>0</td>\n",
       "      <td>0</td>\n",
       "    </tr>\n",
       "  </tbody>\n",
       "</table>\n",
       "<p>5 rows × 90 columns</p>\n",
       "</div>"
      ],
      "text/plain": [
       "                    Crash Descriptor  Police Report  Traffic Control Device  \\\n",
       "0           Property Damage Accident              1                       1   \n",
       "1                    Injury Accident              1                       1   \n",
       "2           Property Damage Accident              1                       0   \n",
       "3           Property Damage Accident              1                       0   \n",
       "4  Property Damage & Injury Accident              1                       1   \n",
       "\n",
       "   Number of Vehicles Involved  Population Density  Pop per DUI  Time  Month  \\\n",
       "0                            2               20553         5579    11     12   \n",
       "1                            1               69464         6594    18     12   \n",
       "2                            1                 213         1261    14     12   \n",
       "3                            1                 881         1438    12     12   \n",
       "4                            2               69464         6594    15     12   \n",
       "\n",
       "   Day of Week  Precipitation?  ...  County Name_SULLIVAN  County Name_TIOGA  \\\n",
       "0            6               1  ...                     0                  0   \n",
       "1            6               1  ...                     0                  0   \n",
       "2            6               1  ...                     0                  0   \n",
       "3            6               0  ...                     0                  0   \n",
       "4            6               1  ...                     0                  0   \n",
       "\n",
       "   County Name_TOMPKINS  County Name_ULSTER  County Name_WARREN  \\\n",
       "0                     0                   0                   0   \n",
       "1                     0                   0                   0   \n",
       "2                     1                   0                   0   \n",
       "3                     0                   0                   0   \n",
       "4                     0                   0                   0   \n",
       "\n",
       "   County Name_WASHINGTON  County Name_WAYNE  County Name_WESTCHESTER  \\\n",
       "0                       0                  0                        0   \n",
       "1                       0                  0                        0   \n",
       "2                       0                  0                        0   \n",
       "3                       0                  0                        0   \n",
       "4                       0                  0                        0   \n",
       "\n",
       "   County Name_WYOMING  County Name_YATES  \n",
       "0                    0                  0  \n",
       "1                    0                  0  \n",
       "2                    0                  0  \n",
       "3                    0                  0  \n",
       "4                    0                  0  \n",
       "\n",
       "[5 rows x 90 columns]"
      ]
     },
     "execution_count": 4,
     "metadata": {},
     "output_type": "execute_result"
    }
   ],
   "source": [
    "df_sample.head()"
   ]
  },
  {
   "cell_type": "markdown",
   "metadata": {},
   "source": [
    "### 2.1 - Choosing my minority class:\n"
   ]
  },
  {
   "cell_type": "markdown",
   "metadata": {},
   "source": [
    "#### Trying out Fatalaties"
   ]
  },
  {
   "cell_type": "code",
   "execution_count": 5,
   "metadata": {
    "scrolled": true
   },
   "outputs": [
    {
     "data": {
      "text/plain": [
       "Property Damage Accident             536288\n",
       "Injury Accident                      183049\n",
       "Property Damage & Injury Accident    171334\n",
       "Fatal Accident                         2986\n",
       "Name: Crash Descriptor, dtype: int64"
      ]
     },
     "execution_count": 5,
     "metadata": {},
     "output_type": "execute_result"
    }
   ],
   "source": [
    "df_sample['Crash Descriptor'].value_counts()"
   ]
  },
  {
   "cell_type": "code",
   "execution_count": 6,
   "metadata": {},
   "outputs": [],
   "source": [
    "df_sample['Fatalaty?'] = df_sample['Crash Descriptor'].str.contains('Fatal').astype(int)\n"
   ]
  },
  {
   "cell_type": "code",
   "execution_count": 7,
   "metadata": {},
   "outputs": [],
   "source": [
    "def bar_convert(x):\n",
    "    if x == 0:\n",
    "        return 'Non-Fatal'\n",
    "    else:\n",
    "        return 'Fatal'"
   ]
  },
  {
   "cell_type": "code",
   "execution_count": 8,
   "metadata": {},
   "outputs": [],
   "source": [
    "df_sample['Fatalaty?'] = df_sample['Fatalaty?'].apply(bar_convert)"
   ]
  },
  {
   "cell_type": "code",
   "execution_count": 9,
   "metadata": {},
   "outputs": [
    {
     "data": {
      "text/plain": [
       "Non-Fatal    890671\n",
       "Fatal          2986\n",
       "Name: Fatalaty?, dtype: int64"
      ]
     },
     "execution_count": 9,
     "metadata": {},
     "output_type": "execute_result"
    }
   ],
   "source": [
    "df_sample['Fatalaty?'].value_counts()"
   ]
  },
  {
   "cell_type": "code",
   "execution_count": 10,
   "metadata": {
    "scrolled": true
   },
   "outputs": [
    {
     "data": {
      "text/plain": [
       "Text(0.5, 1.0, 'Severe Imbalance Between \\n Non-Fatal and Fatal Accidents in Data')"
      ]
     },
     "execution_count": 10,
     "metadata": {},
     "output_type": "execute_result"
    },
    {
     "data": {
      "image/png": "[encoded data removed]",
      "text/plain": [
       "<Figure size 432x288 with 1 Axes>"
      ]
     },
     "metadata": {},
     "output_type": "display_data"
    }
   ],
   "source": [
    "df_sample['Fatalaty?'].value_counts().plot(kind='pie',labels=None).legend([\"Non-Fatal\", \"Fatal\"]);\n",
    "plt.xlabel('890,671 Non-Fatal vs 2,986 Fatal Accidents')\n",
    "plt.ylabel('')\n",
    "plt.title('Severe Imbalance Between \\n Non-Fatal and Fatal Accidents in Data')\n",
    "#plt.savefig('severe_imbalance.jpg')"
   ]
  },
  {
   "cell_type": "markdown",
   "metadata": {},
   "source": [
    "Ultimately this imbalance is too severe, especially given the lack of drinking and driving related metrics for these accidents as DUIs account for a large number of traffic fatalaties."
   ]
  },
  {
   "cell_type": "code",
   "execution_count": 11,
   "metadata": {},
   "outputs": [],
   "source": [
    "df_sample.drop(['Fatalaty?'] ,axis=1, inplace=True)"
   ]
  },
  {
   "cell_type": "markdown",
   "metadata": {},
   "source": [
    "#### Switching to Injuries and Finalizing "
   ]
  },
  {
   "cell_type": "code",
   "execution_count": 12,
   "metadata": {
    "scrolled": true
   },
   "outputs": [],
   "source": [
    "df = df_sample.copy()"
   ]
  },
  {
   "cell_type": "code",
   "execution_count": 13,
   "metadata": {},
   "outputs": [],
   "source": [
    "df['Crash Descriptor'] = df['Crash Descriptor'].str.contains('Injury'or'Fatal').astype(int)"
   ]
  },
  {
   "cell_type": "code",
   "execution_count": 14,
   "metadata": {},
   "outputs": [],
   "source": [
    "df.rename(columns={'Crash Descriptor': 'Injury/Fatality?'}, inplace=True)"
   ]
  },
  {
   "cell_type": "code",
   "execution_count": 15,
   "metadata": {},
   "outputs": [
    {
     "data": {
      "text/plain": [
       "0    539274\n",
       "1    354383\n",
       "Name: Injury/Fatality?, dtype: int64"
      ]
     },
     "execution_count": 15,
     "metadata": {},
     "output_type": "execute_result"
    }
   ],
   "source": [
    "df['Injury/Fatality?'].value_counts()"
   ]
  },
  {
   "cell_type": "code",
   "execution_count": 251,
   "metadata": {},
   "outputs": [
    {
     "data": {
      "text/plain": [
       "Text(0.5, 1.0, 'Balance Between Property Damage \\nand Injury/Fatal Accidents in Data')"
      ]
     },
     "execution_count": 251,
     "metadata": {},
     "output_type": "execute_result"
    },
    {
     "data": {
      "image/png": "[encoded data removed]",
      "text/plain": [
       "<Figure size 432x288 with 1 Axes>"
      ]
     },
     "metadata": {},
     "output_type": "display_data"
    }
   ],
   "source": [
    "df['Injury/Fatality?'].value_counts().plot(kind='pie',labels=None).legend([\"Property Dmg\", \"Injury/Fatal\"]);\n",
    "plt.xlabel('539,274 Property Damage vs 354,383 Injury/Fatal Accidents')\n",
    "plt.ylabel('')\n",
    "plt.title('Balance Between Property Damage \\nand Injury/Fatal Accidents in Data')\n",
    "# plt.savefig('balance.jpg')"
   ]
  },
  {
   "cell_type": "code",
   "execution_count": 17,
   "metadata": {
    "scrolled": true
   },
   "outputs": [
    {
     "data": {
      "text/html": [
       "<div>\n",
       "<style scoped>\n",
       "    .dataframe tbody tr th:only-of-type {\n",
       "        vertical-align: middle;\n",
       "    }\n",
       "\n",
       "    .dataframe tbody tr th {\n",
       "        vertical-align: top;\n",
       "    }\n",
       "\n",
       "    .dataframe thead th {\n",
       "        text-align: right;\n",
       "    }\n",
       "</style>\n",
       "<table border=\"1\" class=\"dataframe\">\n",
       "  <thead>\n",
       "    <tr style=\"text-align: right;\">\n",
       "      <th></th>\n",
       "      <th>Injury/Fatality?</th>\n",
       "      <th>Police Report</th>\n",
       "      <th>Traffic Control Device</th>\n",
       "      <th>Number of Vehicles Involved</th>\n",
       "      <th>Population Density</th>\n",
       "      <th>Pop per DUI</th>\n",
       "      <th>Time</th>\n",
       "      <th>Month</th>\n",
       "      <th>Day of Week</th>\n",
       "      <th>Precipitation?</th>\n",
       "      <th>...</th>\n",
       "      <th>County Name_SULLIVAN</th>\n",
       "      <th>County Name_TIOGA</th>\n",
       "      <th>County Name_TOMPKINS</th>\n",
       "      <th>County Name_ULSTER</th>\n",
       "      <th>County Name_WARREN</th>\n",
       "      <th>County Name_WASHINGTON</th>\n",
       "      <th>County Name_WAYNE</th>\n",
       "      <th>County Name_WESTCHESTER</th>\n",
       "      <th>County Name_WYOMING</th>\n",
       "      <th>County Name_YATES</th>\n",
       "    </tr>\n",
       "  </thead>\n",
       "  <tbody>\n",
       "    <tr>\n",
       "      <th>0</th>\n",
       "      <td>0</td>\n",
       "      <td>1</td>\n",
       "      <td>1</td>\n",
       "      <td>2</td>\n",
       "      <td>20553</td>\n",
       "      <td>5579</td>\n",
       "      <td>11</td>\n",
       "      <td>12</td>\n",
       "      <td>6</td>\n",
       "      <td>1</td>\n",
       "      <td>...</td>\n",
       "      <td>0</td>\n",
       "      <td>0</td>\n",
       "      <td>0</td>\n",
       "      <td>0</td>\n",
       "      <td>0</td>\n",
       "      <td>0</td>\n",
       "      <td>0</td>\n",
       "      <td>0</td>\n",
       "      <td>0</td>\n",
       "      <td>0</td>\n",
       "    </tr>\n",
       "    <tr>\n",
       "      <th>1</th>\n",
       "      <td>1</td>\n",
       "      <td>1</td>\n",
       "      <td>1</td>\n",
       "      <td>1</td>\n",
       "      <td>69464</td>\n",
       "      <td>6594</td>\n",
       "      <td>18</td>\n",
       "      <td>12</td>\n",
       "      <td>6</td>\n",
       "      <td>1</td>\n",
       "      <td>...</td>\n",
       "      <td>0</td>\n",
       "      <td>0</td>\n",
       "      <td>0</td>\n",
       "      <td>0</td>\n",
       "      <td>0</td>\n",
       "      <td>0</td>\n",
       "      <td>0</td>\n",
       "      <td>0</td>\n",
       "      <td>0</td>\n",
       "      <td>0</td>\n",
       "    </tr>\n",
       "    <tr>\n",
       "      <th>2</th>\n",
       "      <td>0</td>\n",
       "      <td>1</td>\n",
       "      <td>0</td>\n",
       "      <td>1</td>\n",
       "      <td>213</td>\n",
       "      <td>1261</td>\n",
       "      <td>14</td>\n",
       "      <td>12</td>\n",
       "      <td>6</td>\n",
       "      <td>1</td>\n",
       "      <td>...</td>\n",
       "      <td>0</td>\n",
       "      <td>0</td>\n",
       "      <td>1</td>\n",
       "      <td>0</td>\n",
       "      <td>0</td>\n",
       "      <td>0</td>\n",
       "      <td>0</td>\n",
       "      <td>0</td>\n",
       "      <td>0</td>\n",
       "      <td>0</td>\n",
       "    </tr>\n",
       "    <tr>\n",
       "      <th>3</th>\n",
       "      <td>0</td>\n",
       "      <td>1</td>\n",
       "      <td>0</td>\n",
       "      <td>1</td>\n",
       "      <td>881</td>\n",
       "      <td>1438</td>\n",
       "      <td>12</td>\n",
       "      <td>12</td>\n",
       "      <td>6</td>\n",
       "      <td>0</td>\n",
       "      <td>...</td>\n",
       "      <td>0</td>\n",
       "      <td>0</td>\n",
       "      <td>0</td>\n",
       "      <td>0</td>\n",
       "      <td>0</td>\n",
       "      <td>0</td>\n",
       "      <td>0</td>\n",
       "      <td>0</td>\n",
       "      <td>0</td>\n",
       "      <td>0</td>\n",
       "    </tr>\n",
       "    <tr>\n",
       "      <th>4</th>\n",
       "      <td>1</td>\n",
       "      <td>1</td>\n",
       "      <td>1</td>\n",
       "      <td>2</td>\n",
       "      <td>69464</td>\n",
       "      <td>6594</td>\n",
       "      <td>15</td>\n",
       "      <td>12</td>\n",
       "      <td>6</td>\n",
       "      <td>1</td>\n",
       "      <td>...</td>\n",
       "      <td>0</td>\n",
       "      <td>0</td>\n",
       "      <td>0</td>\n",
       "      <td>0</td>\n",
       "      <td>0</td>\n",
       "      <td>0</td>\n",
       "      <td>0</td>\n",
       "      <td>0</td>\n",
       "      <td>0</td>\n",
       "      <td>0</td>\n",
       "    </tr>\n",
       "  </tbody>\n",
       "</table>\n",
       "<p>5 rows × 90 columns</p>\n",
       "</div>"
      ],
      "text/plain": [
       "   Injury/Fatality?  Police Report  Traffic Control Device  \\\n",
       "0                 0              1                       1   \n",
       "1                 1              1                       1   \n",
       "2                 0              1                       0   \n",
       "3                 0              1                       0   \n",
       "4                 1              1                       1   \n",
       "\n",
       "   Number of Vehicles Involved  Population Density  Pop per DUI  Time  Month  \\\n",
       "0                            2               20553         5579    11     12   \n",
       "1                            1               69464         6594    18     12   \n",
       "2                            1                 213         1261    14     12   \n",
       "3                            1                 881         1438    12     12   \n",
       "4                            2               69464         6594    15     12   \n",
       "\n",
       "   Day of Week  Precipitation?  ...  County Name_SULLIVAN  County Name_TIOGA  \\\n",
       "0            6               1  ...                     0                  0   \n",
       "1            6               1  ...                     0                  0   \n",
       "2            6               1  ...                     0                  0   \n",
       "3            6               0  ...                     0                  0   \n",
       "4            6               1  ...                     0                  0   \n",
       "\n",
       "   County Name_TOMPKINS  County Name_ULSTER  County Name_WARREN  \\\n",
       "0                     0                   0                   0   \n",
       "1                     0                   0                   0   \n",
       "2                     1                   0                   0   \n",
       "3                     0                   0                   0   \n",
       "4                     0                   0                   0   \n",
       "\n",
       "   County Name_WASHINGTON  County Name_WAYNE  County Name_WESTCHESTER  \\\n",
       "0                       0                  0                        0   \n",
       "1                       0                  0                        0   \n",
       "2                       0                  0                        0   \n",
       "3                       0                  0                        0   \n",
       "4                       0                  0                        0   \n",
       "\n",
       "   County Name_WYOMING  County Name_YATES  \n",
       "0                    0                  0  \n",
       "1                    0                  0  \n",
       "2                    0                  0  \n",
       "3                    0                  0  \n",
       "4                    0                  0  \n",
       "\n",
       "[5 rows x 90 columns]"
      ]
     },
     "execution_count": 17,
     "metadata": {},
     "output_type": "execute_result"
    }
   ],
   "source": [
    "df.head()"
   ]
  },
  {
   "cell_type": "code",
   "execution_count": null,
   "metadata": {},
   "outputs": [],
   "source": []
  },
  {
   "cell_type": "markdown",
   "metadata": {},
   "source": [
    "### 2.2 - EDA (Heat Map for Non County Features!)"
   ]
  },
  {
   "cell_type": "code",
   "execution_count": 18,
   "metadata": {
    "scrolled": true
   },
   "outputs": [
    {
     "data": {
      "text/plain": [
       "Index(['Injury/Fatality?', 'Police Report', 'Traffic Control Device',\n",
       "       'Number of Vehicles Involved', 'Population Density', 'Pop per DUI',\n",
       "       'Time', 'Month', 'Day of Week', 'Precipitation?', 'Daylight?',\n",
       "       'Lit Dark Road?', 'Twilight Hour?', 'Straight Road?', 'Level Road?',\n",
       "       'Hill Crest?', 'Dry Road?', 'Collision?', 'Pedestrian',\n",
       "       'Other Vehicle?', 'Cyclist?', 'Fixed Object?', 'Unkown Cause',\n",
       "       'Explosion/Fire', 'Animal Involved?', 'Overturned?', 'Train?',\n",
       "       'Submerged Car?', 'County Name_ALBANY', 'County Name_ALLEGANY',\n",
       "       'County Name_BRONX', 'County Name_BROOME', 'County Name_CATTARAUGUS',\n",
       "       'County Name_CAYUGA', 'County Name_CHAUTAUQUA', 'County Name_CHEMUNG',\n",
       "       'County Name_CHENANGO', 'County Name_CLINTON', 'County Name_COLUMBIA',\n",
       "       'County Name_CORTLAND', 'County Name_DELAWARE', 'County Name_DUTCHESS',\n",
       "       'County Name_ERIE', 'County Name_ESSEX', 'County Name_FRANKLIN',\n",
       "       'County Name_FULTON', 'County Name_GENESEE', 'County Name_GREENE',\n",
       "       'County Name_HAMILTON', 'County Name_HERKIMER', 'County Name_JEFFERSON',\n",
       "       'County Name_KINGS', 'County Name_LEWIS', 'County Name_LIVINGSTON',\n",
       "       'County Name_MADISON', 'County Name_MONROE', 'County Name_MONTGOMERY',\n",
       "       'County Name_NASSAU', 'County Name_NEW YORK', 'County Name_NIAGARA',\n",
       "       'County Name_ONEIDA', 'County Name_ONONDAGA', 'County Name_ONTARIO',\n",
       "       'County Name_ORANGE', 'County Name_ORLEANS', 'County Name_OSWEGO',\n",
       "       'County Name_OTSEGO', 'County Name_PUTNAM', 'County Name_QUEENS',\n",
       "       'County Name_RENSSELAER', 'County Name_RICHMOND',\n",
       "       'County Name_ROCKLAND', 'County Name_SARATOGA',\n",
       "       'County Name_SCHENECTADY', 'County Name_SCHOHARIE',\n",
       "       'County Name_SCHUYLER', 'County Name_SENECA', 'County Name_ST LAWRENCE',\n",
       "       'County Name_STEUBEN', 'County Name_SUFFOLK', 'County Name_SULLIVAN',\n",
       "       'County Name_TIOGA', 'County Name_TOMPKINS', 'County Name_ULSTER',\n",
       "       'County Name_WARREN', 'County Name_WASHINGTON', 'County Name_WAYNE',\n",
       "       'County Name_WESTCHESTER', 'County Name_WYOMING', 'County Name_YATES'],\n",
       "      dtype='object')"
      ]
     },
     "execution_count": 18,
     "metadata": {},
     "output_type": "execute_result"
    }
   ],
   "source": [
    "df.columns"
   ]
  },
  {
   "cell_type": "code",
   "execution_count": 139,
   "metadata": {},
   "outputs": [],
   "source": [
    "heat = df.drop(['Pop per DUI','County Name_ALBANY',\n",
    "       'County Name_ALLEGANY', 'County Name_BRONX', 'County Name_BROOME',\n",
    "       'County Name_CATTARAUGUS', 'County Name_CAYUGA',\n",
    "       'County Name_CHAUTAUQUA', 'County Name_CHEMUNG', 'County Name_CHENANGO',\n",
    "       'County Name_CLINTON', 'County Name_COLUMBIA', 'County Name_CORTLAND',\n",
    "       'County Name_DELAWARE', 'County Name_DUTCHESS', 'County Name_ERIE',\n",
    "       'County Name_ESSEX', 'County Name_FRANKLIN', 'County Name_FULTON',\n",
    "       'County Name_GENESEE', 'County Name_GREENE', 'County Name_HAMILTON',\n",
    "       'County Name_HERKIMER', 'County Name_JEFFERSON', 'County Name_KINGS',\n",
    "       'County Name_LEWIS', 'County Name_LIVINGSTON', 'County Name_MADISON',\n",
    "       'County Name_MONROE', 'County Name_MONTGOMERY', 'County Name_NASSAU',\n",
    "       'County Name_NEW YORK', 'County Name_NIAGARA', 'County Name_ONEIDA',\n",
    "       'County Name_ONONDAGA', 'County Name_ONTARIO', 'County Name_ORANGE',\n",
    "       'County Name_ORLEANS', 'County Name_OSWEGO', 'County Name_OTSEGO',\n",
    "       'County Name_PUTNAM', 'County Name_QUEENS', 'County Name_RENSSELAER',\n",
    "       'County Name_RICHMOND', 'County Name_ROCKLAND', 'County Name_SARATOGA',\n",
    "       'County Name_SCHENECTADY', 'County Name_SCHOHARIE',\n",
    "       'County Name_SCHUYLER', 'County Name_SENECA', 'County Name_ST LAWRENCE',\n",
    "       'County Name_STEUBEN', 'County Name_SUFFOLK', 'County Name_SULLIVAN',\n",
    "       'County Name_TIOGA', 'County Name_TOMPKINS', 'County Name_ULSTER',\n",
    "       'County Name_WARREN', 'County Name_WASHINGTON', 'County Name_WAYNE',\n",
    "       'County Name_WESTCHESTER', 'County Name_WYOMING', 'County Name_YATES'] ,axis=1)"
   ]
  },
  {
   "cell_type": "code",
   "execution_count": 140,
   "metadata": {},
   "outputs": [
    {
     "data": {
      "text/html": [
       "<div>\n",
       "<style scoped>\n",
       "    .dataframe tbody tr th:only-of-type {\n",
       "        vertical-align: middle;\n",
       "    }\n",
       "\n",
       "    .dataframe tbody tr th {\n",
       "        vertical-align: top;\n",
       "    }\n",
       "\n",
       "    .dataframe thead th {\n",
       "        text-align: right;\n",
       "    }\n",
       "</style>\n",
       "<table border=\"1\" class=\"dataframe\">\n",
       "  <thead>\n",
       "    <tr style=\"text-align: right;\">\n",
       "      <th></th>\n",
       "      <th>Injury/Fatality?</th>\n",
       "      <th>Police Report</th>\n",
       "      <th>Traffic Control Device</th>\n",
       "      <th>Number of Vehicles Involved</th>\n",
       "      <th>Population Density</th>\n",
       "      <th>Time</th>\n",
       "      <th>Month</th>\n",
       "      <th>Day of Week</th>\n",
       "      <th>Precipitation?</th>\n",
       "      <th>Daylight?</th>\n",
       "      <th>...</th>\n",
       "      <th>Pedestrian</th>\n",
       "      <th>Other Vehicle?</th>\n",
       "      <th>Cyclist?</th>\n",
       "      <th>Fixed Object?</th>\n",
       "      <th>Unkown Cause</th>\n",
       "      <th>Explosion/Fire</th>\n",
       "      <th>Animal Involved?</th>\n",
       "      <th>Overturned?</th>\n",
       "      <th>Train?</th>\n",
       "      <th>Submerged Car?</th>\n",
       "    </tr>\n",
       "  </thead>\n",
       "  <tbody>\n",
       "    <tr>\n",
       "      <th>Injury/Fatality?</th>\n",
       "      <td>1.000000</td>\n",
       "      <td>0.135779</td>\n",
       "      <td>0.118264</td>\n",
       "      <td>0.072787</td>\n",
       "      <td>0.268635</td>\n",
       "      <td>0.069633</td>\n",
       "      <td>0.025269</td>\n",
       "      <td>0.002749</td>\n",
       "      <td>0.060635</td>\n",
       "      <td>0.053378</td>\n",
       "      <td>...</td>\n",
       "      <td>0.262810</td>\n",
       "      <td>0.008112</td>\n",
       "      <td>0.168242</td>\n",
       "      <td>-0.057420</td>\n",
       "      <td>0.002059</td>\n",
       "      <td>-0.023811</td>\n",
       "      <td>-0.066589</td>\n",
       "      <td>0.035797</td>\n",
       "      <td>0.000979</td>\n",
       "      <td>-0.005685</td>\n",
       "    </tr>\n",
       "    <tr>\n",
       "      <th>Police Report</th>\n",
       "      <td>0.135779</td>\n",
       "      <td>1.000000</td>\n",
       "      <td>-0.219358</td>\n",
       "      <td>0.010157</td>\n",
       "      <td>-0.186912</td>\n",
       "      <td>0.166796</td>\n",
       "      <td>0.016858</td>\n",
       "      <td>0.000522</td>\n",
       "      <td>0.348706</td>\n",
       "      <td>0.248293</td>\n",
       "      <td>...</td>\n",
       "      <td>0.068047</td>\n",
       "      <td>-0.032749</td>\n",
       "      <td>0.042377</td>\n",
       "      <td>0.059217</td>\n",
       "      <td>-0.032305</td>\n",
       "      <td>0.007354</td>\n",
       "      <td>0.005867</td>\n",
       "      <td>0.019864</td>\n",
       "      <td>0.002336</td>\n",
       "      <td>-0.010523</td>\n",
       "    </tr>\n",
       "    <tr>\n",
       "      <th>Traffic Control Device</th>\n",
       "      <td>0.118264</td>\n",
       "      <td>-0.219358</td>\n",
       "      <td>1.000000</td>\n",
       "      <td>0.087055</td>\n",
       "      <td>0.151049</td>\n",
       "      <td>-0.015946</td>\n",
       "      <td>0.001633</td>\n",
       "      <td>-0.014210</td>\n",
       "      <td>-0.137833</td>\n",
       "      <td>-0.054910</td>\n",
       "      <td>...</td>\n",
       "      <td>0.048756</td>\n",
       "      <td>0.141114</td>\n",
       "      <td>0.038421</td>\n",
       "      <td>-0.143536</td>\n",
       "      <td>0.012796</td>\n",
       "      <td>-0.018415</td>\n",
       "      <td>-0.047936</td>\n",
       "      <td>-0.023064</td>\n",
       "      <td>0.006074</td>\n",
       "      <td>-0.000523</td>\n",
       "    </tr>\n",
       "    <tr>\n",
       "      <th>Number of Vehicles Involved</th>\n",
       "      <td>0.072787</td>\n",
       "      <td>0.010157</td>\n",
       "      <td>0.087055</td>\n",
       "      <td>1.000000</td>\n",
       "      <td>0.074362</td>\n",
       "      <td>0.031359</td>\n",
       "      <td>-0.002897</td>\n",
       "      <td>-0.032048</td>\n",
       "      <td>0.061063</td>\n",
       "      <td>0.163605</td>\n",
       "      <td>...</td>\n",
       "      <td>-0.262759</td>\n",
       "      <td>0.805413</td>\n",
       "      <td>-0.167111</td>\n",
       "      <td>-0.476660</td>\n",
       "      <td>-0.004614</td>\n",
       "      <td>-0.039687</td>\n",
       "      <td>-0.118506</td>\n",
       "      <td>-0.075940</td>\n",
       "      <td>-0.007594</td>\n",
       "      <td>-0.015694</td>\n",
       "    </tr>\n",
       "    <tr>\n",
       "      <th>Population Density</th>\n",
       "      <td>0.268635</td>\n",
       "      <td>-0.186912</td>\n",
       "      <td>0.151049</td>\n",
       "      <td>0.074362</td>\n",
       "      <td>1.000000</td>\n",
       "      <td>-0.013088</td>\n",
       "      <td>0.012908</td>\n",
       "      <td>0.008560</td>\n",
       "      <td>-0.037516</td>\n",
       "      <td>-0.072753</td>\n",
       "      <td>...</td>\n",
       "      <td>0.245293</td>\n",
       "      <td>0.062539</td>\n",
       "      <td>0.155454</td>\n",
       "      <td>-0.156201</td>\n",
       "      <td>0.020332</td>\n",
       "      <td>-0.013254</td>\n",
       "      <td>-0.049173</td>\n",
       "      <td>-0.024280</td>\n",
       "      <td>-0.003123</td>\n",
       "      <td>-0.005318</td>\n",
       "    </tr>\n",
       "    <tr>\n",
       "      <th>Time</th>\n",
       "      <td>0.069633</td>\n",
       "      <td>0.166796</td>\n",
       "      <td>-0.015946</td>\n",
       "      <td>0.031359</td>\n",
       "      <td>-0.013088</td>\n",
       "      <td>1.000000</td>\n",
       "      <td>0.030842</td>\n",
       "      <td>-0.007677</td>\n",
       "      <td>0.089455</td>\n",
       "      <td>-0.090249</td>\n",
       "      <td>...</td>\n",
       "      <td>0.045514</td>\n",
       "      <td>0.037190</td>\n",
       "      <td>0.040547</td>\n",
       "      <td>-0.087397</td>\n",
       "      <td>-0.011343</td>\n",
       "      <td>0.001968</td>\n",
       "      <td>0.006939</td>\n",
       "      <td>-0.000331</td>\n",
       "      <td>-0.001661</td>\n",
       "      <td>-0.005720</td>\n",
       "    </tr>\n",
       "    <tr>\n",
       "      <th>Month</th>\n",
       "      <td>0.025269</td>\n",
       "      <td>0.016858</td>\n",
       "      <td>0.001633</td>\n",
       "      <td>-0.002897</td>\n",
       "      <td>0.012908</td>\n",
       "      <td>0.030842</td>\n",
       "      <td>1.000000</td>\n",
       "      <td>-0.018963</td>\n",
       "      <td>0.050363</td>\n",
       "      <td>-0.067312</td>\n",
       "      <td>...</td>\n",
       "      <td>0.014325</td>\n",
       "      <td>-0.009875</td>\n",
       "      <td>0.026337</td>\n",
       "      <td>-0.059514</td>\n",
       "      <td>-0.004757</td>\n",
       "      <td>0.000431</td>\n",
       "      <td>0.020997</td>\n",
       "      <td>-0.000684</td>\n",
       "      <td>-0.001324</td>\n",
       "      <td>0.001725</td>\n",
       "    </tr>\n",
       "    <tr>\n",
       "      <th>Day of Week</th>\n",
       "      <td>0.002749</td>\n",
       "      <td>0.000522</td>\n",
       "      <td>-0.014210</td>\n",
       "      <td>-0.032048</td>\n",
       "      <td>0.008560</td>\n",
       "      <td>-0.007677</td>\n",
       "      <td>-0.018963</td>\n",
       "      <td>1.000000</td>\n",
       "      <td>0.010658</td>\n",
       "      <td>-0.070868</td>\n",
       "      <td>...</td>\n",
       "      <td>-0.010374</td>\n",
       "      <td>-0.043724</td>\n",
       "      <td>-0.001160</td>\n",
       "      <td>0.050865</td>\n",
       "      <td>0.000991</td>\n",
       "      <td>0.000402</td>\n",
       "      <td>0.005896</td>\n",
       "      <td>0.010372</td>\n",
       "      <td>-0.001520</td>\n",
       "      <td>0.000129</td>\n",
       "    </tr>\n",
       "    <tr>\n",
       "      <th>Precipitation?</th>\n",
       "      <td>0.060635</td>\n",
       "      <td>0.348706</td>\n",
       "      <td>-0.137833</td>\n",
       "      <td>0.061063</td>\n",
       "      <td>-0.037516</td>\n",
       "      <td>0.089455</td>\n",
       "      <td>0.050363</td>\n",
       "      <td>0.010658</td>\n",
       "      <td>1.000000</td>\n",
       "      <td>0.259582</td>\n",
       "      <td>...</td>\n",
       "      <td>0.027221</td>\n",
       "      <td>0.058038</td>\n",
       "      <td>0.045944</td>\n",
       "      <td>-0.120035</td>\n",
       "      <td>-0.024086</td>\n",
       "      <td>0.006391</td>\n",
       "      <td>0.019584</td>\n",
       "      <td>0.000901</td>\n",
       "      <td>-0.000206</td>\n",
       "      <td>-0.012174</td>\n",
       "    </tr>\n",
       "    <tr>\n",
       "      <th>Daylight?</th>\n",
       "      <td>0.053378</td>\n",
       "      <td>0.248293</td>\n",
       "      <td>-0.054910</td>\n",
       "      <td>0.163605</td>\n",
       "      <td>-0.072753</td>\n",
       "      <td>-0.090249</td>\n",
       "      <td>-0.067312</td>\n",
       "      <td>-0.070868</td>\n",
       "      <td>0.259582</td>\n",
       "      <td>1.000000</td>\n",
       "      <td>...</td>\n",
       "      <td>-0.011275</td>\n",
       "      <td>0.202283</td>\n",
       "      <td>0.020225</td>\n",
       "      <td>-0.071368</td>\n",
       "      <td>-0.016952</td>\n",
       "      <td>0.001237</td>\n",
       "      <td>-0.064182</td>\n",
       "      <td>0.001409</td>\n",
       "      <td>-0.000308</td>\n",
       "      <td>-0.007666</td>\n",
       "    </tr>\n",
       "    <tr>\n",
       "      <th>Lit Dark Road?</th>\n",
       "      <td>0.078467</td>\n",
       "      <td>0.105750</td>\n",
       "      <td>-0.010559</td>\n",
       "      <td>0.028636</td>\n",
       "      <td>0.107281</td>\n",
       "      <td>0.149852</td>\n",
       "      <td>0.048032</td>\n",
       "      <td>0.062694</td>\n",
       "      <td>0.019048</td>\n",
       "      <td>-0.561657</td>\n",
       "      <td>...</td>\n",
       "      <td>0.083932</td>\n",
       "      <td>0.009571</td>\n",
       "      <td>0.023474</td>\n",
       "      <td>-0.001941</td>\n",
       "      <td>-0.004210</td>\n",
       "      <td>-0.008160</td>\n",
       "      <td>-0.012616</td>\n",
       "      <td>-0.009418</td>\n",
       "      <td>0.000112</td>\n",
       "      <td>-0.001830</td>\n",
       "    </tr>\n",
       "    <tr>\n",
       "      <th>Twilight Hour?</th>\n",
       "      <td>-0.010908</td>\n",
       "      <td>-0.000531</td>\n",
       "      <td>-0.024551</td>\n",
       "      <td>-0.052638</td>\n",
       "      <td>0.005869</td>\n",
       "      <td>-0.003693</td>\n",
       "      <td>0.012972</td>\n",
       "      <td>-0.006146</td>\n",
       "      <td>0.011335</td>\n",
       "      <td>-0.286180</td>\n",
       "      <td>...</td>\n",
       "      <td>0.008886</td>\n",
       "      <td>-0.065583</td>\n",
       "      <td>0.003322</td>\n",
       "      <td>0.006802</td>\n",
       "      <td>-0.002484</td>\n",
       "      <td>-0.002536</td>\n",
       "      <td>0.020238</td>\n",
       "      <td>0.000350</td>\n",
       "      <td>0.001729</td>\n",
       "      <td>0.000252</td>\n",
       "    </tr>\n",
       "    <tr>\n",
       "      <th>Straight Road?</th>\n",
       "      <td>0.068576</td>\n",
       "      <td>0.413476</td>\n",
       "      <td>-0.135915</td>\n",
       "      <td>0.136542</td>\n",
       "      <td>-0.009732</td>\n",
       "      <td>0.117317</td>\n",
       "      <td>0.028320</td>\n",
       "      <td>-0.019282</td>\n",
       "      <td>0.367230</td>\n",
       "      <td>0.239381</td>\n",
       "      <td>...</td>\n",
       "      <td>0.081215</td>\n",
       "      <td>0.143418</td>\n",
       "      <td>0.049821</td>\n",
       "      <td>-0.217435</td>\n",
       "      <td>-0.028687</td>\n",
       "      <td>0.003040</td>\n",
       "      <td>0.004929</td>\n",
       "      <td>-0.039616</td>\n",
       "      <td>0.001211</td>\n",
       "      <td>-0.012451</td>\n",
       "    </tr>\n",
       "    <tr>\n",
       "      <th>Level Road?</th>\n",
       "      <td>0.078794</td>\n",
       "      <td>0.337958</td>\n",
       "      <td>-0.129408</td>\n",
       "      <td>0.094268</td>\n",
       "      <td>0.020600</td>\n",
       "      <td>0.083575</td>\n",
       "      <td>0.024609</td>\n",
       "      <td>-0.007157</td>\n",
       "      <td>0.312749</td>\n",
       "      <td>0.196283</td>\n",
       "      <td>...</td>\n",
       "      <td>0.078249</td>\n",
       "      <td>0.102467</td>\n",
       "      <td>0.042664</td>\n",
       "      <td>-0.122241</td>\n",
       "      <td>-0.022496</td>\n",
       "      <td>-0.005587</td>\n",
       "      <td>-0.011734</td>\n",
       "      <td>-0.019959</td>\n",
       "      <td>0.000195</td>\n",
       "      <td>-0.010005</td>\n",
       "    </tr>\n",
       "    <tr>\n",
       "      <th>Hill Crest?</th>\n",
       "      <td>-0.000638</td>\n",
       "      <td>0.010152</td>\n",
       "      <td>-0.015342</td>\n",
       "      <td>-0.024574</td>\n",
       "      <td>-0.017966</td>\n",
       "      <td>-0.002081</td>\n",
       "      <td>-0.005696</td>\n",
       "      <td>0.002070</td>\n",
       "      <td>0.000872</td>\n",
       "      <td>0.000928</td>\n",
       "      <td>...</td>\n",
       "      <td>-0.011105</td>\n",
       "      <td>-0.035559</td>\n",
       "      <td>-0.003829</td>\n",
       "      <td>0.036230</td>\n",
       "      <td>-0.001991</td>\n",
       "      <td>0.002061</td>\n",
       "      <td>0.006316</td>\n",
       "      <td>0.006654</td>\n",
       "      <td>-0.000309</td>\n",
       "      <td>-0.000063</td>\n",
       "    </tr>\n",
       "    <tr>\n",
       "      <th>Dry Road?</th>\n",
       "      <td>0.073938</td>\n",
       "      <td>0.268365</td>\n",
       "      <td>-0.100464</td>\n",
       "      <td>0.076710</td>\n",
       "      <td>0.011664</td>\n",
       "      <td>0.099080</td>\n",
       "      <td>0.129750</td>\n",
       "      <td>0.007135</td>\n",
       "      <td>0.779459</td>\n",
       "      <td>0.227592</td>\n",
       "      <td>...</td>\n",
       "      <td>0.035137</td>\n",
       "      <td>0.076369</td>\n",
       "      <td>0.058760</td>\n",
       "      <td>-0.161190</td>\n",
       "      <td>-0.018004</td>\n",
       "      <td>0.006484</td>\n",
       "      <td>0.022905</td>\n",
       "      <td>-0.003829</td>\n",
       "      <td>-0.000878</td>\n",
       "      <td>-0.012092</td>\n",
       "    </tr>\n",
       "    <tr>\n",
       "      <th>Collision?</th>\n",
       "      <td>0.202242</td>\n",
       "      <td>0.061324</td>\n",
       "      <td>0.081672</td>\n",
       "      <td>0.347301</td>\n",
       "      <td>0.140842</td>\n",
       "      <td>-0.004657</td>\n",
       "      <td>-0.066045</td>\n",
       "      <td>-0.008641</td>\n",
       "      <td>-0.020341</td>\n",
       "      <td>0.221830</td>\n",
       "      <td>...</td>\n",
       "      <td>0.050118</td>\n",
       "      <td>0.424477</td>\n",
       "      <td>0.040874</td>\n",
       "      <td>0.119509</td>\n",
       "      <td>-0.123849</td>\n",
       "      <td>0.009616</td>\n",
       "      <td>0.028489</td>\n",
       "      <td>0.018794</td>\n",
       "      <td>0.002462</td>\n",
       "      <td>0.003757</td>\n",
       "    </tr>\n",
       "    <tr>\n",
       "      <th>Pedestrian</th>\n",
       "      <td>0.262810</td>\n",
       "      <td>0.068047</td>\n",
       "      <td>0.048756</td>\n",
       "      <td>-0.262759</td>\n",
       "      <td>0.245293</td>\n",
       "      <td>0.045514</td>\n",
       "      <td>0.014325</td>\n",
       "      <td>-0.010374</td>\n",
       "      <td>0.027221</td>\n",
       "      <td>-0.011275</td>\n",
       "      <td>...</td>\n",
       "      <td>1.000000</td>\n",
       "      <td>-0.323015</td>\n",
       "      <td>-0.031104</td>\n",
       "      <td>-0.090943</td>\n",
       "      <td>-0.007979</td>\n",
       "      <td>-0.007318</td>\n",
       "      <td>-0.021680</td>\n",
       "      <td>-0.014302</td>\n",
       "      <td>-0.001874</td>\n",
       "      <td>-0.002859</td>\n",
       "    </tr>\n",
       "    <tr>\n",
       "      <th>Other Vehicle?</th>\n",
       "      <td>0.008112</td>\n",
       "      <td>-0.032749</td>\n",
       "      <td>0.141114</td>\n",
       "      <td>0.805413</td>\n",
       "      <td>0.062539</td>\n",
       "      <td>0.037190</td>\n",
       "      <td>-0.009875</td>\n",
       "      <td>-0.043724</td>\n",
       "      <td>0.058038</td>\n",
       "      <td>0.202283</td>\n",
       "      <td>...</td>\n",
       "      <td>-0.323015</td>\n",
       "      <td>1.000000</td>\n",
       "      <td>-0.204934</td>\n",
       "      <td>-0.599186</td>\n",
       "      <td>-0.052571</td>\n",
       "      <td>-0.048213</td>\n",
       "      <td>-0.142839</td>\n",
       "      <td>-0.094230</td>\n",
       "      <td>-0.012346</td>\n",
       "      <td>-0.018839</td>\n",
       "    </tr>\n",
       "    <tr>\n",
       "      <th>Cyclist?</th>\n",
       "      <td>0.168242</td>\n",
       "      <td>0.042377</td>\n",
       "      <td>0.038421</td>\n",
       "      <td>-0.167111</td>\n",
       "      <td>0.155454</td>\n",
       "      <td>0.040547</td>\n",
       "      <td>0.026337</td>\n",
       "      <td>-0.001160</td>\n",
       "      <td>0.045944</td>\n",
       "      <td>0.020225</td>\n",
       "      <td>...</td>\n",
       "      <td>-0.031104</td>\n",
       "      <td>-0.204934</td>\n",
       "      <td>1.000000</td>\n",
       "      <td>-0.057698</td>\n",
       "      <td>-0.005062</td>\n",
       "      <td>-0.004643</td>\n",
       "      <td>-0.013754</td>\n",
       "      <td>-0.009074</td>\n",
       "      <td>-0.001189</td>\n",
       "      <td>-0.001814</td>\n",
       "    </tr>\n",
       "    <tr>\n",
       "      <th>Fixed Object?</th>\n",
       "      <td>-0.057420</td>\n",
       "      <td>0.059217</td>\n",
       "      <td>-0.143536</td>\n",
       "      <td>-0.476660</td>\n",
       "      <td>-0.156201</td>\n",
       "      <td>-0.087397</td>\n",
       "      <td>-0.059514</td>\n",
       "      <td>0.050865</td>\n",
       "      <td>-0.120035</td>\n",
       "      <td>-0.071368</td>\n",
       "      <td>...</td>\n",
       "      <td>-0.090943</td>\n",
       "      <td>-0.599186</td>\n",
       "      <td>-0.057698</td>\n",
       "      <td>1.000000</td>\n",
       "      <td>-0.014801</td>\n",
       "      <td>-0.013574</td>\n",
       "      <td>-0.040215</td>\n",
       "      <td>-0.026530</td>\n",
       "      <td>-0.003476</td>\n",
       "      <td>-0.005304</td>\n",
       "    </tr>\n",
       "    <tr>\n",
       "      <th>Unkown Cause</th>\n",
       "      <td>0.002059</td>\n",
       "      <td>-0.032305</td>\n",
       "      <td>0.012796</td>\n",
       "      <td>-0.004614</td>\n",
       "      <td>0.020332</td>\n",
       "      <td>-0.011343</td>\n",
       "      <td>-0.004757</td>\n",
       "      <td>0.000991</td>\n",
       "      <td>-0.024086</td>\n",
       "      <td>-0.016952</td>\n",
       "      <td>...</td>\n",
       "      <td>-0.007979</td>\n",
       "      <td>-0.052571</td>\n",
       "      <td>-0.005062</td>\n",
       "      <td>-0.014801</td>\n",
       "      <td>1.000000</td>\n",
       "      <td>-0.001191</td>\n",
       "      <td>-0.003528</td>\n",
       "      <td>-0.002328</td>\n",
       "      <td>-0.000305</td>\n",
       "      <td>-0.000465</td>\n",
       "    </tr>\n",
       "    <tr>\n",
       "      <th>Explosion/Fire</th>\n",
       "      <td>-0.023811</td>\n",
       "      <td>0.007354</td>\n",
       "      <td>-0.018415</td>\n",
       "      <td>-0.039687</td>\n",
       "      <td>-0.013254</td>\n",
       "      <td>0.001968</td>\n",
       "      <td>0.000431</td>\n",
       "      <td>0.000402</td>\n",
       "      <td>0.006391</td>\n",
       "      <td>0.001237</td>\n",
       "      <td>...</td>\n",
       "      <td>-0.007318</td>\n",
       "      <td>-0.048213</td>\n",
       "      <td>-0.004643</td>\n",
       "      <td>-0.013574</td>\n",
       "      <td>-0.001191</td>\n",
       "      <td>1.000000</td>\n",
       "      <td>-0.003236</td>\n",
       "      <td>-0.002135</td>\n",
       "      <td>-0.000280</td>\n",
       "      <td>-0.000427</td>\n",
       "    </tr>\n",
       "    <tr>\n",
       "      <th>Animal Involved?</th>\n",
       "      <td>-0.066589</td>\n",
       "      <td>0.005867</td>\n",
       "      <td>-0.047936</td>\n",
       "      <td>-0.118506</td>\n",
       "      <td>-0.049173</td>\n",
       "      <td>0.006939</td>\n",
       "      <td>0.020997</td>\n",
       "      <td>0.005896</td>\n",
       "      <td>0.019584</td>\n",
       "      <td>-0.064182</td>\n",
       "      <td>...</td>\n",
       "      <td>-0.021680</td>\n",
       "      <td>-0.142839</td>\n",
       "      <td>-0.013754</td>\n",
       "      <td>-0.040215</td>\n",
       "      <td>-0.003528</td>\n",
       "      <td>-0.003236</td>\n",
       "      <td>1.000000</td>\n",
       "      <td>-0.006324</td>\n",
       "      <td>-0.000829</td>\n",
       "      <td>-0.001264</td>\n",
       "    </tr>\n",
       "    <tr>\n",
       "      <th>Overturned?</th>\n",
       "      <td>0.035797</td>\n",
       "      <td>0.019864</td>\n",
       "      <td>-0.023064</td>\n",
       "      <td>-0.075940</td>\n",
       "      <td>-0.024280</td>\n",
       "      <td>-0.000331</td>\n",
       "      <td>-0.000684</td>\n",
       "      <td>0.010372</td>\n",
       "      <td>0.000901</td>\n",
       "      <td>0.001409</td>\n",
       "      <td>...</td>\n",
       "      <td>-0.014302</td>\n",
       "      <td>-0.094230</td>\n",
       "      <td>-0.009074</td>\n",
       "      <td>-0.026530</td>\n",
       "      <td>-0.002328</td>\n",
       "      <td>-0.002135</td>\n",
       "      <td>-0.006324</td>\n",
       "      <td>1.000000</td>\n",
       "      <td>-0.000547</td>\n",
       "      <td>-0.000834</td>\n",
       "    </tr>\n",
       "    <tr>\n",
       "      <th>Train?</th>\n",
       "      <td>0.000979</td>\n",
       "      <td>0.002336</td>\n",
       "      <td>0.006074</td>\n",
       "      <td>-0.007594</td>\n",
       "      <td>-0.003123</td>\n",
       "      <td>-0.001661</td>\n",
       "      <td>-0.001324</td>\n",
       "      <td>-0.001520</td>\n",
       "      <td>-0.000206</td>\n",
       "      <td>-0.000308</td>\n",
       "      <td>...</td>\n",
       "      <td>-0.001874</td>\n",
       "      <td>-0.012346</td>\n",
       "      <td>-0.001189</td>\n",
       "      <td>-0.003476</td>\n",
       "      <td>-0.000305</td>\n",
       "      <td>-0.000280</td>\n",
       "      <td>-0.000829</td>\n",
       "      <td>-0.000547</td>\n",
       "      <td>1.000000</td>\n",
       "      <td>-0.000109</td>\n",
       "    </tr>\n",
       "    <tr>\n",
       "      <th>Submerged Car?</th>\n",
       "      <td>-0.005685</td>\n",
       "      <td>-0.010523</td>\n",
       "      <td>-0.000523</td>\n",
       "      <td>-0.015694</td>\n",
       "      <td>-0.005318</td>\n",
       "      <td>-0.005720</td>\n",
       "      <td>0.001725</td>\n",
       "      <td>0.000129</td>\n",
       "      <td>-0.012174</td>\n",
       "      <td>-0.007666</td>\n",
       "      <td>...</td>\n",
       "      <td>-0.002859</td>\n",
       "      <td>-0.018839</td>\n",
       "      <td>-0.001814</td>\n",
       "      <td>-0.005304</td>\n",
       "      <td>-0.000465</td>\n",
       "      <td>-0.000427</td>\n",
       "      <td>-0.001264</td>\n",
       "      <td>-0.000834</td>\n",
       "      <td>-0.000109</td>\n",
       "      <td>1.000000</td>\n",
       "    </tr>\n",
       "  </tbody>\n",
       "</table>\n",
       "<p>27 rows × 27 columns</p>\n",
       "</div>"
      ],
      "text/plain": [
       "                             Injury/Fatality?  Police Report  \\\n",
       "Injury/Fatality?                     1.000000       0.135779   \n",
       "Police Report                        0.135779       1.000000   \n",
       "Traffic Control Device               0.118264      -0.219358   \n",
       "Number of Vehicles Involved          0.072787       0.010157   \n",
       "Population Density                   0.268635      -0.186912   \n",
       "Time                                 0.069633       0.166796   \n",
       "Month                                0.025269       0.016858   \n",
       "Day of Week                          0.002749       0.000522   \n",
       "Precipitation?                       0.060635       0.348706   \n",
       "Daylight?                            0.053378       0.248293   \n",
       "Lit Dark Road?                       0.078467       0.105750   \n",
       "Twilight Hour?                      -0.010908      -0.000531   \n",
       "Straight Road?                       0.068576       0.413476   \n",
       "Level Road?                          0.078794       0.337958   \n",
       "Hill Crest?                         -0.000638       0.010152   \n",
       "Dry Road?                            0.073938       0.268365   \n",
       "Collision?                           0.202242       0.061324   \n",
       "Pedestrian                           0.262810       0.068047   \n",
       "Other Vehicle?                       0.008112      -0.032749   \n",
       "Cyclist?                             0.168242       0.042377   \n",
       "Fixed Object?                       -0.057420       0.059217   \n",
       "Unkown Cause                         0.002059      -0.032305   \n",
       "Explosion/Fire                      -0.023811       0.007354   \n",
       "Animal Involved?                    -0.066589       0.005867   \n",
       "Overturned?                          0.035797       0.019864   \n",
       "Train?                               0.000979       0.002336   \n",
       "Submerged Car?                      -0.005685      -0.010523   \n",
       "\n",
       "                             Traffic Control Device  \\\n",
       "Injury/Fatality?                           0.118264   \n",
       "Police Report                             -0.219358   \n",
       "Traffic Control Device                     1.000000   \n",
       "Number of Vehicles Involved                0.087055   \n",
       "Population Density                         0.151049   \n",
       "Time                                      -0.015946   \n",
       "Month                                      0.001633   \n",
       "Day of Week                               -0.014210   \n",
       "Precipitation?                            -0.137833   \n",
       "Daylight?                                 -0.054910   \n",
       "Lit Dark Road?                            -0.010559   \n",
       "Twilight Hour?                            -0.024551   \n",
       "Straight Road?                            -0.135915   \n",
       "Level Road?                               -0.129408   \n",
       "Hill Crest?                               -0.015342   \n",
       "Dry Road?                                 -0.100464   \n",
       "Collision?                                 0.081672   \n",
       "Pedestrian                                 0.048756   \n",
       "Other Vehicle?                             0.141114   \n",
       "Cyclist?                                   0.038421   \n",
       "Fixed Object?                             -0.143536   \n",
       "Unkown Cause                               0.012796   \n",
       "Explosion/Fire                            -0.018415   \n",
       "Animal Involved?                          -0.047936   \n",
       "Overturned?                               -0.023064   \n",
       "Train?                                     0.006074   \n",
       "Submerged Car?                            -0.000523   \n",
       "\n",
       "                             Number of Vehicles Involved  Population Density  \\\n",
       "Injury/Fatality?                                0.072787            0.268635   \n",
       "Police Report                                   0.010157           -0.186912   \n",
       "Traffic Control Device                          0.087055            0.151049   \n",
       "Number of Vehicles Involved                     1.000000            0.074362   \n",
       "Population Density                              0.074362            1.000000   \n",
       "Time                                            0.031359           -0.013088   \n",
       "Month                                          -0.002897            0.012908   \n",
       "Day of Week                                    -0.032048            0.008560   \n",
       "Precipitation?                                  0.061063           -0.037516   \n",
       "Daylight?                                       0.163605           -0.072753   \n",
       "Lit Dark Road?                                  0.028636            0.107281   \n",
       "Twilight Hour?                                 -0.052638            0.005869   \n",
       "Straight Road?                                  0.136542           -0.009732   \n",
       "Level Road?                                     0.094268            0.020600   \n",
       "Hill Crest?                                    -0.024574           -0.017966   \n",
       "Dry Road?                                       0.076710            0.011664   \n",
       "Collision?                                      0.347301            0.140842   \n",
       "Pedestrian                                     -0.262759            0.245293   \n",
       "Other Vehicle?                                  0.805413            0.062539   \n",
       "Cyclist?                                       -0.167111            0.155454   \n",
       "Fixed Object?                                  -0.476660           -0.156201   \n",
       "Unkown Cause                                   -0.004614            0.020332   \n",
       "Explosion/Fire                                 -0.039687           -0.013254   \n",
       "Animal Involved?                               -0.118506           -0.049173   \n",
       "Overturned?                                    -0.075940           -0.024280   \n",
       "Train?                                         -0.007594           -0.003123   \n",
       "Submerged Car?                                 -0.015694           -0.005318   \n",
       "\n",
       "                                 Time     Month  Day of Week  Precipitation?  \\\n",
       "Injury/Fatality?             0.069633  0.025269     0.002749        0.060635   \n",
       "Police Report                0.166796  0.016858     0.000522        0.348706   \n",
       "Traffic Control Device      -0.015946  0.001633    -0.014210       -0.137833   \n",
       "Number of Vehicles Involved  0.031359 -0.002897    -0.032048        0.061063   \n",
       "Population Density          -0.013088  0.012908     0.008560       -0.037516   \n",
       "Time                         1.000000  0.030842    -0.007677        0.089455   \n",
       "Month                        0.030842  1.000000    -0.018963        0.050363   \n",
       "Day of Week                 -0.007677 -0.018963     1.000000        0.010658   \n",
       "Precipitation?               0.089455  0.050363     0.010658        1.000000   \n",
       "Daylight?                   -0.090249 -0.067312    -0.070868        0.259582   \n",
       "Lit Dark Road?               0.149852  0.048032     0.062694        0.019048   \n",
       "Twilight Hour?              -0.003693  0.012972    -0.006146        0.011335   \n",
       "Straight Road?               0.117317  0.028320    -0.019282        0.367230   \n",
       "Level Road?                  0.083575  0.024609    -0.007157        0.312749   \n",
       "Hill Crest?                 -0.002081 -0.005696     0.002070        0.000872   \n",
       "Dry Road?                    0.099080  0.129750     0.007135        0.779459   \n",
       "Collision?                  -0.004657 -0.066045    -0.008641       -0.020341   \n",
       "Pedestrian                   0.045514  0.014325    -0.010374        0.027221   \n",
       "Other Vehicle?               0.037190 -0.009875    -0.043724        0.058038   \n",
       "Cyclist?                     0.040547  0.026337    -0.001160        0.045944   \n",
       "Fixed Object?               -0.087397 -0.059514     0.050865       -0.120035   \n",
       "Unkown Cause                -0.011343 -0.004757     0.000991       -0.024086   \n",
       "Explosion/Fire               0.001968  0.000431     0.000402        0.006391   \n",
       "Animal Involved?             0.006939  0.020997     0.005896        0.019584   \n",
       "Overturned?                 -0.000331 -0.000684     0.010372        0.000901   \n",
       "Train?                      -0.001661 -0.001324    -0.001520       -0.000206   \n",
       "Submerged Car?              -0.005720  0.001725     0.000129       -0.012174   \n",
       "\n",
       "                             Daylight?  ...  Pedestrian  Other Vehicle?  \\\n",
       "Injury/Fatality?              0.053378  ...    0.262810        0.008112   \n",
       "Police Report                 0.248293  ...    0.068047       -0.032749   \n",
       "Traffic Control Device       -0.054910  ...    0.048756        0.141114   \n",
       "Number of Vehicles Involved   0.163605  ...   -0.262759        0.805413   \n",
       "Population Density           -0.072753  ...    0.245293        0.062539   \n",
       "Time                         -0.090249  ...    0.045514        0.037190   \n",
       "Month                        -0.067312  ...    0.014325       -0.009875   \n",
       "Day of Week                  -0.070868  ...   -0.010374       -0.043724   \n",
       "Precipitation?                0.259582  ...    0.027221        0.058038   \n",
       "Daylight?                     1.000000  ...   -0.011275        0.202283   \n",
       "Lit Dark Road?               -0.561657  ...    0.083932        0.009571   \n",
       "Twilight Hour?               -0.286180  ...    0.008886       -0.065583   \n",
       "Straight Road?                0.239381  ...    0.081215        0.143418   \n",
       "Level Road?                   0.196283  ...    0.078249        0.102467   \n",
       "Hill Crest?                   0.000928  ...   -0.011105       -0.035559   \n",
       "Dry Road?                     0.227592  ...    0.035137        0.076369   \n",
       "Collision?                    0.221830  ...    0.050118        0.424477   \n",
       "Pedestrian                   -0.011275  ...    1.000000       -0.323015   \n",
       "Other Vehicle?                0.202283  ...   -0.323015        1.000000   \n",
       "Cyclist?                      0.020225  ...   -0.031104       -0.204934   \n",
       "Fixed Object?                -0.071368  ...   -0.090943       -0.599186   \n",
       "Unkown Cause                 -0.016952  ...   -0.007979       -0.052571   \n",
       "Explosion/Fire                0.001237  ...   -0.007318       -0.048213   \n",
       "Animal Involved?             -0.064182  ...   -0.021680       -0.142839   \n",
       "Overturned?                   0.001409  ...   -0.014302       -0.094230   \n",
       "Train?                       -0.000308  ...   -0.001874       -0.012346   \n",
       "Submerged Car?               -0.007666  ...   -0.002859       -0.018839   \n",
       "\n",
       "                             Cyclist?  Fixed Object?  Unkown Cause  \\\n",
       "Injury/Fatality?             0.168242      -0.057420      0.002059   \n",
       "Police Report                0.042377       0.059217     -0.032305   \n",
       "Traffic Control Device       0.038421      -0.143536      0.012796   \n",
       "Number of Vehicles Involved -0.167111      -0.476660     -0.004614   \n",
       "Population Density           0.155454      -0.156201      0.020332   \n",
       "Time                         0.040547      -0.087397     -0.011343   \n",
       "Month                        0.026337      -0.059514     -0.004757   \n",
       "Day of Week                 -0.001160       0.050865      0.000991   \n",
       "Precipitation?               0.045944      -0.120035     -0.024086   \n",
       "Daylight?                    0.020225      -0.071368     -0.016952   \n",
       "Lit Dark Road?               0.023474      -0.001941     -0.004210   \n",
       "Twilight Hour?               0.003322       0.006802     -0.002484   \n",
       "Straight Road?               0.049821      -0.217435     -0.028687   \n",
       "Level Road?                  0.042664      -0.122241     -0.022496   \n",
       "Hill Crest?                 -0.003829       0.036230     -0.001991   \n",
       "Dry Road?                    0.058760      -0.161190     -0.018004   \n",
       "Collision?                   0.040874       0.119509     -0.123849   \n",
       "Pedestrian                  -0.031104      -0.090943     -0.007979   \n",
       "Other Vehicle?              -0.204934      -0.599186     -0.052571   \n",
       "Cyclist?                     1.000000      -0.057698     -0.005062   \n",
       "Fixed Object?               -0.057698       1.000000     -0.014801   \n",
       "Unkown Cause                -0.005062      -0.014801      1.000000   \n",
       "Explosion/Fire              -0.004643      -0.013574     -0.001191   \n",
       "Animal Involved?            -0.013754      -0.040215     -0.003528   \n",
       "Overturned?                 -0.009074      -0.026530     -0.002328   \n",
       "Train?                      -0.001189      -0.003476     -0.000305   \n",
       "Submerged Car?              -0.001814      -0.005304     -0.000465   \n",
       "\n",
       "                             Explosion/Fire  Animal Involved?  Overturned?  \\\n",
       "Injury/Fatality?                  -0.023811         -0.066589     0.035797   \n",
       "Police Report                      0.007354          0.005867     0.019864   \n",
       "Traffic Control Device            -0.018415         -0.047936    -0.023064   \n",
       "Number of Vehicles Involved       -0.039687         -0.118506    -0.075940   \n",
       "Population Density                -0.013254         -0.049173    -0.024280   \n",
       "Time                               0.001968          0.006939    -0.000331   \n",
       "Month                              0.000431          0.020997    -0.000684   \n",
       "Day of Week                        0.000402          0.005896     0.010372   \n",
       "Precipitation?                     0.006391          0.019584     0.000901   \n",
       "Daylight?                          0.001237         -0.064182     0.001409   \n",
       "Lit Dark Road?                    -0.008160         -0.012616    -0.009418   \n",
       "Twilight Hour?                    -0.002536          0.020238     0.000350   \n",
       "Straight Road?                     0.003040          0.004929    -0.039616   \n",
       "Level Road?                       -0.005587         -0.011734    -0.019959   \n",
       "Hill Crest?                        0.002061          0.006316     0.006654   \n",
       "Dry Road?                          0.006484          0.022905    -0.003829   \n",
       "Collision?                         0.009616          0.028489     0.018794   \n",
       "Pedestrian                        -0.007318         -0.021680    -0.014302   \n",
       "Other Vehicle?                    -0.048213         -0.142839    -0.094230   \n",
       "Cyclist?                          -0.004643         -0.013754    -0.009074   \n",
       "Fixed Object?                     -0.013574         -0.040215    -0.026530   \n",
       "Unkown Cause                      -0.001191         -0.003528    -0.002328   \n",
       "Explosion/Fire                     1.000000         -0.003236    -0.002135   \n",
       "Animal Involved?                  -0.003236          1.000000    -0.006324   \n",
       "Overturned?                       -0.002135         -0.006324     1.000000   \n",
       "Train?                            -0.000280         -0.000829    -0.000547   \n",
       "Submerged Car?                    -0.000427         -0.001264    -0.000834   \n",
       "\n",
       "                               Train?  Submerged Car?  \n",
       "Injury/Fatality?             0.000979       -0.005685  \n",
       "Police Report                0.002336       -0.010523  \n",
       "Traffic Control Device       0.006074       -0.000523  \n",
       "Number of Vehicles Involved -0.007594       -0.015694  \n",
       "Population Density          -0.003123       -0.005318  \n",
       "Time                        -0.001661       -0.005720  \n",
       "Month                       -0.001324        0.001725  \n",
       "Day of Week                 -0.001520        0.000129  \n",
       "Precipitation?              -0.000206       -0.012174  \n",
       "Daylight?                   -0.000308       -0.007666  \n",
       "Lit Dark Road?               0.000112       -0.001830  \n",
       "Twilight Hour?               0.001729        0.000252  \n",
       "Straight Road?               0.001211       -0.012451  \n",
       "Level Road?                  0.000195       -0.010005  \n",
       "Hill Crest?                 -0.000309       -0.000063  \n",
       "Dry Road?                   -0.000878       -0.012092  \n",
       "Collision?                   0.002462        0.003757  \n",
       "Pedestrian                  -0.001874       -0.002859  \n",
       "Other Vehicle?              -0.012346       -0.018839  \n",
       "Cyclist?                    -0.001189       -0.001814  \n",
       "Fixed Object?               -0.003476       -0.005304  \n",
       "Unkown Cause                -0.000305       -0.000465  \n",
       "Explosion/Fire              -0.000280       -0.000427  \n",
       "Animal Involved?            -0.000829       -0.001264  \n",
       "Overturned?                 -0.000547       -0.000834  \n",
       "Train?                       1.000000       -0.000109  \n",
       "Submerged Car?              -0.000109        1.000000  \n",
       "\n",
       "[27 rows x 27 columns]"
      ]
     },
     "execution_count": 140,
     "metadata": {},
     "output_type": "execute_result"
    }
   ],
   "source": [
    "heat.corr()"
   ]
  },
  {
   "cell_type": "code",
   "execution_count": 141,
   "metadata": {
    "scrolled": false
   },
   "outputs": [
    {
     "data": {
      "image/png": "[encoded data removed]",
      "text/plain": [
       "<Figure size 720x576 with 2 Axes>"
      ]
     },
     "metadata": {
      "needs_background": "light"
     },
     "output_type": "display_data"
    }
   ],
   "source": [
    "plt.figure(figsize = (10,8))\n",
    "sns.heatmap(heat.corr(), cmap=\"YlGnBu\");\n",
    "# plt.savefig('heat_map.jpg')"
   ]
  },
  {
   "cell_type": "markdown",
   "metadata": {},
   "source": [
    "1) I can possibly drop the \"Other Vehicle\" feature as it's covered in the \"Number of Vehicles\"\n"
   ]
  },
  {
   "cell_type": "code",
   "execution_count": 219,
   "metadata": {
    "scrolled": true
   },
   "outputs": [
    {
     "data": {
      "text/plain": [
       "array(['Injury/Fatality?', 'Police Report', 'Traffic Control Device',\n",
       "       'Number of Vehicles Involved', 'Population Density', 'Time',\n",
       "       'Month', 'Day of Week', 'Precipitation?', 'Daylight?',\n",
       "       'Lit Dark Road?', 'Twilight Hour?', 'Straight Road?',\n",
       "       'Level Road?', 'Hill Crest?', 'Dry Road?', 'Collision?',\n",
       "       'Pedestrian', 'Other Vehicle?', 'Cyclist?', 'Fixed Object?',\n",
       "       'Unkown Cause', 'Explosion/Fire', 'Animal Involved?',\n",
       "       'Overturned?', 'Train?', 'Submerged Car?'], dtype=object)"
      ]
     },
     "execution_count": 219,
     "metadata": {},
     "output_type": "execute_result"
    }
   ],
   "source": [
    "heat.columns.values"
   ]
  },
  {
   "cell_type": "code",
   "execution_count": 220,
   "metadata": {},
   "outputs": [],
   "source": [
    "col_list = ['Injury/Fatality?', 'Police Report', 'Traffic Control Device',\n",
    "       'Number of Vehicles Involved', 'Population Density', 'Time',\n",
    "       'Month', 'Day of Week', 'Precipitation?', 'Daylight?',\n",
    "       'Lit Dark Road?', 'Twilight Hour?', 'Straight Road?',\n",
    "       'Level Road?', 'Hill Crest?', 'Dry Road?', 'Collision?',\n",
    "       'Pedestrian', 'Other Vehicle?', 'Cyclist?', 'Fixed Object?',\n",
    "       'Unkown Cause', 'Explosion/Fire', 'Animal Involved?',\n",
    "       'Overturned?', 'Train?', 'Submerged Car?']"
   ]
  },
  {
   "cell_type": "markdown",
   "metadata": {},
   "source": [
    "## 3 - Modeling"
   ]
  },
  {
   "cell_type": "markdown",
   "metadata": {},
   "source": [
    "### Imports and Splitting"
   ]
  },
  {
   "cell_type": "code",
   "execution_count": 142,
   "metadata": {},
   "outputs": [],
   "source": [
    "from sklearn.linear_model import LogisticRegression\n",
    "from sklearn.model_selection import train_test_split\n",
    "from sklearn.metrics import precision_score, recall_score, accuracy_score, roc_auc_score\n",
    "from sklearn.metrics import confusion_matrix\n",
    "from sklearn.preprocessing import StandardScaler\n",
    "from sklearn.metrics import recall_score\n",
    "from sklearn.metrics import precision_score\n",
    "from sklearn.metrics import f1_score"
   ]
  },
  {
   "cell_type": "markdown",
   "metadata": {},
   "source": [
    "#### Splits for Low Features"
   ]
  },
  {
   "cell_type": "code",
   "execution_count": 259,
   "metadata": {},
   "outputs": [],
   "source": [
    "X, y = heat.iloc[:, 1:], heat.iloc[:, 0]"
   ]
  },
  {
   "cell_type": "code",
   "execution_count": 143,
   "metadata": {},
   "outputs": [],
   "source": [
    "X_train, X_test, y_train, y_test = train_test_split(heat.iloc[:, 1:], heat.iloc[:, 0], \n",
    "                                                    test_size = 0.2, random_state=422)"
   ]
  },
  {
   "cell_type": "code",
   "execution_count": 144,
   "metadata": {},
   "outputs": [],
   "source": [
    "X_train, X_val, y_train, y_val = train_test_split(X_train ,y_train, test_size=.25, random_state=422)"
   ]
  },
  {
   "cell_type": "markdown",
   "metadata": {},
   "source": [
    "#### Splits for MAX features"
   ]
  },
  {
   "cell_type": "code",
   "execution_count": 280,
   "metadata": {},
   "outputs": [],
   "source": [
    "X_train2, X_test2, y_train2, y_test2 = train_test_split(df.iloc[:, 1:], heat.iloc[:, 0], \n",
    "                                                    test_size = 0.2, random_state=422)"
   ]
  },
  {
   "cell_type": "code",
   "execution_count": 281,
   "metadata": {},
   "outputs": [],
   "source": [
    "X_train2, X_val2, y_train2, y_val2 = train_test_split(X_train2 ,y_train2, test_size=.25, random_state=422)"
   ]
  },
  {
   "cell_type": "markdown",
   "metadata": {},
   "source": [
    "### 3.1 - \"Dumb\" Model"
   ]
  },
  {
   "cell_type": "code",
   "execution_count": 145,
   "metadata": {},
   "outputs": [],
   "source": [
    "def no_injury(x):\n",
    "    array = len(x) * [0]\n",
    "    return np.array(array)"
   ]
  },
  {
   "cell_type": "code",
   "execution_count": 146,
   "metadata": {},
   "outputs": [
    {
     "data": {
      "text/plain": [
       "0.6038370297428552"
      ]
     },
     "execution_count": 146,
     "metadata": {},
     "output_type": "execute_result"
    }
   ],
   "source": [
    "dumb_pred = no_injury(X_val)\n",
    "dumb_confusion = confusion_matrix(y_val,dumb_pred)\n",
    "dumb_score = accuracy_score(y_val,dumb_pred)\n",
    "dumb_score"
   ]
  },
  {
   "cell_type": "code",
   "execution_count": 147,
   "metadata": {},
   "outputs": [
    {
     "data": {
      "text/plain": [
       "Text(0.5, 1, 'All \"No Injury\" Confusion Matrix')"
      ]
     },
     "execution_count": 147,
     "metadata": {},
     "output_type": "execute_result"
    },
    {
     "data": {
      "image/png": "[encoded data removed]",
      "text/plain": [
       "<Figure size 600x400 with 2 Axes>"
      ]
     },
     "metadata": {
      "needs_background": "light"
     },
     "output_type": "display_data"
    }
   ],
   "source": [
    "plt.figure(dpi=100)\n",
    "sns.heatmap(dumb_confusion, cmap=\"YlGnBu\", annot=True, fmt='g',\n",
    "       xticklabels=['Property Damage', 'Injury/Fatality'],\n",
    "       yticklabels=['Property Damage', 'Injury/Fatality'])\n",
    "plt.xlabel('Predicted')\n",
    "plt.ylabel('Actual')\n",
    "plt.title('All \"No Injury\" Confusion Matrix')"
   ]
  },
  {
   "cell_type": "markdown",
   "metadata": {},
   "source": [
    "### 3.2 - Logistic Reg"
   ]
  },
  {
   "cell_type": "code",
   "execution_count": 148,
   "metadata": {},
   "outputs": [
    {
     "data": {
      "text/plain": [
       "LogisticRegression(C=1000, class_weight=None, dual=False, fit_intercept=True,\n",
       "                   intercept_scaling=1, l1_ratio=None, max_iter=1000,\n",
       "                   multi_class='auto', n_jobs=None, penalty='l2',\n",
       "                   random_state=None, solver='lbfgs', tol=0.0001, verbose=0,\n",
       "                   warm_start=False)"
      ]
     },
     "execution_count": 148,
     "metadata": {},
     "output_type": "execute_result"
    }
   ],
   "source": [
    "lm1 = LogisticRegression(C=1000, max_iter=1000)\n",
    "lm1.fit(X_train, y_train)"
   ]
  },
  {
   "cell_type": "code",
   "execution_count": 149,
   "metadata": {},
   "outputs": [],
   "source": [
    "y_predict = lm1.predict(X_val)"
   ]
  },
  {
   "cell_type": "code",
   "execution_count": 150,
   "metadata": {},
   "outputs": [
    {
     "data": {
      "text/plain": [
       "0.6722635006602063"
      ]
     },
     "execution_count": 150,
     "metadata": {},
     "output_type": "execute_result"
    }
   ],
   "source": [
    "accuracy_score(y_val,y_predict)"
   ]
  },
  {
   "cell_type": "code",
   "execution_count": 151,
   "metadata": {
    "scrolled": true
   },
   "outputs": [
    {
     "data": {
      "text/plain": [
       "0.6724518969848543"
      ]
     },
     "execution_count": 151,
     "metadata": {},
     "output_type": "execute_result"
    }
   ],
   "source": [
    "lm1.score(X_train, y_train) "
   ]
  },
  {
   "cell_type": "markdown",
   "metadata": {},
   "source": [
    "#### .30 Threshold"
   ]
  },
  {
   "cell_type": "code",
   "execution_count": 201,
   "metadata": {},
   "outputs": [],
   "source": [
    "y_pred_thresh = (lm1.predict_proba(X_val)[:,1] >= 0.30).astype(bool)"
   ]
  },
  {
   "cell_type": "code",
   "execution_count": 202,
   "metadata": {},
   "outputs": [
    {
     "data": {
      "text/plain": [
       "0.44392162567419374"
      ]
     },
     "execution_count": 202,
     "metadata": {},
     "output_type": "execute_result"
    }
   ],
   "source": [
    "accuracy_score(y_val,y_pred_thresh)"
   ]
  },
  {
   "cell_type": "code",
   "execution_count": 203,
   "metadata": {},
   "outputs": [
    {
     "name": "stdout",
     "output_type": "stream",
     "text": [
      "The recall score is 0.9034982416992671.\n",
      "The precision score is 0.4087012074362742.\n",
      "The f1 score is 0.5628120367560054.\n"
     ]
    }
   ],
   "source": [
    "y_pred_thresh = (lm1.predict_proba(X_val)[:,1] >= 0.30).astype(bool)\n",
    "\n",
    "print(f' The accuracy score is {accuracy_score(y_val,y_pred_thresh)}')\n",
    "\n",
    "recallscore = recall_score(y_val,y_pred_thresh)\n",
    "pscore = precision_score(y_val, y_pred_thresh)\n",
    "fscore = f1_score(y_val, y_pred_thresh)\n",
    "\n",
    "print(f'The recall score is {recallscore}.')\n",
    "print(f'The precision score is {pscore}.')\n",
    "print(f'The f1 score is {fscore}.')"
   ]
  },
  {
   "cell_type": "markdown",
   "metadata": {},
   "source": [
    "#### Normal Thresh"
   ]
  },
  {
   "cell_type": "code",
   "execution_count": 152,
   "metadata": {},
   "outputs": [
    {
     "name": "stdout",
     "output_type": "stream",
     "text": [
      "The recall score is 0.3115652407247871.\n",
      "The precision score is 0.6917408754546595.\n",
      "The f1 score is 0.4296244364599461.\n"
     ]
    }
   ],
   "source": [
    "recallscore = recall_score(y_val,y_predict)\n",
    "pscore = precision_score(y_val, y_predict)\n",
    "fscore = f1_score(y_val, y_predict)\n",
    "\n",
    "print(f'The recall score is {recallscore}.')\n",
    "print(f'The precision score is {pscore}.')\n",
    "print(f'The f1 score is {fscore}.')"
   ]
  },
  {
   "cell_type": "code",
   "execution_count": 153,
   "metadata": {
    "scrolled": true
   },
   "outputs": [],
   "source": [
    "confusion = confusion_matrix(y_test,y_predict)"
   ]
  },
  {
   "cell_type": "code",
   "execution_count": 154,
   "metadata": {
    "scrolled": true
   },
   "outputs": [
    {
     "data": {
      "text/plain": [
       "Text(0.5, 1, 'Log Reg Confusion Matrix')"
      ]
     },
     "execution_count": 154,
     "metadata": {},
     "output_type": "execute_result"
    },
    {
     "data": {
      "image/png": "[encoded data removed]",
      "text/plain": [
       "<Figure size 600x400 with 2 Axes>"
      ]
     },
     "metadata": {
      "needs_background": "light"
     },
     "output_type": "display_data"
    }
   ],
   "source": [
    "plt.figure(dpi=100)\n",
    "sns.heatmap(confusion, cmap='YlGnBu', annot=True, fmt='g',\n",
    "       xticklabels=['Property Damage', 'Injury/Fatality'],\n",
    "       yticklabels=['Property Damage', 'Injury/Fatality'])\n",
    "plt.xlabel('Predicted')\n",
    "plt.ylabel('Actual')\n",
    "plt.title('Log Reg Confusion Matrix')"
   ]
  },
  {
   "cell_type": "code",
   "execution_count": 255,
   "metadata": {},
   "outputs": [
    {
     "name": "stdout",
     "output_type": "stream",
     "text": [
      "ROC AUC score =  0.6311297147106996\n"
     ]
    },
    {
     "data": {
      "image/png": "[encoded data removed]",
      "text/plain": [
       "<Figure size 432x288 with 1 Axes>"
      ]
     },
     "metadata": {
      "needs_background": "light"
     },
     "output_type": "display_data"
    }
   ],
   "source": [
    "fpr, tpr, thresholds = roc_curve(y_val, lm1.predict_proba(X_val)[:,1])\n",
    "plt.plot(fpr, tpr,lw=2)\n",
    "plt.plot([0,1],[0,1],c='red',ls='--')\n",
    "plt.xlim([-0.05,1.05])\n",
    "plt.ylim([-0.05,1.05])\n",
    "\n",
    "plt.xlabel('False positive rate')\n",
    "plt.ylabel('True positive rate')\n",
    "plt.title('ROC curve for Log Reg');\n",
    "print(\"ROC AUC score = \", roc_auc_score(y_val, lm1.predict_proba(X_val)[:,1]))"
   ]
  },
  {
   "cell_type": "markdown",
   "metadata": {},
   "source": [
    "#### Getting Coefficents"
   ]
  },
  {
   "cell_type": "code",
   "execution_count": 227,
   "metadata": {},
   "outputs": [
    {
     "data": {
      "text/plain": [
       "1"
      ]
     },
     "execution_count": 227,
     "metadata": {},
     "output_type": "execute_result"
    }
   ],
   "source": [
    "len(lm1.coef_)"
   ]
  },
  {
   "cell_type": "code",
   "execution_count": 231,
   "metadata": {},
   "outputs": [],
   "source": [
    "shaved = heat.iloc[:,1:]"
   ]
  },
  {
   "cell_type": "code",
   "execution_count": 233,
   "metadata": {
    "scrolled": true
   },
   "outputs": [
    {
     "data": {
      "text/plain": [
       "array(['Police Report', 'Traffic Control Device',\n",
       "       'Number of Vehicles Involved', 'Population Density', 'Time',\n",
       "       'Month', 'Day of Week', 'Precipitation?', 'Daylight?',\n",
       "       'Lit Dark Road?', 'Twilight Hour?', 'Straight Road?',\n",
       "       'Level Road?', 'Hill Crest?', 'Dry Road?', 'Collision?',\n",
       "       'Pedestrian', 'Other Vehicle?', 'Cyclist?', 'Fixed Object?',\n",
       "       'Unkown Cause', 'Explosion/Fire', 'Animal Involved?',\n",
       "       'Overturned?', 'Train?', 'Submerged Car?'], dtype=object)"
      ]
     },
     "execution_count": 233,
     "metadata": {},
     "output_type": "execute_result"
    }
   ],
   "source": [
    "shaved.columns.values"
   ]
  },
  {
   "cell_type": "code",
   "execution_count": 241,
   "metadata": {},
   "outputs": [],
   "source": [
    "new = np.array(['Police Report Made', 'Traffic Control Device Present',\n",
    "       'Number of Vehicles Involved', 'Population Density', 'Time',\n",
    "       'Month', 'Day of Week', 'Precipitation?', 'Daylight?',\n",
    "       'Lit Dark Road', 'Twilight Hour?', 'Straight Road?',\n",
    "       'Level Road', 'Hill Crest?', 'Dry Road?', 'Collision?',\n",
    "       'Pedestrian Involved', 'Other Vehicle?', 'Cyclist Involved', 'Fixed Object?',\n",
    "       'Unkown Cause', 'Explosion/Fire', 'Animal Involved?',\n",
    "       'Overturned?', 'Train?', 'Submerged Car?'], dtype=object)"
   ]
  },
  {
   "cell_type": "code",
   "execution_count": 229,
   "metadata": {
    "scrolled": true
   },
   "outputs": [
    {
     "data": {
      "text/plain": [
       "array([[ 1.78094498e-02,  1.16822815e-02, -3.85772977e-02,\n",
       "         3.37486455e-05,  1.08904052e-03, -2.10358413e-02,\n",
       "        -1.06533486e-01, -4.81500580e-03,  1.29053286e-04,\n",
       "         1.12458319e-02, -3.83293466e-03, -7.96537170e-03,\n",
       "        -2.49807943e-03, -4.63032864e-04,  3.54119763e-03,\n",
       "        -1.95771993e-03,  3.00555369e-02, -2.68772916e-02,\n",
       "         1.28635088e-02, -1.26291951e-02, -1.71686282e-04,\n",
       "        -5.19174520e-04, -4.23587106e-03,  1.87969475e-03,\n",
       "         1.15646862e-05, -4.13409424e-05]])"
      ]
     },
     "execution_count": 229,
     "metadata": {},
     "output_type": "execute_result"
    }
   ],
   "source": [
    "lm1.coef_"
   ]
  },
  {
   "cell_type": "code",
   "execution_count": 228,
   "metadata": {},
   "outputs": [
    {
     "data": {
      "text/plain": [
       "27"
      ]
     },
     "execution_count": 228,
     "metadata": {},
     "output_type": "execute_result"
    }
   ],
   "source": [
    "len(heat.columns.values)"
   ]
  },
  {
   "cell_type": "code",
   "execution_count": 239,
   "metadata": {
    "scrolled": true
   },
   "outputs": [],
   "source": [
    "logReg_coeff = pd.DataFrame({'feature_name': new, 'model_coefficient': lm1.coef_.transpose().flatten()})"
   ]
  },
  {
   "cell_type": "code",
   "execution_count": 252,
   "metadata": {},
   "outputs": [
    {
     "data": {
      "image/png": "[encoded data removed]",
      "text/plain": [
       "<Figure size 720x432 with 1 Axes>"
      ]
     },
     "metadata": {
      "needs_background": "light"
     },
     "output_type": "display_data"
    },
    {
     "data": {
      "image/png": "[encoded data removed]",
      "text/plain": [
       "<Figure size 720x432 with 1 Axes>"
      ]
     },
     "metadata": {
      "needs_background": "light"
     },
     "output_type": "display_data"
    }
   ],
   "source": [
    "# Get the models coefficients (and top 5 and bottom 5)\n",
    "logReg_coeff = pd.DataFrame({'feature_name': new, 'model_coefficient': lm1.coef_.transpose().flatten()})\n",
    "logReg_coeff = logReg_coeff.sort_values('model_coefficient',ascending=False)\n",
    "logReg_coeff_top = logReg_coeff.head(5)\n",
    "logReg_coeff_bottom = logReg_coeff.tail(5)\n",
    "# Plot top 5 coefficients\n",
    "plt.figure().set_size_inches(10, 6)\n",
    "fg3 = sns.barplot(x='feature_name', y='model_coefficient',data=logReg_coeff_top, palette=\"Blues_d\")\n",
    "fg3.set_xticklabels(rotation=35, labels=logReg_coeff_top.feature_name)\n",
    "plt.title('Top 5 Logistic Reg Coefficients')\n",
    "plt.savefig('top_coefficents.jpg')\n",
    "# Plot bottom 5 coefficients\n",
    "plt.figure().set_size_inches(10,6)\n",
    "fg4 = sns.barplot(x='feature_name', y='model_coefficient',data=logReg_coeff_bottom, palette=\"GnBu_d\")\n",
    "fg4.set_xticklabels(rotation=35, labels=logReg_coeff_bottom.feature_name)\n",
    "plt.xlabel('Feature')\n",
    "plt.ylabel('Coefficient')\n",
    "plt.subplots_adjust(bottom=0.4)\n",
    "plt.savefig('figure_4.png')"
   ]
  },
  {
   "cell_type": "markdown",
   "metadata": {},
   "source": [
    "### 3.3 - KNN"
   ]
  },
  {
   "cell_type": "code",
   "execution_count": 155,
   "metadata": {},
   "outputs": [],
   "source": [
    "from sklearn.neighbors import KNeighborsClassifier"
   ]
  },
  {
   "cell_type": "raw",
   "metadata": {},
   "source": [
    "#Run When looking for new K scores if features changed\n",
    "for k in range(1,11):\n",
    "    kneighbors = KNeighborsClassifier(n_neighbors=k)\n",
    "    model = kneighbors.fit(X_train,y_train)\n",
    "    y_pred = model.predict(X_val)\n",
    "    score = accuracy_score(y_val,y_pred)\n",
    "    print('K value {} k-neighbor is:'.format(k),score)"
   ]
  },
  {
   "cell_type": "markdown",
   "metadata": {},
   "source": [
    "Let's just stick to 10 and call it a day."
   ]
  },
  {
   "cell_type": "code",
   "execution_count": 156,
   "metadata": {},
   "outputs": [],
   "source": [
    "kneighbors = KNeighborsClassifier(n_neighbors=10)\n",
    "knn_model = kneighbors.fit(X_train,y_train)\n",
    "knn_y_pred = knn_model.predict(X_val)\n",
    "knn_score = accuracy_score(y_val,knn_y_pred)"
   ]
  },
  {
   "cell_type": "code",
   "execution_count": 157,
   "metadata": {},
   "outputs": [],
   "source": [
    "knn_score = accuracy_score(y_val,knn_y_pred)"
   ]
  },
  {
   "cell_type": "code",
   "execution_count": 158,
   "metadata": {},
   "outputs": [
    {
     "data": {
      "text/plain": [
       "0.695219658483092"
      ]
     },
     "execution_count": 158,
     "metadata": {},
     "output_type": "execute_result"
    }
   ],
   "source": [
    "knn_score"
   ]
  },
  {
   "cell_type": "code",
   "execution_count": 159,
   "metadata": {},
   "outputs": [
    {
     "name": "stdout",
     "output_type": "stream",
     "text": [
      "The recall score is 0.426864575536317.\n",
      "The precision score is 0.6851100482807081.\n",
      "The f1 score is 0.525999791166336.\n"
     ]
    }
   ],
   "source": [
    "recallscore = recall_score(y_val,knn_y_pred)\n",
    "pscore = precision_score(y_val, knn_y_pred)\n",
    "fscore = f1_score(y_val, knn_y_pred)\n",
    "\n",
    "print(f'The recall score is {recallscore}.')\n",
    "print(f'The precision score is {pscore}.')\n",
    "print(f'The f1 score is {fscore}.')"
   ]
  },
  {
   "cell_type": "code",
   "execution_count": 160,
   "metadata": {},
   "outputs": [],
   "source": [
    "knn_confusion = confusion_matrix(y_val,knn_y_pred)"
   ]
  },
  {
   "cell_type": "code",
   "execution_count": 161,
   "metadata": {
    "scrolled": true
   },
   "outputs": [
    {
     "data": {
      "text/plain": [
       "Text(0.5, 1, 'KNN Confusion Matrix')"
      ]
     },
     "execution_count": 161,
     "metadata": {},
     "output_type": "execute_result"
    },
    {
     "data": {
      "image/png": "[encoded data removed]",
      "text/plain": [
       "<Figure size 600x400 with 2 Axes>"
      ]
     },
     "metadata": {
      "needs_background": "light"
     },
     "output_type": "display_data"
    }
   ],
   "source": [
    "plt.figure(dpi=100)\n",
    "sns.heatmap(knn_confusion, cmap='YlGnBu', annot=True, fmt='g',\n",
    "       xticklabels=['Property Damage', 'Injury/Fatality'],\n",
    "       yticklabels=['Property Damage', 'Injury/Fatality'])\n",
    "plt.xlabel('Predicted outcome')\n",
    "plt.ylabel('Actual outcome')\n",
    "plt.title('KNN Confusion Matrix')"
   ]
  },
  {
   "cell_type": "code",
   "execution_count": 182,
   "metadata": {},
   "outputs": [
    {
     "name": "stdout",
     "output_type": "stream",
     "text": [
      "ROC AUC score =  0.7152376835387397\n"
     ]
    },
    {
     "data": {
      "image/png": "[encoded data removed]",
      "text/plain": [
       "<Figure size 432x288 with 1 Axes>"
      ]
     },
     "metadata": {
      "needs_background": "light"
     },
     "output_type": "display_data"
    }
   ],
   "source": [
    "fpr, tpr, thresholds = roc_curve(y_val, knn_model.predict_proba(X_val)[:,1])\n",
    "plt.plot(fpr, tpr,lw=2)\n",
    "plt.plot([0,1],[0,1],c='red',ls='--')\n",
    "plt.xlim([-0.05,1.05])\n",
    "plt.ylim([-0.05,1.05])\n",
    "\n",
    "plt.xlabel('False positive rate')\n",
    "plt.ylabel('True positive rate')\n",
    "plt.title('ROC curve for KNN 10');\n",
    "print(\"ROC AUC score = \", roc_auc_score(y_val, knn_model.predict_proba(X_val)[:,1]))"
   ]
  },
  {
   "cell_type": "markdown",
   "metadata": {},
   "source": [
    "### 3.4 - Decision Tree "
   ]
  },
  {
   "cell_type": "code",
   "execution_count": 162,
   "metadata": {},
   "outputs": [],
   "source": [
    "from sklearn.tree import DecisionTreeClassifier"
   ]
  },
  {
   "cell_type": "code",
   "execution_count": 163,
   "metadata": {},
   "outputs": [
    {
     "data": {
      "text/plain": [
       "0.9053232697927799"
      ]
     },
     "execution_count": 163,
     "metadata": {},
     "output_type": "execute_result"
    }
   ],
   "source": [
    "tree = DecisionTreeClassifier()\n",
    "tree.fit(X_train, y_train)\n",
    "tree.score(X_train, y_train)"
   ]
  },
  {
   "cell_type": "code",
   "execution_count": 164,
   "metadata": {},
   "outputs": [
    {
     "data": {
      "text/plain": [
       "0.6578228856612134"
      ]
     },
     "execution_count": 164,
     "metadata": {},
     "output_type": "execute_result"
    }
   ],
   "source": [
    "tree.score(X_val, y_val)"
   ]
  },
  {
   "cell_type": "markdown",
   "metadata": {},
   "source": [
    "#### .3 Thresh"
   ]
  },
  {
   "cell_type": "code",
   "execution_count": 208,
   "metadata": {},
   "outputs": [
    {
     "name": "stdout",
     "output_type": "stream",
     "text": [
      "The accuracy score is 0.6322147125304926\n",
      "The recall score is 0.640671120086997.\n",
      "The precision score is 0.529606799290184.\n",
      "The f1 score is 0.5798687229568651.\n"
     ]
    }
   ],
   "source": [
    "y_pred_thresh = (tree.predict_proba(X_val)[:,1] >= 0.30).astype(bool)\n",
    "\n",
    "print(f'The accuracy score is {accuracy_score(y_val,y_pred_thresh)}')\n",
    "\n",
    "recallscore = recall_score(y_val,y_pred_thresh)\n",
    "pscore = precision_score(y_val, y_pred_thresh)\n",
    "fscore = f1_score(y_val, y_pred_thresh)\n",
    "\n",
    "print(f'The recall score is {recallscore}.')\n",
    "print(f'The precision score is {pscore}.')\n",
    "print(f'The f1 score is {fscore}.')"
   ]
  },
  {
   "cell_type": "markdown",
   "metadata": {},
   "source": [
    "#### Normal Thresh"
   ]
  },
  {
   "cell_type": "code",
   "execution_count": 165,
   "metadata": {},
   "outputs": [
    {
     "name": "stdout",
     "output_type": "stream",
     "text": [
      "The recall score is 0.5181408617792026.\n",
      "The precision score is 0.5757057448177382.\n",
      "The f1 score is 0.5454085955966521.\n"
     ]
    }
   ],
   "source": [
    "tree_pred = tree.predict(X_val)\n",
    "recallscore = recall_score(y_val,tree_pred)\n",
    "pscore = precision_score(y_val, tree_pred)\n",
    "fscore = f1_score(y_val, tree_pred)\n",
    "\n",
    "print(f'The recall score is {recallscore}.')\n",
    "print(f'The precision score is {pscore}.')\n",
    "print(f'The f1 score is {fscore}.')"
   ]
  },
  {
   "cell_type": "code",
   "execution_count": 166,
   "metadata": {},
   "outputs": [],
   "source": [
    "tree_confusion = confusion_matrix(y_val,tree_pred)"
   ]
  },
  {
   "cell_type": "code",
   "execution_count": 167,
   "metadata": {
    "scrolled": true
   },
   "outputs": [
    {
     "data": {
      "text/plain": [
       "Text(0.5, 1, 'Decision Tree Confusion Matrix')"
      ]
     },
     "execution_count": 167,
     "metadata": {},
     "output_type": "execute_result"
    },
    {
     "data": {
      "image/png": "[encoded data removed]",
      "text/plain": [
       "<Figure size 600x400 with 2 Axes>"
      ]
     },
     "metadata": {
      "needs_background": "light"
     },
     "output_type": "display_data"
    }
   ],
   "source": [
    "plt.figure(dpi=100)\n",
    "sns.heatmap(tree_confusion, cmap='YlGnBu', annot=True, fmt='g',\n",
    "       xticklabels=['Property Damage', 'Injury/Fatality'],\n",
    "       yticklabels=['Property Damage', 'Injury/Fatality'])\n",
    "plt.xlabel('Predicted outcome')\n",
    "plt.ylabel('Actual outcome')\n",
    "plt.title('Decision Tree Confusion Matrix')"
   ]
  },
  {
   "cell_type": "code",
   "execution_count": 185,
   "metadata": {},
   "outputs": [
    {
     "name": "stdout",
     "output_type": "stream",
     "text": [
      "ROC AUC score =  0.6544977309947504\n"
     ]
    },
    {
     "data": {
      "image/png": "[encoded data removed]",
      "text/plain": [
       "<Figure size 432x288 with 1 Axes>"
      ]
     },
     "metadata": {
      "needs_background": "light"
     },
     "output_type": "display_data"
    }
   ],
   "source": [
    "fpr, tpr, thresholds = roc_curve(y_val, tree.predict_proba(X_val)[:,1])\n",
    "plt.plot(fpr, tpr,lw=2)\n",
    "plt.plot([0,1],[0,1],c='red',ls='--')\n",
    "plt.xlim([-0.05,1.05])\n",
    "plt.ylim([-0.05,1.05])\n",
    "\n",
    "plt.xlabel('False positive rate')\n",
    "plt.ylabel('True positive rate')\n",
    "plt.title('ROC curve for Decision Tree');\n",
    "print(\"ROC AUC score = \", roc_auc_score(y_val, tree.predict_proba(X_val)[:,1]))"
   ]
  },
  {
   "cell_type": "markdown",
   "metadata": {},
   "source": [
    "### 3.5 - Random Forest"
   ]
  },
  {
   "cell_type": "code",
   "execution_count": 168,
   "metadata": {},
   "outputs": [],
   "source": [
    "from sklearn.ensemble import RandomForestClassifier"
   ]
  },
  {
   "cell_type": "code",
   "execution_count": 169,
   "metadata": {},
   "outputs": [
    {
     "data": {
      "text/plain": [
       "RandomForestClassifier(bootstrap=True, ccp_alpha=0.0, class_weight=None,\n",
       "                       criterion='gini', max_depth=15, max_features='auto',\n",
       "                       max_leaf_nodes=None, max_samples=None,\n",
       "                       min_impurity_decrease=0.0, min_impurity_split=None,\n",
       "                       min_samples_leaf=1, min_samples_split=2,\n",
       "                       min_weight_fraction_leaf=0.0, n_estimators=100,\n",
       "                       n_jobs=None, oob_score=True, random_state=None,\n",
       "                       verbose=0, warm_start=False)"
      ]
     },
     "execution_count": 169,
     "metadata": {},
     "output_type": "execute_result"
    }
   ],
   "source": [
    "r_forest = RandomForestClassifier(n_estimators=100, oob_score=True, max_depth=15)\n",
    "r_forest.fit(X_train, y_train)"
   ]
  },
  {
   "cell_type": "code",
   "execution_count": 170,
   "metadata": {
    "scrolled": true
   },
   "outputs": [
    {
     "data": {
      "text/plain": [
       "0.7392972306613477"
      ]
     },
     "execution_count": 170,
     "metadata": {},
     "output_type": "execute_result"
    }
   ],
   "source": [
    "r_forest.score(X_train, y_train)"
   ]
  },
  {
   "cell_type": "code",
   "execution_count": 171,
   "metadata": {},
   "outputs": [],
   "source": [
    "r_pred = r_forest.predict(X_val)"
   ]
  },
  {
   "cell_type": "code",
   "execution_count": 172,
   "metadata": {},
   "outputs": [
    {
     "data": {
      "text/plain": [
       "0.730591052525569"
      ]
     },
     "execution_count": 172,
     "metadata": {},
     "output_type": "execute_result"
    }
   ],
   "source": [
    "r_forest.score(X_val, y_val)"
   ]
  },
  {
   "cell_type": "markdown",
   "metadata": {},
   "source": [
    "#### Changing Thresholds"
   ]
  },
  {
   "cell_type": "code",
   "execution_count": 291,
   "metadata": {
    "scrolled": true
   },
   "outputs": [
    {
     "name": "stdout",
     "output_type": "stream",
     "text": [
      " The accuracy score is 0.6849584853299913\n",
      "The recall score is 0.726849040349118.\n",
      "The precision score is 0.5819773161602569.\n",
      "The f1 score is 0.6463953780457171.\n"
     ]
    }
   ],
   "source": [
    "y_pred_thresh = (r_forest.predict_proba(X_val)[:,1] >= 0.35).astype(bool)\n",
    "\n",
    "print(f' The accuracy score is {accuracy_score(y_val,y_pred_thresh)}')\n",
    "\n",
    "recallscore = recall_score(y_val,y_pred_thresh)\n",
    "pscore = precision_score(y_val, y_pred_thresh)\n",
    "fscore = f1_score(y_val, y_pred_thresh)\n",
    "\n",
    "print(f'The recall score is {recallscore}.')\n",
    "print(f'The precision score is {pscore}.')\n",
    "print(f'The f1 score is {fscore}.')"
   ]
  },
  {
   "cell_type": "code",
   "execution_count": 292,
   "metadata": {},
   "outputs": [],
   "source": [
    "thresh_confusion = confusion_matrix(y_val,y_pred_thresh)"
   ]
  },
  {
   "cell_type": "code",
   "execution_count": 290,
   "metadata": {
    "scrolled": true
   },
   "outputs": [
    {
     "data": {
      "image/png": "[encoded data removed]",
      "text/plain": [
       "<Figure size 600x400 with 2 Axes>"
      ]
     },
     "metadata": {
      "needs_background": "light"
     },
     "output_type": "display_data"
    }
   ],
   "source": [
    "plt.figure(dpi=100)\n",
    "sns.heatmap(thresh_confusion, cmap='YlGnBu', annot=True, fmt='g',\n",
    "       xticklabels=['Property Damage', 'Injury/Fatality'],\n",
    "       yticklabels=['Property Damage', 'Injury/Fatality'])\n",
    "plt.xlabel('Predicted outcome')\n",
    "plt.ylabel('Actual outcome')\n",
    "plt.title('Random Forest Confusion Matrix')\n",
    "plt.savefig('random_forest_matrix.jpg')\n"
   ]
  },
  {
   "cell_type": "markdown",
   "metadata": {},
   "source": [
    "#### Testing for final"
   ]
  },
  {
   "cell_type": "code",
   "execution_count": 294,
   "metadata": {},
   "outputs": [
    {
     "name": "stdout",
     "output_type": "stream",
     "text": [
      " The accuracy score is 0.6855683369514133\n",
      "The recall score is 0.7263587721768516.\n",
      "The precision score is 0.5838756776946498.\n",
      "The f1 score is 0.6473699732071707.\n"
     ]
    }
   ],
   "source": [
    "y_pred_test = (r_forest.predict_proba(X_test)[:,1] >= 0.35).astype(bool)\n",
    "\n",
    "print(f' The accuracy score is {accuracy_score(y_test,y_pred_test)}')\n",
    "\n",
    "recallscore = recall_score(y_test,y_pred_test)\n",
    "pscore = precision_score(y_test, y_pred_test)\n",
    "fscore = f1_score(y_test, y_pred_test)\n",
    "\n",
    "print(f'The recall score is {recallscore}.')\n",
    "print(f'The precision score is {pscore}.')\n",
    "print(f'The f1 score is {fscore}.')"
   ]
  },
  {
   "cell_type": "markdown",
   "metadata": {},
   "source": [
    "#### Normal - .50 thresh"
   ]
  },
  {
   "cell_type": "code",
   "execution_count": 173,
   "metadata": {
    "scrolled": true
   },
   "outputs": [
    {
     "name": "stdout",
     "output_type": "stream",
     "text": [
      "The recall score is 0.46820229638312594.\n",
      "The precision score is 0.7595133909138811.\n",
      "The f1 score is 0.5792968476969315.\n"
     ]
    }
   ],
   "source": [
    "recallscore = recall_score(y_val,r_pred)\n",
    "pscore = precision_score(y_val, r_pred)\n",
    "fscore = f1_score(y_val, r_pred)\n",
    "\n",
    "print(f'The recall score is {recallscore}.')\n",
    "print(f'The precision score is {pscore}.')\n",
    "print(f'The f1 score is {fscore}.')"
   ]
  },
  {
   "cell_type": "code",
   "execution_count": 174,
   "metadata": {},
   "outputs": [],
   "source": [
    "r_confusion = confusion_matrix(y_val,r_pred)"
   ]
  },
  {
   "cell_type": "code",
   "execution_count": 175,
   "metadata": {
    "scrolled": true
   },
   "outputs": [
    {
     "data": {
      "text/plain": [
       "Text(0.5, 1, 'Random Forest Confusion Matrix')"
      ]
     },
     "execution_count": 175,
     "metadata": {},
     "output_type": "execute_result"
    },
    {
     "data": {
      "image/png": "[encoded data removed]",
      "text/plain": [
       "<Figure size 600x400 with 2 Axes>"
      ]
     },
     "metadata": {
      "needs_background": "light"
     },
     "output_type": "display_data"
    }
   ],
   "source": [
    "plt.figure(dpi=100)\n",
    "sns.heatmap(r_confusion, cmap='YlGnBu', annot=True, fmt='g',\n",
    "       xticklabels=['Property Damage', 'Injury/Fatality'],\n",
    "       yticklabels=['Property Damage', 'Injury/Fatality'])\n",
    "plt.xlabel('Predicted outcome')\n",
    "plt.ylabel('Actual outcome')\n",
    "plt.title('Random Forest Confusion Matrix')"
   ]
  },
  {
   "cell_type": "code",
   "execution_count": 186,
   "metadata": {},
   "outputs": [
    {
     "name": "stdout",
     "output_type": "stream",
     "text": [
      "ROC AUC score =  0.7828769695189368\n"
     ]
    },
    {
     "data": {
      "image/png": "[encoded data removed]",
      "text/plain": [
       "<Figure size 432x288 with 1 Axes>"
      ]
     },
     "metadata": {
      "needs_background": "light"
     },
     "output_type": "display_data"
    }
   ],
   "source": [
    "fpr, tpr, thresholds = roc_curve(y_val, r_forest.predict_proba(X_val)[:,1])\n",
    "plt.plot(fpr, tpr,lw=2)\n",
    "plt.plot([0,1],[0,1],c='red',ls='--')\n",
    "plt.xlim([-0.05,1.05])\n",
    "plt.ylim([-0.05,1.05])\n",
    "\n",
    "plt.xlabel('False positive rate')\n",
    "plt.ylabel('True positive rate')\n",
    "plt.title('ROC curve for Random Forest');\n",
    "print(\"ROC AUC score = \", roc_auc_score(y_val, r_forest.predict_proba(X_val)[:,1]))"
   ]
  },
  {
   "cell_type": "markdown",
   "metadata": {},
   "source": [
    "### Gradient Boost"
   ]
  },
  {
   "cell_type": "code",
   "execution_count": 256,
   "metadata": {},
   "outputs": [],
   "source": [
    "import xgboost as xgb\n",
    "from sklearn.metrics import mean_squared_error\n",
    "import os\n",
    "os.environ['KMP_DUPLICATE_LIB_OK']='True'"
   ]
  },
  {
   "cell_type": "code",
   "execution_count": 260,
   "metadata": {},
   "outputs": [],
   "source": [
    "data_matrix = xgb.DMatrix(data=X,label=y)"
   ]
  },
  {
   "cell_type": "code",
   "execution_count": 283,
   "metadata": {
    "scrolled": true
   },
   "outputs": [],
   "source": [
    "gbm = xgb.XGBClassifier( \n",
    "                        n_estimators=30000,\n",
    "                        max_depth=60,\n",
    "                        objective='binary:logistic', #new objective\n",
    "                        learning_rate=.1, \n",
    "                        subsample=1,\n",
    "                        min_child_weight=3,\n",
    "                        colsample_bytree=.8\n",
    "                       )\n",
    "\n",
    "eval_set=[(X_train2,y_train2),(X_val2,y_val2)]\n",
    "fit_model = gbm.fit( \n",
    "                    X_train2, y_train2, \n",
    "                    eval_set=eval_set,\n",
    "                    eval_metric='error', #new evaluation metric: classification error (could also use AUC, e.g.)\n",
    "                    early_stopping_rounds=25,\n",
    "                    verbose=False)"
   ]
  },
  {
   "cell_type": "code",
   "execution_count": 284,
   "metadata": {},
   "outputs": [
    {
     "name": "stdout",
     "output_type": "stream",
     "text": [
      "done!\n"
     ]
    }
   ],
   "source": [
    "print('done!')"
   ]
  },
  {
   "cell_type": "code",
   "execution_count": 285,
   "metadata": {},
   "outputs": [
    {
     "data": {
      "text/plain": [
       "0.7234518720766286"
      ]
     },
     "execution_count": 285,
     "metadata": {},
     "output_type": "execute_result"
    }
   ],
   "source": [
    "accuracy_score(y_test2, gbm.predict(X_test2, ntree_limit=gbm.best_ntree_limit))\n"
   ]
  },
  {
   "cell_type": "code",
   "execution_count": null,
   "metadata": {},
   "outputs": [],
   "source": []
  },
  {
   "cell_type": "code",
   "execution_count": 287,
   "metadata": {},
   "outputs": [
    {
     "name": "stdout",
     "output_type": "stream",
     "text": [
      "The accuracy score is 0.7235078217666674\n",
      "The recall score is 0.49180165802816106.\n",
      "The precision score is 0.7216155169198251.\n",
      "The f1 score is 0.5849459114425856.\n"
     ]
    }
   ],
   "source": [
    "y_pred_x = gbm.predict(X_val2, ntree_limit=gbm.best_ntree_limit)\n",
    "\n",
    "recallscore = recall_score(y_val2,y_pred_x)\n",
    "pscore = precision_score(y_val2, y_pred_x)\n",
    "fscore = f1_score(y_val2, y_pred_x)\n",
    "\n",
    "print(f'The accuracy score is {accuracy_score(y_val2,y_pred_x)}')\n",
    "print(f'The recall score is {recallscore}.')\n",
    "print(f'The precision score is {pscore}.')\n",
    "print(f'The f1 score is {fscore}.')"
   ]
  },
  {
   "cell_type": "code",
   "execution_count": 288,
   "metadata": {},
   "outputs": [],
   "source": [
    "xgb_confusion = confusion_matrix(y_val2,y_pred_x)"
   ]
  },
  {
   "cell_type": "code",
   "execution_count": 289,
   "metadata": {},
   "outputs": [
    {
     "data": {
      "text/plain": [
       "Text(0.5, 1, 'XG Boost Confusion Matrix')"
      ]
     },
     "execution_count": 289,
     "metadata": {},
     "output_type": "execute_result"
    },
    {
     "data": {
      "image/png": "[encoded data removed]",
      "text/plain": [
       "<Figure size 600x400 with 2 Axes>"
      ]
     },
     "metadata": {
      "needs_background": "light"
     },
     "output_type": "display_data"
    }
   ],
   "source": [
    "plt.figure(dpi=100)\n",
    "sns.heatmap(xgb_confusion, cmap='YlGnBu', annot=True, fmt='g',\n",
    "       xticklabels=['Property Damage', 'Injury/Fatality'],\n",
    "       yticklabels=['Property Damage', 'Injury/Fatality'])\n",
    "plt.xlabel('Predicted outcome')\n",
    "plt.ylabel('Actual outcome')\n",
    "plt.title('XG Boost Confusion Matrix')"
   ]
  }
 ],
 "metadata": {
  "kernelspec": {
   "display_name": "Python 3",
   "language": "python",
   "name": "python3"
  },
  "language_info": {
   "codemirror_mode": {
    "name": "ipython",
    "version": 3
   },
   "file_extension": ".py",
   "mimetype": "text/x-python",
   "name": "python",
   "nbconvert_exporter": "python",
   "pygments_lexer": "ipython3",
   "version": "3.7.6"
  }
 },
 "nbformat": 4,
 "nbformat_minor": 4
}
