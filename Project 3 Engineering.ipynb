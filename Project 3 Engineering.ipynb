{
 "cells": [
  {
   "cell_type": "code",
   "execution_count": 191,
   "metadata": {},
   "outputs": [],
   "source": [
    "import pandas as pd\n",
    "import numpy as np"
   ]
  },
  {
   "cell_type": "markdown",
   "metadata": {},
   "source": [
    "## Importing"
   ]
  },
  {
   "cell_type": "code",
   "execution_count": 192,
   "metadata": {},
   "outputs": [],
   "source": [
    "df2 = pd.read_csv('motor-vehicle-crashes-case-information-three-year-window.csv') "
   ]
  },
  {
   "cell_type": "code",
   "execution_count": 193,
   "metadata": {},
   "outputs": [],
   "source": [
    "df = pd.read_csv('motor-vehicle-crashes-case-information-three-year-window.csv') "
   ]
  },
  {
   "cell_type": "code",
   "execution_count": 194,
   "metadata": {},
   "outputs": [],
   "source": [
    "counties = pd.read_csv('counties.csv')"
   ]
  },
  {
   "cell_type": "code",
   "execution_count": 195,
   "metadata": {
    "scrolled": false
   },
   "outputs": [
    {
     "data": {
      "text/html": [
       "<div>\n",
       "<style scoped>\n",
       "    .dataframe tbody tr th:only-of-type {\n",
       "        vertical-align: middle;\n",
       "    }\n",
       "\n",
       "    .dataframe tbody tr th {\n",
       "        vertical-align: top;\n",
       "    }\n",
       "\n",
       "    .dataframe thead th {\n",
       "        text-align: right;\n",
       "    }\n",
       "</style>\n",
       "<table border=\"1\" class=\"dataframe\">\n",
       "  <thead>\n",
       "    <tr style=\"text-align: right;\">\n",
       "      <th></th>\n",
       "      <th>Year</th>\n",
       "      <th>Crash Descriptor</th>\n",
       "      <th>Time</th>\n",
       "      <th>Date</th>\n",
       "      <th>Day of Week</th>\n",
       "      <th>Police Report</th>\n",
       "      <th>Lighting Conditions</th>\n",
       "      <th>Municipality</th>\n",
       "      <th>Collision Type Descriptor</th>\n",
       "      <th>County Name</th>\n",
       "      <th>Road Descriptor</th>\n",
       "      <th>Weather Conditions</th>\n",
       "      <th>Traffic Control Device</th>\n",
       "      <th>Road Surface Conditions</th>\n",
       "      <th>DOT Reference Marker Location</th>\n",
       "      <th>Pedestrian Bicyclist Action</th>\n",
       "      <th>Event Descriptor</th>\n",
       "      <th>Number of Vehicles Involved</th>\n",
       "    </tr>\n",
       "  </thead>\n",
       "  <tbody>\n",
       "    <tr>\n",
       "      <th>0</th>\n",
       "      <td>2016</td>\n",
       "      <td>Property Damage Accident</td>\n",
       "      <td>11:30</td>\n",
       "      <td>2016-12-31T00:00:00.000</td>\n",
       "      <td>Saturday</td>\n",
       "      <td>Y</td>\n",
       "      <td>Daylight</td>\n",
       "      <td>QUEENS</td>\n",
       "      <td>RIGHT TURN (5)</td>\n",
       "      <td>QUEENS</td>\n",
       "      <td>Straight and Level</td>\n",
       "      <td>Clear</td>\n",
       "      <td>Traffic Signal</td>\n",
       "      <td>Dry</td>\n",
       "      <td>NaN</td>\n",
       "      <td>Not Applicable</td>\n",
       "      <td>Other Motor Vehicle, Collision With</td>\n",
       "      <td>2</td>\n",
       "    </tr>\n",
       "    <tr>\n",
       "      <th>1</th>\n",
       "      <td>2016</td>\n",
       "      <td>Injury Accident</td>\n",
       "      <td>18:39</td>\n",
       "      <td>2016-12-31T00:00:00.000</td>\n",
       "      <td>Saturday</td>\n",
       "      <td>Y</td>\n",
       "      <td>Dark-Road Lighted</td>\n",
       "      <td>NEW YORK</td>\n",
       "      <td>OTHER</td>\n",
       "      <td>NEW YORK</td>\n",
       "      <td>Straight and Level</td>\n",
       "      <td>Clear</td>\n",
       "      <td>Traffic Signal</td>\n",
       "      <td>Dry</td>\n",
       "      <td>NaN</td>\n",
       "      <td>Unknown</td>\n",
       "      <td>Bicyclist, Collision With</td>\n",
       "      <td>1</td>\n",
       "    </tr>\n",
       "    <tr>\n",
       "      <th>2</th>\n",
       "      <td>2016</td>\n",
       "      <td>Property Damage Accident</td>\n",
       "      <td>14:45</td>\n",
       "      <td>2016-12-31T00:00:00.000</td>\n",
       "      <td>Saturday</td>\n",
       "      <td>Y</td>\n",
       "      <td>Daylight</td>\n",
       "      <td>ITHACA</td>\n",
       "      <td>OTHER</td>\n",
       "      <td>TOMPKINS</td>\n",
       "      <td>Curve and Grade</td>\n",
       "      <td>Cloudy</td>\n",
       "      <td>None</td>\n",
       "      <td>Dry</td>\n",
       "      <td>13 36033003</td>\n",
       "      <td>Not Applicable</td>\n",
       "      <td>Guide Rail - Not At End, Collision With Fixed ...</td>\n",
       "      <td>1</td>\n",
       "    </tr>\n",
       "    <tr>\n",
       "      <th>3</th>\n",
       "      <td>2016</td>\n",
       "      <td>Property Damage Accident</td>\n",
       "      <td>12:32</td>\n",
       "      <td>2016-12-31T00:00:00.000</td>\n",
       "      <td>Saturday</td>\n",
       "      <td>Y</td>\n",
       "      <td>Daylight</td>\n",
       "      <td>COLDEN</td>\n",
       "      <td>OTHER</td>\n",
       "      <td>ERIE</td>\n",
       "      <td>Straight and Level</td>\n",
       "      <td>Snow</td>\n",
       "      <td>None</td>\n",
       "      <td>Snow/Ice</td>\n",
       "      <td>NaN</td>\n",
       "      <td>Not Applicable</td>\n",
       "      <td>Snow Embankment, Collision With Fixed Object</td>\n",
       "      <td>1</td>\n",
       "    </tr>\n",
       "    <tr>\n",
       "      <th>4</th>\n",
       "      <td>2016</td>\n",
       "      <td>Property Damage &amp; Injury Accident</td>\n",
       "      <td>15:25</td>\n",
       "      <td>2016-12-31T00:00:00.000</td>\n",
       "      <td>Saturday</td>\n",
       "      <td>Y</td>\n",
       "      <td>Daylight</td>\n",
       "      <td>NEW YORK</td>\n",
       "      <td>REAR END</td>\n",
       "      <td>NEW YORK</td>\n",
       "      <td>Straight and Level</td>\n",
       "      <td>Clear</td>\n",
       "      <td>Traffic Signal</td>\n",
       "      <td>Dry</td>\n",
       "      <td>NaN</td>\n",
       "      <td>Not Applicable</td>\n",
       "      <td>Other Motor Vehicle, Collision With</td>\n",
       "      <td>2</td>\n",
       "    </tr>\n",
       "  </tbody>\n",
       "</table>\n",
       "</div>"
      ],
      "text/plain": [
       "   Year                   Crash Descriptor   Time                     Date  \\\n",
       "0  2016           Property Damage Accident  11:30  2016-12-31T00:00:00.000   \n",
       "1  2016                    Injury Accident  18:39  2016-12-31T00:00:00.000   \n",
       "2  2016           Property Damage Accident  14:45  2016-12-31T00:00:00.000   \n",
       "3  2016           Property Damage Accident  12:32  2016-12-31T00:00:00.000   \n",
       "4  2016  Property Damage & Injury Accident  15:25  2016-12-31T00:00:00.000   \n",
       "\n",
       "  Day of Week Police Report Lighting Conditions Municipality  \\\n",
       "0    Saturday             Y            Daylight       QUEENS   \n",
       "1    Saturday             Y   Dark-Road Lighted     NEW YORK   \n",
       "2    Saturday             Y            Daylight       ITHACA   \n",
       "3    Saturday             Y            Daylight       COLDEN   \n",
       "4    Saturday             Y            Daylight     NEW YORK   \n",
       "\n",
       "  Collision Type Descriptor County Name     Road Descriptor  \\\n",
       "0            RIGHT TURN (5)      QUEENS  Straight and Level   \n",
       "1                     OTHER    NEW YORK  Straight and Level   \n",
       "2                     OTHER    TOMPKINS     Curve and Grade   \n",
       "3                     OTHER        ERIE  Straight and Level   \n",
       "4                  REAR END    NEW YORK  Straight and Level   \n",
       "\n",
       "  Weather Conditions Traffic Control Device Road Surface Conditions  \\\n",
       "0              Clear         Traffic Signal                     Dry   \n",
       "1              Clear         Traffic Signal                     Dry   \n",
       "2             Cloudy                   None                     Dry   \n",
       "3               Snow                   None                Snow/Ice   \n",
       "4              Clear         Traffic Signal                     Dry   \n",
       "\n",
       "  DOT Reference Marker Location Pedestrian Bicyclist Action  \\\n",
       "0                           NaN              Not Applicable   \n",
       "1                           NaN                     Unknown   \n",
       "2                   13 36033003              Not Applicable   \n",
       "3                           NaN              Not Applicable   \n",
       "4                           NaN              Not Applicable   \n",
       "\n",
       "                                    Event Descriptor  \\\n",
       "0                Other Motor Vehicle, Collision With   \n",
       "1                          Bicyclist, Collision With   \n",
       "2  Guide Rail - Not At End, Collision With Fixed ...   \n",
       "3       Snow Embankment, Collision With Fixed Object   \n",
       "4                Other Motor Vehicle, Collision With   \n",
       "\n",
       "   Number of Vehicles Involved  \n",
       "0                            2  \n",
       "1                            1  \n",
       "2                            1  \n",
       "3                            1  \n",
       "4                            2  "
      ]
     },
     "execution_count": 195,
     "metadata": {},
     "output_type": "execute_result"
    }
   ],
   "source": [
    "df.head()"
   ]
  },
  {
   "cell_type": "code",
   "execution_count": 196,
   "metadata": {
    "scrolled": true
   },
   "outputs": [
    {
     "data": {
      "text/plain": [
       "(895916, 18)"
      ]
     },
     "execution_count": 196,
     "metadata": {},
     "output_type": "execute_result"
    }
   ],
   "source": [
    "df.shape"
   ]
  },
  {
   "cell_type": "markdown",
   "metadata": {},
   "source": [
    "## Pruning "
   ]
  },
  {
   "cell_type": "markdown",
   "metadata": {},
   "source": [
    "### Municipality VS County\n",
    "Figuring out which is better and which to drop"
   ]
  },
  {
   "cell_type": "code",
   "execution_count": 197,
   "metadata": {
    "scrolled": false
   },
   "outputs": [
    {
     "data": {
      "text/plain": [
       "QUEENS                  59884\n",
       "KINGS                   58586\n",
       "HEMPSTEAD               41149\n",
       "NEW YORK                35805\n",
       "BRONX                   32424\n",
       "                        ...  \n",
       "COVE NECK                   2\n",
       "SOUTH BLOOMING GROVE        1\n",
       "AMES                        1\n",
       "SALTAIRE                    1\n",
       "OCEAN BEACH                 1\n",
       "Name: Municipality, Length: 1293, dtype: int64"
      ]
     },
     "execution_count": 197,
     "metadata": {},
     "output_type": "execute_result"
    }
   ],
   "source": [
    "df['Municipality'].value_counts()"
   ]
  },
  {
   "cell_type": "code",
   "execution_count": 198,
   "metadata": {
    "scrolled": true
   },
   "outputs": [
    {
     "data": {
      "text/plain": [
       "NASSAU       98983\n",
       "SUFFOLK      96013\n",
       "QUEENS       59884\n",
       "KINGS        58586\n",
       "ERIE         51699\n",
       "             ...  \n",
       "SCHOHARIE     1982\n",
       "YATES         1625\n",
       "LEWIS         1511\n",
       "SCHUYLER      1278\n",
       "HAMILTON       630\n",
       "Name: County Name, Length: 63, dtype: int64"
      ]
     },
     "execution_count": 198,
     "metadata": {},
     "output_type": "execute_result"
    }
   ],
   "source": [
    "df['County Name'].value_counts()"
   ]
  },
  {
   "cell_type": "markdown",
   "metadata": {},
   "source": [
    "Municipality is too long and has to go"
   ]
  },
  {
   "cell_type": "code",
   "execution_count": 199,
   "metadata": {},
   "outputs": [],
   "source": [
    "df = df.drop(['Municipality'] ,axis=1)"
   ]
  },
  {
   "cell_type": "markdown",
   "metadata": {},
   "source": [
    "### DOT Reference Marker"
   ]
  },
  {
   "cell_type": "markdown",
   "metadata": {},
   "source": [
    "<img src=\"marker.jpeg\">\n",
    "\n",
    "**Top row:** This is the route designation. The first three spaces carry the numerical portion of the route designation (one to three digits) and the last space carries the alphabetic suffix, if any. If the route number is only one digit, this digit is placed in the third space from the left; a two-digit number starts in the second space. Thus the numerals are always adjacent to the alphabetic suffix.\n",
    "\n",
    "The route designation given on markers is often different from the actual touring or reference route number. Sometimes a route has been absorbed by another route, or has been relocated on a new alignment and a new route designtaion placed on the old alignment. Also, a touring route may have been decommissioned and parts of it reassigned as reference routes. In many of these cases, reference markers show the older route numbers because the markers are usually only replaced as part of a major maintenance or construction project.\n",
    "\n",
    "**Middle row:** The first digit gives the Region number. NYSDOT divides the State into 11 Regions, which are jurisdictional divisions. For Regions 1 through 9, the appropriate numeral is used. For Region 10, the numeral 0 is used, and for Region 11 the letter X is used.\n",
    "\n",
    "The second digit is the county code. The counties are arranged alphabetically within their respective Regions and assigned numbers according to this listing. The first two digits combined therefore give a unique code to each of the 62 counties.\n",
    "\n",
    "The third and fourth digits give the county order number. This number begins with 01 at the south or west terminus of the route and increases by one each time a county line is crossed. If a route enters and leaves a county more than once, each crossing is counted. [In Region 11 (New York City), this number is expressed only by the last digit in the middle row. The third digit will then be M for mainlines and C for collector-distributor roads.]\n",
    "\n",
    "**Bottom row:** The first digit is the control segment number. A control segment is a division of a route within a county, and is almost always measured by city lines. At each county line, the control segment number is reset to 1 and increases with each city line crossing (again, repeated crossings are counted separately). In the case of the three cities (Saratoga Springs, Rome and Oneida) that have high and low tax boundaries, the control segment theoretically changes only at the low tax (outer) boundary. On existing markers, however, this digit changes only at the high tax (inner) boundary."
   ]
  },
  {
   "cell_type": "code",
   "execution_count": 200,
   "metadata": {
    "scrolled": true
   },
   "outputs": [
    {
     "data": {
      "text/plain": [
       "495 03021043    248\n",
       "95IX1M22008     148\n",
       "495 03021106    142\n",
       "9 82052016      137\n",
       "907W87024001    132\n",
       "               ... \n",
       "5 44052219        1\n",
       "268 93011080      1\n",
       "38 31041179       1\n",
       "21 44053058       1\n",
       "9 81061042        1\n",
       "Name: DOT Reference Marker Location, Length: 80299, dtype: int64"
      ]
     },
     "execution_count": 200,
     "metadata": {},
     "output_type": "execute_result"
    }
   ],
   "source": [
    "df['DOT Reference Marker Location'].value_counts()"
   ]
  },
  {
   "cell_type": "code",
   "execution_count": 201,
   "metadata": {
    "scrolled": true
   },
   "outputs": [
    {
     "data": {
      "text/plain": [
       "313582"
      ]
     },
     "execution_count": 201,
     "metadata": {},
     "output_type": "execute_result"
    }
   ],
   "source": [
    "df['DOT Reference Marker Location'].count().sum()"
   ]
  },
  {
   "cell_type": "code",
   "execution_count": 202,
   "metadata": {
    "scrolled": true
   },
   "outputs": [
    {
     "data": {
      "text/plain": [
       "582334"
      ]
     },
     "execution_count": 202,
     "metadata": {},
     "output_type": "execute_result"
    }
   ],
   "source": [
    "df['DOT Reference Marker Location'].isnull().sum()"
   ]
  },
  {
   "cell_type": "markdown",
   "metadata": {},
   "source": [
    "This is categorical data disguised as digits and there's too many nulls to make this worth it."
   ]
  },
  {
   "cell_type": "code",
   "execution_count": 203,
   "metadata": {},
   "outputs": [],
   "source": [
    "df = df.drop(['DOT Reference Marker Location'] ,axis=1)"
   ]
  },
  {
   "cell_type": "markdown",
   "metadata": {},
   "source": [
    "### Weather Conditions vs Road Surface Conditions\n",
    "Here is an interesting one, we have two kinds of weather related features, one for the environment and one for the road. Let's see if we can drop one. "
   ]
  },
  {
   "cell_type": "markdown",
   "metadata": {},
   "source": [
    "#### Domain Knowledge \n",
    "According to the Federal Highway Administration, 23 percent of all accidents are weather-related. Weather-related crashes include crashes that take place during rain, sleet, snow, fog, severe crosswinds, and/or blowing snow, sand or debris.\n",
    "\n",
    "Of the 1.3 million plus weather-related crashes each year, less than half involve a winter weather condition. While 74 percent of weather-related accidents occur on wet pavement (with 46 percent of weather-related accidents taking place while it is raining), far less take place during ice, sleet and snow conditions. In fact, of all the weather-related crashes, only 17 percent happen while it is snowing or sleeting, 12 percent occur on icy pavement, and 14 percent take place on snowy or slushy pavement. Some accidents may involve a combination of weather conditions, such as rainfall and wet pavement or a mixture of ice and snow."
   ]
  },
  {
   "cell_type": "code",
   "execution_count": 204,
   "metadata": {},
   "outputs": [
    {
     "data": {
      "text/plain": [
       "Clear                       502596\n",
       "Cloudy                      192106\n",
       "Rain                         74102\n",
       "Unknown                      67521\n",
       "Snow                         48262\n",
       "Sleet/Hail/Freezing Rain      7886\n",
       "Fog/Smog/Smoke                2847\n",
       "Other*                         596\n",
       "Name: Weather Conditions, dtype: int64"
      ]
     },
     "execution_count": 204,
     "metadata": {},
     "output_type": "execute_result"
    }
   ],
   "source": [
    "df['Weather Conditions'].value_counts()"
   ]
  },
  {
   "cell_type": "code",
   "execution_count": 205,
   "metadata": {},
   "outputs": [
    {
     "data": {
      "text/plain": [
       "0"
      ]
     },
     "execution_count": 205,
     "metadata": {},
     "output_type": "execute_result"
    }
   ],
   "source": [
    "df['Weather Conditions'].isnull().sum()"
   ]
  },
  {
   "cell_type": "code",
   "execution_count": 206,
   "metadata": {},
   "outputs": [
    {
     "data": {
      "text/plain": [
       "Dry              616638\n",
       "Wet              129290\n",
       "Snow/Ice          76546\n",
       "Unknown           66661\n",
       "Slush              4846\n",
       "Other              1140\n",
       "Muddy               506\n",
       "Flooded Water       289\n",
       "Name: Road Surface Conditions, dtype: int64"
      ]
     },
     "execution_count": 206,
     "metadata": {},
     "output_type": "execute_result"
    }
   ],
   "source": [
    "df['Road Surface Conditions'].value_counts()"
   ]
  },
  {
   "cell_type": "code",
   "execution_count": 207,
   "metadata": {
    "scrolled": true
   },
   "outputs": [
    {
     "data": {
      "text/plain": [
       "0"
      ]
     },
     "execution_count": 207,
     "metadata": {},
     "output_type": "execute_result"
    }
   ],
   "source": [
    "df['Road Surface Conditions'].isnull().sum()"
   ]
  },
  {
   "cell_type": "markdown",
   "metadata": {},
   "source": [
    "I might be able to get away with turning these both into 1/0 columns based on if the road is dry or not and if the weather is clear or not. I'm going to end up combining 'Clear' and 'Cloudy' let the road condition catch any difference. The \"Unkown\" entries really bother me though, I'm going to make the assumption that they're not clear for this case. "
   ]
  },
  {
   "cell_type": "markdown",
   "metadata": {},
   "source": [
    "### Police Report?\n",
    "How useful or complete is this? It might already be set up for a 1/0 method so no point in getting ride of it"
   ]
  },
  {
   "cell_type": "code",
   "execution_count": 208,
   "metadata": {},
   "outputs": [
    {
     "data": {
      "text/plain": [
       "Y    766631\n",
       "N    129285\n",
       "Name: Police Report, dtype: int64"
      ]
     },
     "execution_count": 208,
     "metadata": {},
     "output_type": "execute_result"
    }
   ],
   "source": [
    "df['Police Report'].value_counts()"
   ]
  },
  {
   "cell_type": "code",
   "execution_count": 209,
   "metadata": {
    "scrolled": true
   },
   "outputs": [
    {
     "data": {
      "text/plain": [
       "0"
      ]
     },
     "execution_count": 209,
     "metadata": {},
     "output_type": "execute_result"
    }
   ],
   "source": [
    "df['Police Report'].isnull().sum()"
   ]
  },
  {
   "cell_type": "markdown",
   "metadata": {},
   "source": [
    "My thoughts on this are that of course a majority of them are police report related, afterall that is how one way data is collected. The ones with no report warrent a second look."
   ]
  },
  {
   "cell_type": "code",
   "execution_count": 210,
   "metadata": {},
   "outputs": [],
   "source": [
    "no_report = df.loc[(df['Police Report'] == 'N')]"
   ]
  },
  {
   "cell_type": "code",
   "execution_count": 211,
   "metadata": {
    "scrolled": false
   },
   "outputs": [
    {
     "data": {
      "text/plain": [
       "Property Damage Accident             99057\n",
       "Injury Accident                      20967\n",
       "Property Damage & Injury Accident     9261\n",
       "Name: Crash Descriptor, dtype: int64"
      ]
     },
     "execution_count": 211,
     "metadata": {},
     "output_type": "execute_result"
    }
   ],
   "source": [
    "no_report['Crash Descriptor'].value_counts()"
   ]
  },
  {
   "cell_type": "markdown",
   "metadata": {},
   "source": [
    "I'm going to keep this for now and turn it into a 1/0. It contains zero fatalaties which means it can be helpful."
   ]
  },
  {
   "cell_type": "markdown",
   "metadata": {},
   "source": [
    "### Pedestrian Bicyclist Action?\n",
    "What does this even look like?"
   ]
  },
  {
   "cell_type": "code",
   "execution_count": 212,
   "metadata": {
    "scrolled": false
   },
   "outputs": [
    {
     "data": {
      "text/plain": [
       "Not Applicable                                          835128\n",
       "Crossing, With Signal                                    13857\n",
       "Crossing, No Signal or Crosswalk                         10216\n",
       "Unknown                                                   9134\n",
       "Riding/Walking/Skating Along Highway With Traffic         5762\n",
       "Crossing, Against Signal                                  5102\n",
       "Crossing, No Signal, Marked Crosswalk                     4232\n",
       "Other Actions in Roadway                                  4153\n",
       "Not in Roadway (Indicate)                                 2650\n",
       "Riding/Walking/Skating Along Highway Against Traffic      1996\n",
       "Emerging from in Front of/Behind Parked Vehicle           1888\n",
       "Working in Roadway                                         711\n",
       "Getting On/Off Vehicle Other than School Bus               587\n",
       "Playing in Roadway                                         418\n",
       "Going to/From Stopped School Bus                            68\n",
       "Pushing/Working On Car                                      14\n",
       "Name: Pedestrian Bicyclist Action, dtype: int64"
      ]
     },
     "execution_count": 212,
     "metadata": {},
     "output_type": "execute_result"
    }
   ],
   "source": [
    "df['Pedestrian Bicyclist Action'].value_counts()"
   ]
  },
  {
   "cell_type": "markdown",
   "metadata": {},
   "source": [
    "Other features already give us this kind of information."
   ]
  },
  {
   "cell_type": "code",
   "execution_count": 213,
   "metadata": {},
   "outputs": [],
   "source": [
    "df = df.drop(['Pedestrian Bicyclist Action'] ,axis=1)"
   ]
  },
  {
   "cell_type": "markdown",
   "metadata": {},
   "source": [
    "### Collision Type Descriptor "
   ]
  },
  {
   "cell_type": "code",
   "execution_count": 214,
   "metadata": {
    "scrolled": true
   },
   "outputs": [
    {
     "data": {
      "text/plain": [
       "OTHER             357120\n",
       "REAR END          194002\n",
       "RIGHT ANGLE       100063\n",
       "OVERTAKING         87607\n",
       "Unknown            70769\n",
       "LEFT TURN (3)      30834\n",
       "SIDESWIPE          15797\n",
       "LEFT TURN (0)      14089\n",
       "HEAD ON            11034\n",
       "RIGHT TURN (6)      7539\n",
       "RIGHT TURN (5)      7062\n",
       "Name: Collision Type Descriptor, dtype: int64"
      ]
     },
     "execution_count": 214,
     "metadata": {},
     "output_type": "execute_result"
    }
   ],
   "source": [
    "df['Collision Type Descriptor'].value_counts()"
   ]
  },
  {
   "cell_type": "markdown",
   "metadata": {},
   "source": [
    "The amount of \"Other\" and \"Unknown\" in this feature makes it not worth having around."
   ]
  },
  {
   "cell_type": "code",
   "execution_count": 215,
   "metadata": {},
   "outputs": [],
   "source": [
    "df = df.drop(['Collision Type Descriptor'] ,axis=1)"
   ]
  },
  {
   "cell_type": "code",
   "execution_count": 216,
   "metadata": {
    "scrolled": true
   },
   "outputs": [
    {
     "data": {
      "text/html": [
       "<div>\n",
       "<style scoped>\n",
       "    .dataframe tbody tr th:only-of-type {\n",
       "        vertical-align: middle;\n",
       "    }\n",
       "\n",
       "    .dataframe tbody tr th {\n",
       "        vertical-align: top;\n",
       "    }\n",
       "\n",
       "    .dataframe thead th {\n",
       "        text-align: right;\n",
       "    }\n",
       "</style>\n",
       "<table border=\"1\" class=\"dataframe\">\n",
       "  <thead>\n",
       "    <tr style=\"text-align: right;\">\n",
       "      <th></th>\n",
       "      <th>Year</th>\n",
       "      <th>Crash Descriptor</th>\n",
       "      <th>Time</th>\n",
       "      <th>Date</th>\n",
       "      <th>Day of Week</th>\n",
       "      <th>Police Report</th>\n",
       "      <th>Lighting Conditions</th>\n",
       "      <th>County Name</th>\n",
       "      <th>Road Descriptor</th>\n",
       "      <th>Weather Conditions</th>\n",
       "      <th>Traffic Control Device</th>\n",
       "      <th>Road Surface Conditions</th>\n",
       "      <th>Event Descriptor</th>\n",
       "      <th>Number of Vehicles Involved</th>\n",
       "    </tr>\n",
       "  </thead>\n",
       "  <tbody>\n",
       "    <tr>\n",
       "      <th>0</th>\n",
       "      <td>2016</td>\n",
       "      <td>Property Damage Accident</td>\n",
       "      <td>11:30</td>\n",
       "      <td>2016-12-31T00:00:00.000</td>\n",
       "      <td>Saturday</td>\n",
       "      <td>Y</td>\n",
       "      <td>Daylight</td>\n",
       "      <td>QUEENS</td>\n",
       "      <td>Straight and Level</td>\n",
       "      <td>Clear</td>\n",
       "      <td>Traffic Signal</td>\n",
       "      <td>Dry</td>\n",
       "      <td>Other Motor Vehicle, Collision With</td>\n",
       "      <td>2</td>\n",
       "    </tr>\n",
       "    <tr>\n",
       "      <th>1</th>\n",
       "      <td>2016</td>\n",
       "      <td>Injury Accident</td>\n",
       "      <td>18:39</td>\n",
       "      <td>2016-12-31T00:00:00.000</td>\n",
       "      <td>Saturday</td>\n",
       "      <td>Y</td>\n",
       "      <td>Dark-Road Lighted</td>\n",
       "      <td>NEW YORK</td>\n",
       "      <td>Straight and Level</td>\n",
       "      <td>Clear</td>\n",
       "      <td>Traffic Signal</td>\n",
       "      <td>Dry</td>\n",
       "      <td>Bicyclist, Collision With</td>\n",
       "      <td>1</td>\n",
       "    </tr>\n",
       "    <tr>\n",
       "      <th>2</th>\n",
       "      <td>2016</td>\n",
       "      <td>Property Damage Accident</td>\n",
       "      <td>14:45</td>\n",
       "      <td>2016-12-31T00:00:00.000</td>\n",
       "      <td>Saturday</td>\n",
       "      <td>Y</td>\n",
       "      <td>Daylight</td>\n",
       "      <td>TOMPKINS</td>\n",
       "      <td>Curve and Grade</td>\n",
       "      <td>Cloudy</td>\n",
       "      <td>None</td>\n",
       "      <td>Dry</td>\n",
       "      <td>Guide Rail - Not At End, Collision With Fixed ...</td>\n",
       "      <td>1</td>\n",
       "    </tr>\n",
       "    <tr>\n",
       "      <th>3</th>\n",
       "      <td>2016</td>\n",
       "      <td>Property Damage Accident</td>\n",
       "      <td>12:32</td>\n",
       "      <td>2016-12-31T00:00:00.000</td>\n",
       "      <td>Saturday</td>\n",
       "      <td>Y</td>\n",
       "      <td>Daylight</td>\n",
       "      <td>ERIE</td>\n",
       "      <td>Straight and Level</td>\n",
       "      <td>Snow</td>\n",
       "      <td>None</td>\n",
       "      <td>Snow/Ice</td>\n",
       "      <td>Snow Embankment, Collision With Fixed Object</td>\n",
       "      <td>1</td>\n",
       "    </tr>\n",
       "    <tr>\n",
       "      <th>4</th>\n",
       "      <td>2016</td>\n",
       "      <td>Property Damage &amp; Injury Accident</td>\n",
       "      <td>15:25</td>\n",
       "      <td>2016-12-31T00:00:00.000</td>\n",
       "      <td>Saturday</td>\n",
       "      <td>Y</td>\n",
       "      <td>Daylight</td>\n",
       "      <td>NEW YORK</td>\n",
       "      <td>Straight and Level</td>\n",
       "      <td>Clear</td>\n",
       "      <td>Traffic Signal</td>\n",
       "      <td>Dry</td>\n",
       "      <td>Other Motor Vehicle, Collision With</td>\n",
       "      <td>2</td>\n",
       "    </tr>\n",
       "  </tbody>\n",
       "</table>\n",
       "</div>"
      ],
      "text/plain": [
       "   Year                   Crash Descriptor   Time                     Date  \\\n",
       "0  2016           Property Damage Accident  11:30  2016-12-31T00:00:00.000   \n",
       "1  2016                    Injury Accident  18:39  2016-12-31T00:00:00.000   \n",
       "2  2016           Property Damage Accident  14:45  2016-12-31T00:00:00.000   \n",
       "3  2016           Property Damage Accident  12:32  2016-12-31T00:00:00.000   \n",
       "4  2016  Property Damage & Injury Accident  15:25  2016-12-31T00:00:00.000   \n",
       "\n",
       "  Day of Week Police Report Lighting Conditions County Name  \\\n",
       "0    Saturday             Y            Daylight      QUEENS   \n",
       "1    Saturday             Y   Dark-Road Lighted    NEW YORK   \n",
       "2    Saturday             Y            Daylight    TOMPKINS   \n",
       "3    Saturday             Y            Daylight        ERIE   \n",
       "4    Saturday             Y            Daylight    NEW YORK   \n",
       "\n",
       "      Road Descriptor Weather Conditions Traffic Control Device  \\\n",
       "0  Straight and Level              Clear         Traffic Signal   \n",
       "1  Straight and Level              Clear         Traffic Signal   \n",
       "2     Curve and Grade             Cloudy                   None   \n",
       "3  Straight and Level               Snow                   None   \n",
       "4  Straight and Level              Clear         Traffic Signal   \n",
       "\n",
       "  Road Surface Conditions                                   Event Descriptor  \\\n",
       "0                     Dry                Other Motor Vehicle, Collision With   \n",
       "1                     Dry                          Bicyclist, Collision With   \n",
       "2                     Dry  Guide Rail - Not At End, Collision With Fixed ...   \n",
       "3                Snow/Ice       Snow Embankment, Collision With Fixed Object   \n",
       "4                     Dry                Other Motor Vehicle, Collision With   \n",
       "\n",
       "   Number of Vehicles Involved  \n",
       "0                            2  \n",
       "1                            1  \n",
       "2                            1  \n",
       "3                            1  \n",
       "4                            2  "
      ]
     },
     "execution_count": 216,
     "metadata": {},
     "output_type": "execute_result"
    }
   ],
   "source": [
    "df.head()"
   ]
  },
  {
   "cell_type": "markdown",
   "metadata": {},
   "source": [
    "### Lighting Conditons"
   ]
  },
  {
   "cell_type": "code",
   "execution_count": 217,
   "metadata": {
    "scrolled": true
   },
   "outputs": [
    {
     "data": {
      "text/plain": [
       "Daylight               547660\n",
       "Dark-Road Lighted      149542\n",
       "Dark-Road Unlighted     86677\n",
       "Unknown                 67765\n",
       "Dusk                    26107\n",
       "Dawn                    18165\n",
       "Name: Lighting Conditions, dtype: int64"
      ]
     },
     "execution_count": 217,
     "metadata": {},
     "output_type": "execute_result"
    }
   ],
   "source": [
    "df['Lighting Conditions'].value_counts()"
   ]
  },
  {
   "cell_type": "markdown",
   "metadata": {},
   "source": [
    "Keep this around and convert it into a new column or two for whether it's daylight or not. I feel comfortable combining everything else into that vs daylight. "
   ]
  },
  {
   "cell_type": "markdown",
   "metadata": {},
   "source": [
    "### Year\n",
    "We really don't need year to be included in this"
   ]
  },
  {
   "cell_type": "code",
   "execution_count": 218,
   "metadata": {},
   "outputs": [],
   "source": [
    "df = df.drop(['Year'] ,axis=1)"
   ]
  },
  {
   "cell_type": "markdown",
   "metadata": {},
   "source": [
    "## Engineering"
   ]
  },
  {
   "cell_type": "markdown",
   "metadata": {},
   "source": [
    "### Time = just hour"
   ]
  },
  {
   "cell_type": "code",
   "execution_count": 219,
   "metadata": {
    "scrolled": false
   },
   "outputs": [],
   "source": [
    "def hour_split(time):\n",
    "    split = time.split(':')\n",
    "    return int(split[0])"
   ]
  },
  {
   "cell_type": "code",
   "execution_count": 220,
   "metadata": {},
   "outputs": [],
   "source": [
    "df['Time'] = df.Time.apply(hour_split)"
   ]
  },
  {
   "cell_type": "markdown",
   "metadata": {},
   "source": [
    "### Day of Week Number Conversion"
   ]
  },
  {
   "cell_type": "code",
   "execution_count": 221,
   "metadata": {},
   "outputs": [
    {
     "data": {
      "text/plain": [
       "Friday       147681\n",
       "Thursday     135332\n",
       "Wednesday    132954\n",
       "Tuesday      131951\n",
       "Monday       128593\n",
       "Saturday     118697\n",
       "Sunday       100708\n",
       "Name: Day of Week, dtype: int64"
      ]
     },
     "execution_count": 221,
     "metadata": {},
     "output_type": "execute_result"
    }
   ],
   "source": [
    "df['Day of Week'].value_counts()"
   ]
  },
  {
   "cell_type": "code",
   "execution_count": 222,
   "metadata": {
    "scrolled": true
   },
   "outputs": [],
   "source": [
    "def day_week(day):\n",
    "    days_of_week = {'Monday':1, 'Tuesday':2, 'Wednesday':3, 'Thursday':4,\n",
    "                   'Friday':5, 'Saturday':6, 'Sunday':7}\n",
    "    \n",
    "    return days_of_week[day]       "
   ]
  },
  {
   "cell_type": "code",
   "execution_count": 223,
   "metadata": {},
   "outputs": [],
   "source": [
    "df['Day of Week'] = df['Day of Week'].apply(day_week)"
   ]
  },
  {
   "cell_type": "markdown",
   "metadata": {},
   "source": [
    "### Police Report"
   ]
  },
  {
   "cell_type": "code",
   "execution_count": 224,
   "metadata": {},
   "outputs": [],
   "source": [
    "def report_convert(report):\n",
    "    if report == 'Y':\n",
    "        return 1\n",
    "    else:\n",
    "        return 0"
   ]
  },
  {
   "cell_type": "code",
   "execution_count": 225,
   "metadata": {},
   "outputs": [],
   "source": [
    "df['Police Report'] = df['Police Report'].apply(report_convert)"
   ]
  },
  {
   "cell_type": "markdown",
   "metadata": {},
   "source": [
    "### Date into Month"
   ]
  },
  {
   "cell_type": "code",
   "execution_count": 226,
   "metadata": {},
   "outputs": [],
   "source": [
    "def month_ripper(date):\n",
    "    split = date.split('-')\n",
    "    return int(split[1])"
   ]
  },
  {
   "cell_type": "code",
   "execution_count": 227,
   "metadata": {},
   "outputs": [],
   "source": [
    "df['Date'] = df['Date'].apply(month_ripper)"
   ]
  },
  {
   "cell_type": "code",
   "execution_count": 228,
   "metadata": {},
   "outputs": [],
   "source": [
    "df.rename(columns={'Date': 'Month'}, inplace=True)"
   ]
  },
  {
   "cell_type": "markdown",
   "metadata": {},
   "source": [
    "### Daylight/Lit Road/Twilight Check"
   ]
  },
  {
   "cell_type": "code",
   "execution_count": 229,
   "metadata": {},
   "outputs": [],
   "source": [
    "df['Lit Dark Road?'] = df['Lighting Conditions']"
   ]
  },
  {
   "cell_type": "code",
   "execution_count": 230,
   "metadata": {},
   "outputs": [],
   "source": [
    "df['Twilight Hour?'] = df2['Lighting Conditions']"
   ]
  },
  {
   "cell_type": "code",
   "execution_count": 231,
   "metadata": {},
   "outputs": [],
   "source": [
    "def day_light(condition):\n",
    "    if condition == 'Daylight':\n",
    "        return 1\n",
    "    else:\n",
    "        return 0"
   ]
  },
  {
   "cell_type": "code",
   "execution_count": 232,
   "metadata": {},
   "outputs": [],
   "source": [
    "def lit_road_check(condition):\n",
    "    if condition == 'Dark-Road Lighted':\n",
    "        return 1\n",
    "    else:\n",
    "        return 0"
   ]
  },
  {
   "cell_type": "code",
   "execution_count": 233,
   "metadata": {},
   "outputs": [],
   "source": [
    "def twilight_check(condition):\n",
    "    if condition == 'Dusk':\n",
    "        return 1\n",
    "    elif condition == 'Dawn':\n",
    "        return 1\n",
    "    else:\n",
    "        return 0"
   ]
  },
  {
   "cell_type": "code",
   "execution_count": 234,
   "metadata": {},
   "outputs": [
    {
     "data": {
      "text/plain": [
       "Daylight               547660\n",
       "Dark-Road Lighted      149542\n",
       "Dark-Road Unlighted     86677\n",
       "Unknown                 67765\n",
       "Dusk                    26107\n",
       "Dawn                    18165\n",
       "Name: Lighting Conditions, dtype: int64"
      ]
     },
     "execution_count": 234,
     "metadata": {},
     "output_type": "execute_result"
    }
   ],
   "source": [
    "df['Lighting Conditions'].value_counts()"
   ]
  },
  {
   "cell_type": "code",
   "execution_count": 235,
   "metadata": {},
   "outputs": [],
   "source": [
    "df['Lighting Conditions'] = df['Lighting Conditions'].apply(day_light)"
   ]
  },
  {
   "cell_type": "code",
   "execution_count": 236,
   "metadata": {},
   "outputs": [],
   "source": [
    "df['Lit Dark Road?'] = df['Lit Dark Road?'].apply(lit_road_check)"
   ]
  },
  {
   "cell_type": "code",
   "execution_count": 237,
   "metadata": {},
   "outputs": [],
   "source": [
    "df['Twilight Hour?'] = df['Twilight Hour?'].apply(twilight_check)"
   ]
  },
  {
   "cell_type": "code",
   "execution_count": 238,
   "metadata": {},
   "outputs": [
    {
     "data": {
      "text/plain": [
       "0"
      ]
     },
     "execution_count": 238,
     "metadata": {},
     "output_type": "execute_result"
    }
   ],
   "source": [
    "twilight_check('Daylight')"
   ]
  },
  {
   "cell_type": "code",
   "execution_count": 239,
   "metadata": {},
   "outputs": [],
   "source": [
    "df.rename(columns={'Lighting Conditions': 'Daylight?'}, inplace=True)"
   ]
  },
  {
   "cell_type": "markdown",
   "metadata": {},
   "source": [
    "### Traffic Control Device"
   ]
  },
  {
   "cell_type": "code",
   "execution_count": 240,
   "metadata": {
    "scrolled": true
   },
   "outputs": [
    {
     "data": {
      "text/plain": [
       "None                                      474034\n",
       "Traffic Signal                            187597\n",
       "Unknown                                    80073\n",
       "Stop Sign                                  74412\n",
       "No Passing Zone                            54433\n",
       "Other                                       8194\n",
       "Yield Sign                                  6986\n",
       "Construction Work Area                      3238\n",
       "Flashing Light                              2110\n",
       "Not Applicable                              1040\n",
       "RR Crossing Gates                            844\n",
       "Police/Fire Emergency                        671\n",
       "Stopped School Bus-Red Lights Flashing       575\n",
       "Officer/Guard                                497\n",
       "Maintenance Work Area                        394\n",
       "School Zone                                  374\n",
       "RR Crossing Sign                             210\n",
       "Utility Work Area                            150\n",
       "RR Crossing Flashing Light                    84\n",
       "Name: Traffic Control Device, dtype: int64"
      ]
     },
     "execution_count": 240,
     "metadata": {},
     "output_type": "execute_result"
    }
   ],
   "source": [
    "df['Traffic Control Device'].value_counts()"
   ]
  },
  {
   "cell_type": "code",
   "execution_count": 241,
   "metadata": {},
   "outputs": [],
   "source": [
    "def control_check(device):\n",
    "    if device in ['None', 'Not Applicable']:\n",
    "        return 0\n",
    "    else:\n",
    "        return 1"
   ]
  },
  {
   "cell_type": "code",
   "execution_count": 242,
   "metadata": {},
   "outputs": [],
   "source": [
    "df['Traffic Control Device'] = df['Traffic Control Device'].apply(control_check)"
   ]
  },
  {
   "cell_type": "markdown",
   "metadata": {},
   "source": [
    "In the future I want to boil down these traffic control devices and figure out which ones are best correlated with my target."
   ]
  },
  {
   "cell_type": "markdown",
   "metadata": {},
   "source": [
    "### Road Type"
   ]
  },
  {
   "cell_type": "code",
   "execution_count": 243,
   "metadata": {
    "scrolled": true
   },
   "outputs": [
    {
     "data": {
      "text/plain": [
       "Straight and Level        627342\n",
       "Straight and Grade         93101\n",
       "Unknown                    67083\n",
       "Curve and Level            49453\n",
       "Curve and Grade            40284\n",
       "Straight at Hill Crest     13978\n",
       "Curve at Hill Crest         4675\n",
       "Name: Road Descriptor, dtype: int64"
      ]
     },
     "execution_count": 243,
     "metadata": {},
     "output_type": "execute_result"
    }
   ],
   "source": [
    "df['Road Descriptor'].value_counts()"
   ]
  },
  {
   "cell_type": "markdown",
   "metadata": {},
   "source": [
    "**Halfway through I found this online, I forgot that if you convert a bool statement into an into it will be a 1/0**"
   ]
  },
  {
   "cell_type": "code",
   "execution_count": 244,
   "metadata": {},
   "outputs": [],
   "source": [
    "df['Straight Road?'] = df['Road Descriptor'].str.contains('Straight').astype(int)"
   ]
  },
  {
   "cell_type": "code",
   "execution_count": 245,
   "metadata": {},
   "outputs": [],
   "source": [
    "df['Level Road?'] = df['Road Descriptor'].str.contains('Level').astype(int)"
   ]
  },
  {
   "cell_type": "code",
   "execution_count": 246,
   "metadata": {},
   "outputs": [],
   "source": [
    "df['Hill Crest?'] = df['Road Descriptor'].str.contains('Hill Crest').astype(int)"
   ]
  },
  {
   "cell_type": "code",
   "execution_count": 247,
   "metadata": {
    "scrolled": true
   },
   "outputs": [],
   "source": [
    "df = df.drop(['Road Descriptor'] ,axis=1)"
   ]
  },
  {
   "cell_type": "markdown",
   "metadata": {},
   "source": [
    "### Road Surface Condition"
   ]
  },
  {
   "cell_type": "code",
   "execution_count": 248,
   "metadata": {},
   "outputs": [
    {
     "data": {
      "text/plain": [
       "Dry              616638\n",
       "Wet              129290\n",
       "Snow/Ice          76546\n",
       "Unknown           66661\n",
       "Slush              4846\n",
       "Other              1140\n",
       "Muddy               506\n",
       "Flooded Water       289\n",
       "Name: Road Surface Conditions, dtype: int64"
      ]
     },
     "execution_count": 248,
     "metadata": {},
     "output_type": "execute_result"
    }
   ],
   "source": [
    "df['Road Surface Conditions'].value_counts()"
   ]
  },
  {
   "cell_type": "code",
   "execution_count": null,
   "metadata": {},
   "outputs": [],
   "source": []
  },
  {
   "cell_type": "code",
   "execution_count": 249,
   "metadata": {},
   "outputs": [],
   "source": [
    "df['Road Surface Conditions'] = df['Road Surface Conditions'].str.contains('Dry').astype(int)"
   ]
  },
  {
   "cell_type": "code",
   "execution_count": 250,
   "metadata": {},
   "outputs": [],
   "source": [
    "df['Dry Road?'] = df['Road Surface Conditions']"
   ]
  },
  {
   "cell_type": "code",
   "execution_count": 251,
   "metadata": {
    "scrolled": true
   },
   "outputs": [],
   "source": [
    "df.drop(['Road Surface Conditions'] ,axis=1, inplace=True)"
   ]
  },
  {
   "cell_type": "markdown",
   "metadata": {},
   "source": [
    "### Weather Conditions"
   ]
  },
  {
   "cell_type": "code",
   "execution_count": 252,
   "metadata": {
    "scrolled": false
   },
   "outputs": [
    {
     "data": {
      "text/html": [
       "<div>\n",
       "<style scoped>\n",
       "    .dataframe tbody tr th:only-of-type {\n",
       "        vertical-align: middle;\n",
       "    }\n",
       "\n",
       "    .dataframe tbody tr th {\n",
       "        vertical-align: top;\n",
       "    }\n",
       "\n",
       "    .dataframe thead th {\n",
       "        text-align: right;\n",
       "    }\n",
       "</style>\n",
       "<table border=\"1\" class=\"dataframe\">\n",
       "  <thead>\n",
       "    <tr style=\"text-align: right;\">\n",
       "      <th></th>\n",
       "      <th>Crash Descriptor</th>\n",
       "      <th>Time</th>\n",
       "      <th>Month</th>\n",
       "      <th>Day of Week</th>\n",
       "      <th>Police Report</th>\n",
       "      <th>Daylight?</th>\n",
       "      <th>County Name</th>\n",
       "      <th>Weather Conditions</th>\n",
       "      <th>Traffic Control Device</th>\n",
       "      <th>Event Descriptor</th>\n",
       "      <th>Number of Vehicles Involved</th>\n",
       "      <th>Lit Dark Road?</th>\n",
       "      <th>Twilight Hour?</th>\n",
       "      <th>Straight Road?</th>\n",
       "      <th>Level Road?</th>\n",
       "      <th>Hill Crest?</th>\n",
       "      <th>Dry Road?</th>\n",
       "    </tr>\n",
       "  </thead>\n",
       "  <tbody>\n",
       "    <tr>\n",
       "      <th>0</th>\n",
       "      <td>Property Damage Accident</td>\n",
       "      <td>11</td>\n",
       "      <td>12</td>\n",
       "      <td>6</td>\n",
       "      <td>1</td>\n",
       "      <td>1</td>\n",
       "      <td>QUEENS</td>\n",
       "      <td>Clear</td>\n",
       "      <td>1</td>\n",
       "      <td>Other Motor Vehicle, Collision With</td>\n",
       "      <td>2</td>\n",
       "      <td>0</td>\n",
       "      <td>0</td>\n",
       "      <td>1</td>\n",
       "      <td>1</td>\n",
       "      <td>0</td>\n",
       "      <td>1</td>\n",
       "    </tr>\n",
       "    <tr>\n",
       "      <th>1</th>\n",
       "      <td>Injury Accident</td>\n",
       "      <td>18</td>\n",
       "      <td>12</td>\n",
       "      <td>6</td>\n",
       "      <td>1</td>\n",
       "      <td>0</td>\n",
       "      <td>NEW YORK</td>\n",
       "      <td>Clear</td>\n",
       "      <td>1</td>\n",
       "      <td>Bicyclist, Collision With</td>\n",
       "      <td>1</td>\n",
       "      <td>1</td>\n",
       "      <td>0</td>\n",
       "      <td>1</td>\n",
       "      <td>1</td>\n",
       "      <td>0</td>\n",
       "      <td>1</td>\n",
       "    </tr>\n",
       "    <tr>\n",
       "      <th>2</th>\n",
       "      <td>Property Damage Accident</td>\n",
       "      <td>14</td>\n",
       "      <td>12</td>\n",
       "      <td>6</td>\n",
       "      <td>1</td>\n",
       "      <td>1</td>\n",
       "      <td>TOMPKINS</td>\n",
       "      <td>Cloudy</td>\n",
       "      <td>0</td>\n",
       "      <td>Guide Rail - Not At End, Collision With Fixed ...</td>\n",
       "      <td>1</td>\n",
       "      <td>0</td>\n",
       "      <td>0</td>\n",
       "      <td>0</td>\n",
       "      <td>0</td>\n",
       "      <td>0</td>\n",
       "      <td>1</td>\n",
       "    </tr>\n",
       "    <tr>\n",
       "      <th>3</th>\n",
       "      <td>Property Damage Accident</td>\n",
       "      <td>12</td>\n",
       "      <td>12</td>\n",
       "      <td>6</td>\n",
       "      <td>1</td>\n",
       "      <td>1</td>\n",
       "      <td>ERIE</td>\n",
       "      <td>Snow</td>\n",
       "      <td>0</td>\n",
       "      <td>Snow Embankment, Collision With Fixed Object</td>\n",
       "      <td>1</td>\n",
       "      <td>0</td>\n",
       "      <td>0</td>\n",
       "      <td>1</td>\n",
       "      <td>1</td>\n",
       "      <td>0</td>\n",
       "      <td>0</td>\n",
       "    </tr>\n",
       "    <tr>\n",
       "      <th>4</th>\n",
       "      <td>Property Damage &amp; Injury Accident</td>\n",
       "      <td>15</td>\n",
       "      <td>12</td>\n",
       "      <td>6</td>\n",
       "      <td>1</td>\n",
       "      <td>1</td>\n",
       "      <td>NEW YORK</td>\n",
       "      <td>Clear</td>\n",
       "      <td>1</td>\n",
       "      <td>Other Motor Vehicle, Collision With</td>\n",
       "      <td>2</td>\n",
       "      <td>0</td>\n",
       "      <td>0</td>\n",
       "      <td>1</td>\n",
       "      <td>1</td>\n",
       "      <td>0</td>\n",
       "      <td>1</td>\n",
       "    </tr>\n",
       "  </tbody>\n",
       "</table>\n",
       "</div>"
      ],
      "text/plain": [
       "                    Crash Descriptor  Time  Month  Day of Week  Police Report  \\\n",
       "0           Property Damage Accident    11     12            6              1   \n",
       "1                    Injury Accident    18     12            6              1   \n",
       "2           Property Damage Accident    14     12            6              1   \n",
       "3           Property Damage Accident    12     12            6              1   \n",
       "4  Property Damage & Injury Accident    15     12            6              1   \n",
       "\n",
       "   Daylight? County Name Weather Conditions  Traffic Control Device  \\\n",
       "0          1      QUEENS              Clear                       1   \n",
       "1          0    NEW YORK              Clear                       1   \n",
       "2          1    TOMPKINS             Cloudy                       0   \n",
       "3          1        ERIE               Snow                       0   \n",
       "4          1    NEW YORK              Clear                       1   \n",
       "\n",
       "                                    Event Descriptor  \\\n",
       "0                Other Motor Vehicle, Collision With   \n",
       "1                          Bicyclist, Collision With   \n",
       "2  Guide Rail - Not At End, Collision With Fixed ...   \n",
       "3       Snow Embankment, Collision With Fixed Object   \n",
       "4                Other Motor Vehicle, Collision With   \n",
       "\n",
       "   Number of Vehicles Involved  Lit Dark Road?  Twilight Hour?  \\\n",
       "0                            2               0               0   \n",
       "1                            1               1               0   \n",
       "2                            1               0               0   \n",
       "3                            1               0               0   \n",
       "4                            2               0               0   \n",
       "\n",
       "   Straight Road?  Level Road?  Hill Crest?  Dry Road?  \n",
       "0               1            1            0          1  \n",
       "1               1            1            0          1  \n",
       "2               0            0            0          1  \n",
       "3               1            1            0          0  \n",
       "4               1            1            0          1  "
      ]
     },
     "execution_count": 252,
     "metadata": {},
     "output_type": "execute_result"
    }
   ],
   "source": [
    "df.head()"
   ]
  },
  {
   "cell_type": "code",
   "execution_count": 253,
   "metadata": {},
   "outputs": [],
   "source": [
    "def weather_convertor(weather):\n",
    "    '''\n",
    "    Checks to see if the weather was clear/cloudy and returns a 1, all others get 0.\n",
    "    '''\n",
    "    return int(weather in ['Clear','Cloudy'])"
   ]
  },
  {
   "cell_type": "code",
   "execution_count": 254,
   "metadata": {},
   "outputs": [],
   "source": [
    "df['Weather Conditions'] = df['Weather Conditions'].apply(weather_convertor)"
   ]
  },
  {
   "cell_type": "code",
   "execution_count": 255,
   "metadata": {},
   "outputs": [],
   "source": [
    "df.rename(columns={'Weather Conditions': 'Precipitation?'}, inplace=True)"
   ]
  },
  {
   "cell_type": "markdown",
   "metadata": {},
   "source": [
    "### County DUI Rates\n",
    "Bringing in high DUI rate counties"
   ]
  },
  {
   "cell_type": "code",
   "execution_count": 256,
   "metadata": {
    "scrolled": true
   },
   "outputs": [],
   "source": [
    "counties_dui = pd.read_csv('county_dui_rate.csv')"
   ]
  },
  {
   "cell_type": "code",
   "execution_count": 257,
   "metadata": {
    "scrolled": false
   },
   "outputs": [
    {
     "data": {
      "text/html": [
       "<div>\n",
       "<style scoped>\n",
       "    .dataframe tbody tr th:only-of-type {\n",
       "        vertical-align: middle;\n",
       "    }\n",
       "\n",
       "    .dataframe tbody tr th {\n",
       "        vertical-align: top;\n",
       "    }\n",
       "\n",
       "    .dataframe thead th {\n",
       "        text-align: right;\n",
       "    }\n",
       "</style>\n",
       "<table border=\"1\" class=\"dataframe\">\n",
       "  <thead>\n",
       "    <tr style=\"text-align: right;\">\n",
       "      <th></th>\n",
       "      <th>County</th>\n",
       "      <th>Rate</th>\n",
       "    </tr>\n",
       "  </thead>\n",
       "  <tbody>\n",
       "    <tr>\n",
       "      <th>0</th>\n",
       "      <td>Albany County</td>\n",
       "      <td>1,247</td>\n",
       "    </tr>\n",
       "    <tr>\n",
       "      <th>1</th>\n",
       "      <td>Allegany County</td>\n",
       "      <td>941</td>\n",
       "    </tr>\n",
       "    <tr>\n",
       "      <th>2</th>\n",
       "      <td>Bronx County</td>\n",
       "      <td>7,091</td>\n",
       "    </tr>\n",
       "    <tr>\n",
       "      <th>3</th>\n",
       "      <td>Broome County</td>\n",
       "      <td>1,278</td>\n",
       "    </tr>\n",
       "    <tr>\n",
       "      <th>4</th>\n",
       "      <td>Cattaraugus County</td>\n",
       "      <td>1,015</td>\n",
       "    </tr>\n",
       "  </tbody>\n",
       "</table>\n",
       "</div>"
      ],
      "text/plain": [
       "               County   Rate\n",
       "0       Albany County  1,247\n",
       "1     Allegany County    941\n",
       "2        Bronx County  7,091\n",
       "3       Broome County  1,278\n",
       "4  Cattaraugus County  1,015"
      ]
     },
     "execution_count": 257,
     "metadata": {},
     "output_type": "execute_result"
    }
   ],
   "source": [
    "counties_dui.head()"
   ]
  },
  {
   "cell_type": "code",
   "execution_count": 258,
   "metadata": {
    "scrolled": true
   },
   "outputs": [],
   "source": [
    "counties_dui['Rate'] = counties_dui['Rate'].str.replace(',', '')\n",
    "counties_dui['Rate'] = counties_dui['Rate'].astype(float)\n",
    "counties_dui['Rate'] = counties_dui['Rate'].astype(int)\n",
    "dui_dict = counties_dui.set_index('County').to_dict()"
   ]
  },
  {
   "cell_type": "code",
   "execution_count": 259,
   "metadata": {},
   "outputs": [
    {
     "data": {
      "text/plain": [
       "{'Rate': {'Albany County': 1247,\n",
       "  'Allegany County': 941,\n",
       "  'Bronx County': 7091,\n",
       "  'Broome County': 1278,\n",
       "  'Cattaraugus County': 1015,\n",
       "  'Cayuga County': 1276,\n",
       "  'Chautauqua County': 1040,\n",
       "  'Chemung County': 1264,\n",
       "  'Chenango County': 1151,\n",
       "  'Clinton County': 1341,\n",
       "  'Columbia County': 1239,\n",
       "  'Cortland County': 952,\n",
       "  'Delaware County': 883,\n",
       "  'Dutchess County': 1381,\n",
       "  'Erie County': 1438,\n",
       "  'Essex County': 878,\n",
       "  'Franklin County': 1042,\n",
       "  'Fulton County': 1027,\n",
       "  'Genesee County': 818,\n",
       "  'Greene County': 858,\n",
       "  'Hamilton County': 552,\n",
       "  'Herkimer County': 1157,\n",
       "  'Jefferson County': 1017,\n",
       "  'Kings County': 6448,\n",
       "  'Lewis County': 1252,\n",
       "  'Livingston County': 1258,\n",
       "  'Madison County': 1419,\n",
       "  'Monroe County': 1354,\n",
       "  'Montgomery County': 1070,\n",
       "  'Nassau County': 2013,\n",
       "  'New York County': 6594,\n",
       "  'Niagara County': 1292,\n",
       "  'Oneida County': 1369,\n",
       "  'Onondaga County': 1363,\n",
       "  'Ontario County': 1307,\n",
       "  'Orange County': 1254,\n",
       "  'Orleans County': 1223,\n",
       "  'Oswego County': 1301,\n",
       "  'Otsego County': 1044,\n",
       "  'Putnam County': 983,\n",
       "  'Queens County': 5579,\n",
       "  'Rensselaer County': 1405,\n",
       "  'Richmond County': 3809,\n",
       "  'Rockland County': 1841,\n",
       "  'Saratoga County': 1121,\n",
       "  'Schenectady County': 1233,\n",
       "  'Schoharie County': 1476,\n",
       "  'Schuyler County': 890,\n",
       "  'Seneca County': 972,\n",
       "  'St. Lawrence County': 1067,\n",
       "  'Steuben County': 1109,\n",
       "  'Suffolk County': 1439,\n",
       "  'Sullivan County': 1143,\n",
       "  'Tioga County': 1236,\n",
       "  'Tompkins County': 1261,\n",
       "  'Ulster County': 992,\n",
       "  'Warren County': 841,\n",
       "  'Washington County': 1020,\n",
       "  'Wayne County': 1342,\n",
       "  'Westchester County': 2293,\n",
       "  'Wyoming County': 972,\n",
       "  'Yates County': 1557}}"
      ]
     },
     "execution_count": 259,
     "metadata": {},
     "output_type": "execute_result"
    }
   ],
   "source": [
    "dui_dict"
   ]
  },
  {
   "cell_type": "code",
   "execution_count": 260,
   "metadata": {},
   "outputs": [
    {
     "data": {
      "text/plain": [
       "'Hello County'"
      ]
     },
     "execution_count": 260,
     "metadata": {},
     "output_type": "execute_result"
    }
   ],
   "source": [
    "'Hello' + \" County\""
   ]
  },
  {
   "cell_type": "code",
   "execution_count": 261,
   "metadata": {},
   "outputs": [],
   "source": [
    "def dui_convert(county):\n",
    "    '''\n",
    "    Converts the county into the suitable format and then checks it against the dictionary of counties,\n",
    "    returning its paired population density\n",
    "    '''\n",
    "    capital_case = county.title() + \" County\"\n",
    "    if capital_case == 'Unknown County':\n",
    "        return np.nan\n",
    "    else:\n",
    "        return dui_dict['Rate'][capital_case]"
   ]
  },
  {
   "cell_type": "code",
   "execution_count": 262,
   "metadata": {},
   "outputs": [],
   "source": [
    "df['Pop per DUI'] = df['County Name'].apply(dui_convert)"
   ]
  },
  {
   "cell_type": "code",
   "execution_count": 263,
   "metadata": {},
   "outputs": [],
   "source": [
    "df.dropna(inplace=True)"
   ]
  },
  {
   "cell_type": "code",
   "execution_count": 264,
   "metadata": {},
   "outputs": [],
   "source": [
    "df['Pop per DUI'] = df['Pop per DUI'].astype(int)"
   ]
  },
  {
   "cell_type": "code",
   "execution_count": 265,
   "metadata": {},
   "outputs": [],
   "source": [
    "df.dropna(inplace=True)"
   ]
  },
  {
   "cell_type": "code",
   "execution_count": 266,
   "metadata": {},
   "outputs": [
    {
     "data": {
      "text/html": [
       "<div>\n",
       "<style scoped>\n",
       "    .dataframe tbody tr th:only-of-type {\n",
       "        vertical-align: middle;\n",
       "    }\n",
       "\n",
       "    .dataframe tbody tr th {\n",
       "        vertical-align: top;\n",
       "    }\n",
       "\n",
       "    .dataframe thead th {\n",
       "        text-align: right;\n",
       "    }\n",
       "</style>\n",
       "<table border=\"1\" class=\"dataframe\">\n",
       "  <thead>\n",
       "    <tr style=\"text-align: right;\">\n",
       "      <th></th>\n",
       "      <th>Crash Descriptor</th>\n",
       "      <th>Time</th>\n",
       "      <th>Month</th>\n",
       "      <th>Day of Week</th>\n",
       "      <th>Police Report</th>\n",
       "      <th>Daylight?</th>\n",
       "      <th>County Name</th>\n",
       "      <th>Precipitation?</th>\n",
       "      <th>Traffic Control Device</th>\n",
       "      <th>Event Descriptor</th>\n",
       "      <th>Number of Vehicles Involved</th>\n",
       "      <th>Lit Dark Road?</th>\n",
       "      <th>Twilight Hour?</th>\n",
       "      <th>Straight Road?</th>\n",
       "      <th>Level Road?</th>\n",
       "      <th>Hill Crest?</th>\n",
       "      <th>Dry Road?</th>\n",
       "      <th>Pop per DUI</th>\n",
       "    </tr>\n",
       "  </thead>\n",
       "  <tbody>\n",
       "    <tr>\n",
       "      <th>0</th>\n",
       "      <td>Property Damage Accident</td>\n",
       "      <td>11</td>\n",
       "      <td>12</td>\n",
       "      <td>6</td>\n",
       "      <td>1</td>\n",
       "      <td>1</td>\n",
       "      <td>QUEENS</td>\n",
       "      <td>1</td>\n",
       "      <td>1</td>\n",
       "      <td>Other Motor Vehicle, Collision With</td>\n",
       "      <td>2</td>\n",
       "      <td>0</td>\n",
       "      <td>0</td>\n",
       "      <td>1</td>\n",
       "      <td>1</td>\n",
       "      <td>0</td>\n",
       "      <td>1</td>\n",
       "      <td>5579</td>\n",
       "    </tr>\n",
       "    <tr>\n",
       "      <th>1</th>\n",
       "      <td>Injury Accident</td>\n",
       "      <td>18</td>\n",
       "      <td>12</td>\n",
       "      <td>6</td>\n",
       "      <td>1</td>\n",
       "      <td>0</td>\n",
       "      <td>NEW YORK</td>\n",
       "      <td>1</td>\n",
       "      <td>1</td>\n",
       "      <td>Bicyclist, Collision With</td>\n",
       "      <td>1</td>\n",
       "      <td>1</td>\n",
       "      <td>0</td>\n",
       "      <td>1</td>\n",
       "      <td>1</td>\n",
       "      <td>0</td>\n",
       "      <td>1</td>\n",
       "      <td>6594</td>\n",
       "    </tr>\n",
       "    <tr>\n",
       "      <th>2</th>\n",
       "      <td>Property Damage Accident</td>\n",
       "      <td>14</td>\n",
       "      <td>12</td>\n",
       "      <td>6</td>\n",
       "      <td>1</td>\n",
       "      <td>1</td>\n",
       "      <td>TOMPKINS</td>\n",
       "      <td>1</td>\n",
       "      <td>0</td>\n",
       "      <td>Guide Rail - Not At End, Collision With Fixed ...</td>\n",
       "      <td>1</td>\n",
       "      <td>0</td>\n",
       "      <td>0</td>\n",
       "      <td>0</td>\n",
       "      <td>0</td>\n",
       "      <td>0</td>\n",
       "      <td>1</td>\n",
       "      <td>1261</td>\n",
       "    </tr>\n",
       "    <tr>\n",
       "      <th>3</th>\n",
       "      <td>Property Damage Accident</td>\n",
       "      <td>12</td>\n",
       "      <td>12</td>\n",
       "      <td>6</td>\n",
       "      <td>1</td>\n",
       "      <td>1</td>\n",
       "      <td>ERIE</td>\n",
       "      <td>0</td>\n",
       "      <td>0</td>\n",
       "      <td>Snow Embankment, Collision With Fixed Object</td>\n",
       "      <td>1</td>\n",
       "      <td>0</td>\n",
       "      <td>0</td>\n",
       "      <td>1</td>\n",
       "      <td>1</td>\n",
       "      <td>0</td>\n",
       "      <td>0</td>\n",
       "      <td>1438</td>\n",
       "    </tr>\n",
       "    <tr>\n",
       "      <th>4</th>\n",
       "      <td>Property Damage &amp; Injury Accident</td>\n",
       "      <td>15</td>\n",
       "      <td>12</td>\n",
       "      <td>6</td>\n",
       "      <td>1</td>\n",
       "      <td>1</td>\n",
       "      <td>NEW YORK</td>\n",
       "      <td>1</td>\n",
       "      <td>1</td>\n",
       "      <td>Other Motor Vehicle, Collision With</td>\n",
       "      <td>2</td>\n",
       "      <td>0</td>\n",
       "      <td>0</td>\n",
       "      <td>1</td>\n",
       "      <td>1</td>\n",
       "      <td>0</td>\n",
       "      <td>1</td>\n",
       "      <td>6594</td>\n",
       "    </tr>\n",
       "  </tbody>\n",
       "</table>\n",
       "</div>"
      ],
      "text/plain": [
       "                    Crash Descriptor  Time  Month  Day of Week  Police Report  \\\n",
       "0           Property Damage Accident    11     12            6              1   \n",
       "1                    Injury Accident    18     12            6              1   \n",
       "2           Property Damage Accident    14     12            6              1   \n",
       "3           Property Damage Accident    12     12            6              1   \n",
       "4  Property Damage & Injury Accident    15     12            6              1   \n",
       "\n",
       "   Daylight? County Name  Precipitation?  Traffic Control Device  \\\n",
       "0          1      QUEENS               1                       1   \n",
       "1          0    NEW YORK               1                       1   \n",
       "2          1    TOMPKINS               1                       0   \n",
       "3          1        ERIE               0                       0   \n",
       "4          1    NEW YORK               1                       1   \n",
       "\n",
       "                                    Event Descriptor  \\\n",
       "0                Other Motor Vehicle, Collision With   \n",
       "1                          Bicyclist, Collision With   \n",
       "2  Guide Rail - Not At End, Collision With Fixed ...   \n",
       "3       Snow Embankment, Collision With Fixed Object   \n",
       "4                Other Motor Vehicle, Collision With   \n",
       "\n",
       "   Number of Vehicles Involved  Lit Dark Road?  Twilight Hour?  \\\n",
       "0                            2               0               0   \n",
       "1                            1               1               0   \n",
       "2                            1               0               0   \n",
       "3                            1               0               0   \n",
       "4                            2               0               0   \n",
       "\n",
       "   Straight Road?  Level Road?  Hill Crest?  Dry Road?  Pop per DUI  \n",
       "0               1            1            0          1         5579  \n",
       "1               1            1            0          1         6594  \n",
       "2               0            0            0          1         1261  \n",
       "3               1            1            0          0         1438  \n",
       "4               1            1            0          1         6594  "
      ]
     },
     "execution_count": 266,
     "metadata": {},
     "output_type": "execute_result"
    }
   ],
   "source": [
    "df.head()"
   ]
  },
  {
   "cell_type": "markdown",
   "metadata": {},
   "source": [
    "### County Density\n",
    "I decided to bring in outside data related to how densly populated the county is"
   ]
  },
  {
   "cell_type": "code",
   "execution_count": 267,
   "metadata": {
    "scrolled": false
   },
   "outputs": [
    {
     "data": {
      "text/html": [
       "<div>\n",
       "<style scoped>\n",
       "    .dataframe tbody tr th:only-of-type {\n",
       "        vertical-align: middle;\n",
       "    }\n",
       "\n",
       "    .dataframe tbody tr th {\n",
       "        vertical-align: top;\n",
       "    }\n",
       "\n",
       "    .dataframe thead th {\n",
       "        text-align: right;\n",
       "    }\n",
       "</style>\n",
       "<table border=\"1\" class=\"dataframe\">\n",
       "  <thead>\n",
       "    <tr style=\"text-align: right;\">\n",
       "      <th></th>\n",
       "      <th>County</th>\n",
       "      <th>Population_Density</th>\n",
       "    </tr>\n",
       "  </thead>\n",
       "  <tbody>\n",
       "    <tr>\n",
       "      <th>0</th>\n",
       "      <td>New York City</td>\n",
       "      <td>27,011.84</td>\n",
       "    </tr>\n",
       "    <tr>\n",
       "      <th>1</th>\n",
       "      <td>Bronx</td>\n",
       "      <td>32,900.43</td>\n",
       "    </tr>\n",
       "    <tr>\n",
       "      <th>2</th>\n",
       "      <td>Kings</td>\n",
       "      <td>35,367.13</td>\n",
       "    </tr>\n",
       "    <tr>\n",
       "      <th>3</th>\n",
       "      <td>New York</td>\n",
       "      <td>69,464.43</td>\n",
       "    </tr>\n",
       "    <tr>\n",
       "      <th>4</th>\n",
       "      <td>Queens</td>\n",
       "      <td>20,553.97</td>\n",
       "    </tr>\n",
       "  </tbody>\n",
       "</table>\n",
       "</div>"
      ],
      "text/plain": [
       "          County Population_Density\n",
       "0  New York City          27,011.84\n",
       "1          Bronx          32,900.43\n",
       "2          Kings          35,367.13\n",
       "3       New York          69,464.43\n",
       "4         Queens          20,553.97"
      ]
     },
     "execution_count": 267,
     "metadata": {},
     "output_type": "execute_result"
    }
   ],
   "source": [
    "counties.head()"
   ]
  },
  {
   "cell_type": "code",
   "execution_count": 268,
   "metadata": {},
   "outputs": [],
   "source": [
    "counties['Population_Density'] = counties['Population_Density'].str.replace(',', '')"
   ]
  },
  {
   "cell_type": "code",
   "execution_count": 269,
   "metadata": {
    "scrolled": true
   },
   "outputs": [],
   "source": [
    "counties['Population_Density'] = counties['Population_Density'].astype(float)"
   ]
  },
  {
   "cell_type": "code",
   "execution_count": 270,
   "metadata": {},
   "outputs": [],
   "source": [
    "counties['Population_Density'] = counties['Population_Density'].astype(int)"
   ]
  },
  {
   "cell_type": "code",
   "execution_count": 271,
   "metadata": {},
   "outputs": [],
   "source": [
    "df['County Name'] = df['County Name'].str.replace('.','')"
   ]
  },
  {
   "cell_type": "code",
   "execution_count": 272,
   "metadata": {
    "scrolled": true
   },
   "outputs": [],
   "source": [
    "county_dict = counties.set_index('County').to_dict()"
   ]
  },
  {
   "cell_type": "code",
   "execution_count": 273,
   "metadata": {},
   "outputs": [],
   "source": [
    "def pop_convert(county):\n",
    "    '''\n",
    "    Converts the county into the suitable format and then checks it against the dictionary of counties,\n",
    "    returning its paired population density\n",
    "    '''\n",
    "    capital_case = county.title() \n",
    "    if capital_case == 'Unknown':\n",
    "        return np.nan\n",
    "    else:\n",
    "        return county_dict['Population_Density'][capital_case]"
   ]
  },
  {
   "cell_type": "code",
   "execution_count": 274,
   "metadata": {},
   "outputs": [],
   "source": [
    "df['Population Density'] = df['County Name'].apply(pop_convert)"
   ]
  },
  {
   "cell_type": "code",
   "execution_count": 275,
   "metadata": {},
   "outputs": [],
   "source": [
    "df['Population Density'] = df['Population Density'].astype(int)"
   ]
  },
  {
   "cell_type": "code",
   "execution_count": 276,
   "metadata": {},
   "outputs": [],
   "source": [
    "df.dropna(inplace=True)"
   ]
  },
  {
   "cell_type": "code",
   "execution_count": 277,
   "metadata": {
    "scrolled": false
   },
   "outputs": [
    {
     "data": {
      "text/html": [
       "<div>\n",
       "<style scoped>\n",
       "    .dataframe tbody tr th:only-of-type {\n",
       "        vertical-align: middle;\n",
       "    }\n",
       "\n",
       "    .dataframe tbody tr th {\n",
       "        vertical-align: top;\n",
       "    }\n",
       "\n",
       "    .dataframe thead th {\n",
       "        text-align: right;\n",
       "    }\n",
       "</style>\n",
       "<table border=\"1\" class=\"dataframe\">\n",
       "  <thead>\n",
       "    <tr style=\"text-align: right;\">\n",
       "      <th></th>\n",
       "      <th>Crash Descriptor</th>\n",
       "      <th>Time</th>\n",
       "      <th>Month</th>\n",
       "      <th>Day of Week</th>\n",
       "      <th>Police Report</th>\n",
       "      <th>Daylight?</th>\n",
       "      <th>County Name</th>\n",
       "      <th>Precipitation?</th>\n",
       "      <th>Traffic Control Device</th>\n",
       "      <th>Event Descriptor</th>\n",
       "      <th>Number of Vehicles Involved</th>\n",
       "      <th>Lit Dark Road?</th>\n",
       "      <th>Twilight Hour?</th>\n",
       "      <th>Straight Road?</th>\n",
       "      <th>Level Road?</th>\n",
       "      <th>Hill Crest?</th>\n",
       "      <th>Dry Road?</th>\n",
       "      <th>Pop per DUI</th>\n",
       "      <th>Population Density</th>\n",
       "    </tr>\n",
       "  </thead>\n",
       "  <tbody>\n",
       "    <tr>\n",
       "      <th>0</th>\n",
       "      <td>Property Damage Accident</td>\n",
       "      <td>11</td>\n",
       "      <td>12</td>\n",
       "      <td>6</td>\n",
       "      <td>1</td>\n",
       "      <td>1</td>\n",
       "      <td>QUEENS</td>\n",
       "      <td>1</td>\n",
       "      <td>1</td>\n",
       "      <td>Other Motor Vehicle, Collision With</td>\n",
       "      <td>2</td>\n",
       "      <td>0</td>\n",
       "      <td>0</td>\n",
       "      <td>1</td>\n",
       "      <td>1</td>\n",
       "      <td>0</td>\n",
       "      <td>1</td>\n",
       "      <td>5579</td>\n",
       "      <td>20553</td>\n",
       "    </tr>\n",
       "    <tr>\n",
       "      <th>1</th>\n",
       "      <td>Injury Accident</td>\n",
       "      <td>18</td>\n",
       "      <td>12</td>\n",
       "      <td>6</td>\n",
       "      <td>1</td>\n",
       "      <td>0</td>\n",
       "      <td>NEW YORK</td>\n",
       "      <td>1</td>\n",
       "      <td>1</td>\n",
       "      <td>Bicyclist, Collision With</td>\n",
       "      <td>1</td>\n",
       "      <td>1</td>\n",
       "      <td>0</td>\n",
       "      <td>1</td>\n",
       "      <td>1</td>\n",
       "      <td>0</td>\n",
       "      <td>1</td>\n",
       "      <td>6594</td>\n",
       "      <td>69464</td>\n",
       "    </tr>\n",
       "    <tr>\n",
       "      <th>2</th>\n",
       "      <td>Property Damage Accident</td>\n",
       "      <td>14</td>\n",
       "      <td>12</td>\n",
       "      <td>6</td>\n",
       "      <td>1</td>\n",
       "      <td>1</td>\n",
       "      <td>TOMPKINS</td>\n",
       "      <td>1</td>\n",
       "      <td>0</td>\n",
       "      <td>Guide Rail - Not At End, Collision With Fixed ...</td>\n",
       "      <td>1</td>\n",
       "      <td>0</td>\n",
       "      <td>0</td>\n",
       "      <td>0</td>\n",
       "      <td>0</td>\n",
       "      <td>0</td>\n",
       "      <td>1</td>\n",
       "      <td>1261</td>\n",
       "      <td>213</td>\n",
       "    </tr>\n",
       "    <tr>\n",
       "      <th>3</th>\n",
       "      <td>Property Damage Accident</td>\n",
       "      <td>12</td>\n",
       "      <td>12</td>\n",
       "      <td>6</td>\n",
       "      <td>1</td>\n",
       "      <td>1</td>\n",
       "      <td>ERIE</td>\n",
       "      <td>0</td>\n",
       "      <td>0</td>\n",
       "      <td>Snow Embankment, Collision With Fixed Object</td>\n",
       "      <td>1</td>\n",
       "      <td>0</td>\n",
       "      <td>0</td>\n",
       "      <td>1</td>\n",
       "      <td>1</td>\n",
       "      <td>0</td>\n",
       "      <td>0</td>\n",
       "      <td>1438</td>\n",
       "      <td>881</td>\n",
       "    </tr>\n",
       "    <tr>\n",
       "      <th>4</th>\n",
       "      <td>Property Damage &amp; Injury Accident</td>\n",
       "      <td>15</td>\n",
       "      <td>12</td>\n",
       "      <td>6</td>\n",
       "      <td>1</td>\n",
       "      <td>1</td>\n",
       "      <td>NEW YORK</td>\n",
       "      <td>1</td>\n",
       "      <td>1</td>\n",
       "      <td>Other Motor Vehicle, Collision With</td>\n",
       "      <td>2</td>\n",
       "      <td>0</td>\n",
       "      <td>0</td>\n",
       "      <td>1</td>\n",
       "      <td>1</td>\n",
       "      <td>0</td>\n",
       "      <td>1</td>\n",
       "      <td>6594</td>\n",
       "      <td>69464</td>\n",
       "    </tr>\n",
       "  </tbody>\n",
       "</table>\n",
       "</div>"
      ],
      "text/plain": [
       "                    Crash Descriptor  Time  Month  Day of Week  Police Report  \\\n",
       "0           Property Damage Accident    11     12            6              1   \n",
       "1                    Injury Accident    18     12            6              1   \n",
       "2           Property Damage Accident    14     12            6              1   \n",
       "3           Property Damage Accident    12     12            6              1   \n",
       "4  Property Damage & Injury Accident    15     12            6              1   \n",
       "\n",
       "   Daylight? County Name  Precipitation?  Traffic Control Device  \\\n",
       "0          1      QUEENS               1                       1   \n",
       "1          0    NEW YORK               1                       1   \n",
       "2          1    TOMPKINS               1                       0   \n",
       "3          1        ERIE               0                       0   \n",
       "4          1    NEW YORK               1                       1   \n",
       "\n",
       "                                    Event Descriptor  \\\n",
       "0                Other Motor Vehicle, Collision With   \n",
       "1                          Bicyclist, Collision With   \n",
       "2  Guide Rail - Not At End, Collision With Fixed ...   \n",
       "3       Snow Embankment, Collision With Fixed Object   \n",
       "4                Other Motor Vehicle, Collision With   \n",
       "\n",
       "   Number of Vehicles Involved  Lit Dark Road?  Twilight Hour?  \\\n",
       "0                            2               0               0   \n",
       "1                            1               1               0   \n",
       "2                            1               0               0   \n",
       "3                            1               0               0   \n",
       "4                            2               0               0   \n",
       "\n",
       "   Straight Road?  Level Road?  Hill Crest?  Dry Road?  Pop per DUI  \\\n",
       "0               1            1            0          1         5579   \n",
       "1               1            1            0          1         6594   \n",
       "2               0            0            0          1         1261   \n",
       "3               1            1            0          0         1438   \n",
       "4               1            1            0          1         6594   \n",
       "\n",
       "   Population Density  \n",
       "0               20553  \n",
       "1               69464  \n",
       "2                 213  \n",
       "3                 881  \n",
       "4               69464  "
      ]
     },
     "execution_count": 277,
     "metadata": {},
     "output_type": "execute_result"
    }
   ],
   "source": [
    "df.head()"
   ]
  },
  {
   "cell_type": "markdown",
   "metadata": {},
   "source": [
    "### Tackling Event Descriptor \n",
    "We need to pair these down to causes and participants "
   ]
  },
  {
   "cell_type": "code",
   "execution_count": 278,
   "metadata": {
    "scrolled": false
   },
   "outputs": [
    {
     "data": {
      "text/plain": [
       "Other Motor Vehicle, Collision With                             607981\n",
       "Deer                                                             67871\n",
       "Pedestrian, Collision With                                       41041\n",
       "Guide Rail - Not At End, Collision With Fixed Object             24158\n",
       "Earth Embankment/Rock Cut/Ditch, Collision With Fixed Object     20615\n",
       "Light Support/Utility Pole, Collision With Fixed Object          18066\n",
       "Bicyclist, Collision With                                        17294\n",
       "Tree, Collision With Fixed Object                                17199\n",
       "Other Fixed Object*, Collision With Fixed Object                  9372\n",
       "Animal, Collision With                                            8486\n",
       "Other Object (Not Fixed)*, Collision With                         7997\n",
       "Sign Post, Collision With Fixed Object                            7710\n",
       "Building/Wall, Collision With Fixed Object                        5245\n",
       "Other*, Non-Collision                                             5160\n",
       "Curbing, Collision With Fixed Object                              5129\n",
       "Snow Embankment, Collision With Fixed Object                      4779\n",
       "Overturned, Non-Collision                                         3713\n",
       "Barrier, Collision With Fixed Object                              3554\n",
       "Fence, Collision With Fixed Object                                3163\n",
       "Median - Not At End, Collision With Fixed Object                  2563\n",
       "Guide Rail - End, Collision With Fixed Object                     2460\n",
       "Ran Off Roadway Only, Non-Collision                               2028\n",
       "Bridge Structure, Collision With Fixed Object                     1626\n",
       "Fire Hydrant, Collision With Fixed Object                         1436\n",
       "Unknown                                                           1159\n",
       "Culver/Head Wall, Collision With Fixed Object                     1089\n",
       "Fire/Explosion, Non-Collision                                      975\n",
       "Other Pedestrian                                                   724\n",
       "Crash Cushion, Collision With Fixed Object                         517\n",
       "Median - End, Collision With Fixed Object                          315\n",
       "Submersion, Non-Collision                                          149\n",
       "Railroad Train, Collision With                                      64\n",
       "In-Line Skater, Collision With                                      19\n",
       "Name: Event Descriptor, dtype: int64"
      ]
     },
     "execution_count": 278,
     "metadata": {},
     "output_type": "execute_result"
    }
   ],
   "source": [
    "df['Event Descriptor'].value_counts()"
   ]
  },
  {
   "cell_type": "code",
   "execution_count": 279,
   "metadata": {},
   "outputs": [],
   "source": [
    "df['Collision?'] = df['Event Descriptor'].str.contains('Collision'or'Deer').astype(int)\n",
    "df['Pedestrian'] = df['Event Descriptor'].str.contains('Pedestrian'or'Skater').astype(int)\n",
    "df['Other Vehicle?'] = df['Event Descriptor'].str.contains('Vehicle').astype(int)\n",
    "df['Cyclist?'] = df['Event Descriptor'].str.contains('Bicyclist').astype(int)\n",
    "df['Fixed Object?'] = df['Event Descriptor'].str.contains('Fixed Object').astype(int)\n",
    "df['Unkown Cause'] = df['Event Descriptor'].str.contains('Unknown').astype(int)\n",
    "df['Explosion/Fire'] = df['Event Descriptor'].str.contains('Fire/Explosion').astype(int)\n",
    "df['Animal Involved?'] = df['Event Descriptor'].str.contains('Animal'or'Deer').astype(int)\n",
    "df['Overturned?'] = df['Event Descriptor'].str.contains('Overturned').astype(int)\n",
    "df['Train?'] = df['Event Descriptor'].str.contains('Train').astype(int)\n",
    "df['Submerged Car?'] = df['Event Descriptor'].str.contains('Submersion').astype(int)"
   ]
  },
  {
   "cell_type": "code",
   "execution_count": 280,
   "metadata": {
    "scrolled": false
   },
   "outputs": [
    {
     "data": {
      "text/html": [
       "<div>\n",
       "<style scoped>\n",
       "    .dataframe tbody tr th:only-of-type {\n",
       "        vertical-align: middle;\n",
       "    }\n",
       "\n",
       "    .dataframe tbody tr th {\n",
       "        vertical-align: top;\n",
       "    }\n",
       "\n",
       "    .dataframe thead th {\n",
       "        text-align: right;\n",
       "    }\n",
       "</style>\n",
       "<table border=\"1\" class=\"dataframe\">\n",
       "  <thead>\n",
       "    <tr style=\"text-align: right;\">\n",
       "      <th></th>\n",
       "      <th>Crash Descriptor</th>\n",
       "      <th>Time</th>\n",
       "      <th>Month</th>\n",
       "      <th>Day of Week</th>\n",
       "      <th>Police Report</th>\n",
       "      <th>Daylight?</th>\n",
       "      <th>County Name</th>\n",
       "      <th>Precipitation?</th>\n",
       "      <th>Traffic Control Device</th>\n",
       "      <th>Event Descriptor</th>\n",
       "      <th>...</th>\n",
       "      <th>Pedestrian</th>\n",
       "      <th>Other Vehicle?</th>\n",
       "      <th>Cyclist?</th>\n",
       "      <th>Fixed Object?</th>\n",
       "      <th>Unkown Cause</th>\n",
       "      <th>Explosion/Fire</th>\n",
       "      <th>Animal Involved?</th>\n",
       "      <th>Overturned?</th>\n",
       "      <th>Train?</th>\n",
       "      <th>Submerged Car?</th>\n",
       "    </tr>\n",
       "  </thead>\n",
       "  <tbody>\n",
       "    <tr>\n",
       "      <th>0</th>\n",
       "      <td>Property Damage Accident</td>\n",
       "      <td>11</td>\n",
       "      <td>12</td>\n",
       "      <td>6</td>\n",
       "      <td>1</td>\n",
       "      <td>1</td>\n",
       "      <td>QUEENS</td>\n",
       "      <td>1</td>\n",
       "      <td>1</td>\n",
       "      <td>Other Motor Vehicle, Collision With</td>\n",
       "      <td>...</td>\n",
       "      <td>0</td>\n",
       "      <td>1</td>\n",
       "      <td>0</td>\n",
       "      <td>0</td>\n",
       "      <td>0</td>\n",
       "      <td>0</td>\n",
       "      <td>0</td>\n",
       "      <td>0</td>\n",
       "      <td>0</td>\n",
       "      <td>0</td>\n",
       "    </tr>\n",
       "    <tr>\n",
       "      <th>1</th>\n",
       "      <td>Injury Accident</td>\n",
       "      <td>18</td>\n",
       "      <td>12</td>\n",
       "      <td>6</td>\n",
       "      <td>1</td>\n",
       "      <td>0</td>\n",
       "      <td>NEW YORK</td>\n",
       "      <td>1</td>\n",
       "      <td>1</td>\n",
       "      <td>Bicyclist, Collision With</td>\n",
       "      <td>...</td>\n",
       "      <td>0</td>\n",
       "      <td>0</td>\n",
       "      <td>1</td>\n",
       "      <td>0</td>\n",
       "      <td>0</td>\n",
       "      <td>0</td>\n",
       "      <td>0</td>\n",
       "      <td>0</td>\n",
       "      <td>0</td>\n",
       "      <td>0</td>\n",
       "    </tr>\n",
       "    <tr>\n",
       "      <th>2</th>\n",
       "      <td>Property Damage Accident</td>\n",
       "      <td>14</td>\n",
       "      <td>12</td>\n",
       "      <td>6</td>\n",
       "      <td>1</td>\n",
       "      <td>1</td>\n",
       "      <td>TOMPKINS</td>\n",
       "      <td>1</td>\n",
       "      <td>0</td>\n",
       "      <td>Guide Rail - Not At End, Collision With Fixed ...</td>\n",
       "      <td>...</td>\n",
       "      <td>0</td>\n",
       "      <td>0</td>\n",
       "      <td>0</td>\n",
       "      <td>1</td>\n",
       "      <td>0</td>\n",
       "      <td>0</td>\n",
       "      <td>0</td>\n",
       "      <td>0</td>\n",
       "      <td>0</td>\n",
       "      <td>0</td>\n",
       "    </tr>\n",
       "    <tr>\n",
       "      <th>3</th>\n",
       "      <td>Property Damage Accident</td>\n",
       "      <td>12</td>\n",
       "      <td>12</td>\n",
       "      <td>6</td>\n",
       "      <td>1</td>\n",
       "      <td>1</td>\n",
       "      <td>ERIE</td>\n",
       "      <td>0</td>\n",
       "      <td>0</td>\n",
       "      <td>Snow Embankment, Collision With Fixed Object</td>\n",
       "      <td>...</td>\n",
       "      <td>0</td>\n",
       "      <td>0</td>\n",
       "      <td>0</td>\n",
       "      <td>1</td>\n",
       "      <td>0</td>\n",
       "      <td>0</td>\n",
       "      <td>0</td>\n",
       "      <td>0</td>\n",
       "      <td>0</td>\n",
       "      <td>0</td>\n",
       "    </tr>\n",
       "    <tr>\n",
       "      <th>4</th>\n",
       "      <td>Property Damage &amp; Injury Accident</td>\n",
       "      <td>15</td>\n",
       "      <td>12</td>\n",
       "      <td>6</td>\n",
       "      <td>1</td>\n",
       "      <td>1</td>\n",
       "      <td>NEW YORK</td>\n",
       "      <td>1</td>\n",
       "      <td>1</td>\n",
       "      <td>Other Motor Vehicle, Collision With</td>\n",
       "      <td>...</td>\n",
       "      <td>0</td>\n",
       "      <td>1</td>\n",
       "      <td>0</td>\n",
       "      <td>0</td>\n",
       "      <td>0</td>\n",
       "      <td>0</td>\n",
       "      <td>0</td>\n",
       "      <td>0</td>\n",
       "      <td>0</td>\n",
       "      <td>0</td>\n",
       "    </tr>\n",
       "  </tbody>\n",
       "</table>\n",
       "<p>5 rows × 30 columns</p>\n",
       "</div>"
      ],
      "text/plain": [
       "                    Crash Descriptor  Time  Month  Day of Week  Police Report  \\\n",
       "0           Property Damage Accident    11     12            6              1   \n",
       "1                    Injury Accident    18     12            6              1   \n",
       "2           Property Damage Accident    14     12            6              1   \n",
       "3           Property Damage Accident    12     12            6              1   \n",
       "4  Property Damage & Injury Accident    15     12            6              1   \n",
       "\n",
       "   Daylight? County Name  Precipitation?  Traffic Control Device  \\\n",
       "0          1      QUEENS               1                       1   \n",
       "1          0    NEW YORK               1                       1   \n",
       "2          1    TOMPKINS               1                       0   \n",
       "3          1        ERIE               0                       0   \n",
       "4          1    NEW YORK               1                       1   \n",
       "\n",
       "                                    Event Descriptor  ...  Pedestrian  \\\n",
       "0                Other Motor Vehicle, Collision With  ...           0   \n",
       "1                          Bicyclist, Collision With  ...           0   \n",
       "2  Guide Rail - Not At End, Collision With Fixed ...  ...           0   \n",
       "3       Snow Embankment, Collision With Fixed Object  ...           0   \n",
       "4                Other Motor Vehicle, Collision With  ...           0   \n",
       "\n",
       "   Other Vehicle?  Cyclist?  Fixed Object?  Unkown Cause  Explosion/Fire  \\\n",
       "0               1         0              0             0               0   \n",
       "1               0         1              0             0               0   \n",
       "2               0         0              1             0               0   \n",
       "3               0         0              1             0               0   \n",
       "4               1         0              0             0               0   \n",
       "\n",
       "   Animal Involved?  Overturned?  Train?  Submerged Car?  \n",
       "0                 0            0       0               0  \n",
       "1                 0            0       0               0  \n",
       "2                 0            0       0               0  \n",
       "3                 0            0       0               0  \n",
       "4                 0            0       0               0  \n",
       "\n",
       "[5 rows x 30 columns]"
      ]
     },
     "execution_count": 280,
     "metadata": {},
     "output_type": "execute_result"
    }
   ],
   "source": [
    "df.head()"
   ]
  },
  {
   "cell_type": "code",
   "execution_count": 281,
   "metadata": {},
   "outputs": [],
   "source": [
    "df.drop(['Event Descriptor'] ,axis=1, inplace=True)"
   ]
  },
  {
   "cell_type": "markdown",
   "metadata": {},
   "source": [
    "### County Dummies\n",
    "Final Step!"
   ]
  },
  {
   "cell_type": "code",
   "execution_count": 282,
   "metadata": {},
   "outputs": [],
   "source": [
    "df = pd.get_dummies(df,columns=['County Name'])"
   ]
  },
  {
   "cell_type": "code",
   "execution_count": 283,
   "metadata": {
    "scrolled": false
   },
   "outputs": [
    {
     "data": {
      "text/html": [
       "<div>\n",
       "<style scoped>\n",
       "    .dataframe tbody tr th:only-of-type {\n",
       "        vertical-align: middle;\n",
       "    }\n",
       "\n",
       "    .dataframe tbody tr th {\n",
       "        vertical-align: top;\n",
       "    }\n",
       "\n",
       "    .dataframe thead th {\n",
       "        text-align: right;\n",
       "    }\n",
       "</style>\n",
       "<table border=\"1\" class=\"dataframe\">\n",
       "  <thead>\n",
       "    <tr style=\"text-align: right;\">\n",
       "      <th></th>\n",
       "      <th>Crash Descriptor</th>\n",
       "      <th>Time</th>\n",
       "      <th>Month</th>\n",
       "      <th>Day of Week</th>\n",
       "      <th>Police Report</th>\n",
       "      <th>Daylight?</th>\n",
       "      <th>Precipitation?</th>\n",
       "      <th>Traffic Control Device</th>\n",
       "      <th>Number of Vehicles Involved</th>\n",
       "      <th>Lit Dark Road?</th>\n",
       "      <th>...</th>\n",
       "      <th>County Name_SULLIVAN</th>\n",
       "      <th>County Name_TIOGA</th>\n",
       "      <th>County Name_TOMPKINS</th>\n",
       "      <th>County Name_ULSTER</th>\n",
       "      <th>County Name_WARREN</th>\n",
       "      <th>County Name_WASHINGTON</th>\n",
       "      <th>County Name_WAYNE</th>\n",
       "      <th>County Name_WESTCHESTER</th>\n",
       "      <th>County Name_WYOMING</th>\n",
       "      <th>County Name_YATES</th>\n",
       "    </tr>\n",
       "  </thead>\n",
       "  <tbody>\n",
       "    <tr>\n",
       "      <th>0</th>\n",
       "      <td>Property Damage Accident</td>\n",
       "      <td>11</td>\n",
       "      <td>12</td>\n",
       "      <td>6</td>\n",
       "      <td>1</td>\n",
       "      <td>1</td>\n",
       "      <td>1</td>\n",
       "      <td>1</td>\n",
       "      <td>2</td>\n",
       "      <td>0</td>\n",
       "      <td>...</td>\n",
       "      <td>0</td>\n",
       "      <td>0</td>\n",
       "      <td>0</td>\n",
       "      <td>0</td>\n",
       "      <td>0</td>\n",
       "      <td>0</td>\n",
       "      <td>0</td>\n",
       "      <td>0</td>\n",
       "      <td>0</td>\n",
       "      <td>0</td>\n",
       "    </tr>\n",
       "    <tr>\n",
       "      <th>1</th>\n",
       "      <td>Injury Accident</td>\n",
       "      <td>18</td>\n",
       "      <td>12</td>\n",
       "      <td>6</td>\n",
       "      <td>1</td>\n",
       "      <td>0</td>\n",
       "      <td>1</td>\n",
       "      <td>1</td>\n",
       "      <td>1</td>\n",
       "      <td>1</td>\n",
       "      <td>...</td>\n",
       "      <td>0</td>\n",
       "      <td>0</td>\n",
       "      <td>0</td>\n",
       "      <td>0</td>\n",
       "      <td>0</td>\n",
       "      <td>0</td>\n",
       "      <td>0</td>\n",
       "      <td>0</td>\n",
       "      <td>0</td>\n",
       "      <td>0</td>\n",
       "    </tr>\n",
       "    <tr>\n",
       "      <th>2</th>\n",
       "      <td>Property Damage Accident</td>\n",
       "      <td>14</td>\n",
       "      <td>12</td>\n",
       "      <td>6</td>\n",
       "      <td>1</td>\n",
       "      <td>1</td>\n",
       "      <td>1</td>\n",
       "      <td>0</td>\n",
       "      <td>1</td>\n",
       "      <td>0</td>\n",
       "      <td>...</td>\n",
       "      <td>0</td>\n",
       "      <td>0</td>\n",
       "      <td>1</td>\n",
       "      <td>0</td>\n",
       "      <td>0</td>\n",
       "      <td>0</td>\n",
       "      <td>0</td>\n",
       "      <td>0</td>\n",
       "      <td>0</td>\n",
       "      <td>0</td>\n",
       "    </tr>\n",
       "    <tr>\n",
       "      <th>3</th>\n",
       "      <td>Property Damage Accident</td>\n",
       "      <td>12</td>\n",
       "      <td>12</td>\n",
       "      <td>6</td>\n",
       "      <td>1</td>\n",
       "      <td>1</td>\n",
       "      <td>0</td>\n",
       "      <td>0</td>\n",
       "      <td>1</td>\n",
       "      <td>0</td>\n",
       "      <td>...</td>\n",
       "      <td>0</td>\n",
       "      <td>0</td>\n",
       "      <td>0</td>\n",
       "      <td>0</td>\n",
       "      <td>0</td>\n",
       "      <td>0</td>\n",
       "      <td>0</td>\n",
       "      <td>0</td>\n",
       "      <td>0</td>\n",
       "      <td>0</td>\n",
       "    </tr>\n",
       "    <tr>\n",
       "      <th>4</th>\n",
       "      <td>Property Damage &amp; Injury Accident</td>\n",
       "      <td>15</td>\n",
       "      <td>12</td>\n",
       "      <td>6</td>\n",
       "      <td>1</td>\n",
       "      <td>1</td>\n",
       "      <td>1</td>\n",
       "      <td>1</td>\n",
       "      <td>2</td>\n",
       "      <td>0</td>\n",
       "      <td>...</td>\n",
       "      <td>0</td>\n",
       "      <td>0</td>\n",
       "      <td>0</td>\n",
       "      <td>0</td>\n",
       "      <td>0</td>\n",
       "      <td>0</td>\n",
       "      <td>0</td>\n",
       "      <td>0</td>\n",
       "      <td>0</td>\n",
       "      <td>0</td>\n",
       "    </tr>\n",
       "  </tbody>\n",
       "</table>\n",
       "<p>5 rows × 90 columns</p>\n",
       "</div>"
      ],
      "text/plain": [
       "                    Crash Descriptor  Time  Month  Day of Week  Police Report  \\\n",
       "0           Property Damage Accident    11     12            6              1   \n",
       "1                    Injury Accident    18     12            6              1   \n",
       "2           Property Damage Accident    14     12            6              1   \n",
       "3           Property Damage Accident    12     12            6              1   \n",
       "4  Property Damage & Injury Accident    15     12            6              1   \n",
       "\n",
       "   Daylight?  Precipitation?  Traffic Control Device  \\\n",
       "0          1               1                       1   \n",
       "1          0               1                       1   \n",
       "2          1               1                       0   \n",
       "3          1               0                       0   \n",
       "4          1               1                       1   \n",
       "\n",
       "   Number of Vehicles Involved  Lit Dark Road?  ...  County Name_SULLIVAN  \\\n",
       "0                            2               0  ...                     0   \n",
       "1                            1               1  ...                     0   \n",
       "2                            1               0  ...                     0   \n",
       "3                            1               0  ...                     0   \n",
       "4                            2               0  ...                     0   \n",
       "\n",
       "   County Name_TIOGA  County Name_TOMPKINS  County Name_ULSTER  \\\n",
       "0                  0                     0                   0   \n",
       "1                  0                     0                   0   \n",
       "2                  0                     1                   0   \n",
       "3                  0                     0                   0   \n",
       "4                  0                     0                   0   \n",
       "\n",
       "   County Name_WARREN  County Name_WASHINGTON  County Name_WAYNE  \\\n",
       "0                   0                       0                  0   \n",
       "1                   0                       0                  0   \n",
       "2                   0                       0                  0   \n",
       "3                   0                       0                  0   \n",
       "4                   0                       0                  0   \n",
       "\n",
       "   County Name_WESTCHESTER  County Name_WYOMING  County Name_YATES  \n",
       "0                        0                    0                  0  \n",
       "1                        0                    0                  0  \n",
       "2                        0                    0                  0  \n",
       "3                        0                    0                  0  \n",
       "4                        0                    0                  0  \n",
       "\n",
       "[5 rows x 90 columns]"
      ]
     },
     "execution_count": 283,
     "metadata": {},
     "output_type": "execute_result"
    }
   ],
   "source": [
    "df.head()"
   ]
  },
  {
   "cell_type": "markdown",
   "metadata": {},
   "source": [
    "## Fix Columns"
   ]
  },
  {
   "cell_type": "code",
   "execution_count": 284,
   "metadata": {},
   "outputs": [],
   "source": [
    "cols = list(df.columns.values)"
   ]
  },
  {
   "cell_type": "code",
   "execution_count": 285,
   "metadata": {},
   "outputs": [
    {
     "data": {
      "text/plain": [
       "['Crash Descriptor',\n",
       " 'Time',\n",
       " 'Month',\n",
       " 'Day of Week',\n",
       " 'Police Report',\n",
       " 'Daylight?',\n",
       " 'Precipitation?',\n",
       " 'Traffic Control Device',\n",
       " 'Number of Vehicles Involved',\n",
       " 'Lit Dark Road?',\n",
       " 'Twilight Hour?',\n",
       " 'Straight Road?',\n",
       " 'Level Road?',\n",
       " 'Hill Crest?',\n",
       " 'Dry Road?',\n",
       " 'Pop per DUI',\n",
       " 'Population Density',\n",
       " 'Collision?',\n",
       " 'Pedestrian',\n",
       " 'Other Vehicle?',\n",
       " 'Cyclist?',\n",
       " 'Fixed Object?',\n",
       " 'Unkown Cause',\n",
       " 'Explosion/Fire',\n",
       " 'Animal Involved?',\n",
       " 'Overturned?',\n",
       " 'Train?',\n",
       " 'Submerged Car?',\n",
       " 'County Name_ALBANY',\n",
       " 'County Name_ALLEGANY',\n",
       " 'County Name_BRONX',\n",
       " 'County Name_BROOME',\n",
       " 'County Name_CATTARAUGUS',\n",
       " 'County Name_CAYUGA',\n",
       " 'County Name_CHAUTAUQUA',\n",
       " 'County Name_CHEMUNG',\n",
       " 'County Name_CHENANGO',\n",
       " 'County Name_CLINTON',\n",
       " 'County Name_COLUMBIA',\n",
       " 'County Name_CORTLAND',\n",
       " 'County Name_DELAWARE',\n",
       " 'County Name_DUTCHESS',\n",
       " 'County Name_ERIE',\n",
       " 'County Name_ESSEX',\n",
       " 'County Name_FRANKLIN',\n",
       " 'County Name_FULTON',\n",
       " 'County Name_GENESEE',\n",
       " 'County Name_GREENE',\n",
       " 'County Name_HAMILTON',\n",
       " 'County Name_HERKIMER',\n",
       " 'County Name_JEFFERSON',\n",
       " 'County Name_KINGS',\n",
       " 'County Name_LEWIS',\n",
       " 'County Name_LIVINGSTON',\n",
       " 'County Name_MADISON',\n",
       " 'County Name_MONROE',\n",
       " 'County Name_MONTGOMERY',\n",
       " 'County Name_NASSAU',\n",
       " 'County Name_NEW YORK',\n",
       " 'County Name_NIAGARA',\n",
       " 'County Name_ONEIDA',\n",
       " 'County Name_ONONDAGA',\n",
       " 'County Name_ONTARIO',\n",
       " 'County Name_ORANGE',\n",
       " 'County Name_ORLEANS',\n",
       " 'County Name_OSWEGO',\n",
       " 'County Name_OTSEGO',\n",
       " 'County Name_PUTNAM',\n",
       " 'County Name_QUEENS',\n",
       " 'County Name_RENSSELAER',\n",
       " 'County Name_RICHMOND',\n",
       " 'County Name_ROCKLAND',\n",
       " 'County Name_SARATOGA',\n",
       " 'County Name_SCHENECTADY',\n",
       " 'County Name_SCHOHARIE',\n",
       " 'County Name_SCHUYLER',\n",
       " 'County Name_SENECA',\n",
       " 'County Name_ST LAWRENCE',\n",
       " 'County Name_STEUBEN',\n",
       " 'County Name_SUFFOLK',\n",
       " 'County Name_SULLIVAN',\n",
       " 'County Name_TIOGA',\n",
       " 'County Name_TOMPKINS',\n",
       " 'County Name_ULSTER',\n",
       " 'County Name_WARREN',\n",
       " 'County Name_WASHINGTON',\n",
       " 'County Name_WAYNE',\n",
       " 'County Name_WESTCHESTER',\n",
       " 'County Name_WYOMING',\n",
       " 'County Name_YATES']"
      ]
     },
     "execution_count": 285,
     "metadata": {},
     "output_type": "execute_result"
    }
   ],
   "source": [
    "cols"
   ]
  },
  {
   "cell_type": "code",
   "execution_count": 286,
   "metadata": {},
   "outputs": [
    {
     "data": {
      "text/html": [
       "<div>\n",
       "<style scoped>\n",
       "    .dataframe tbody tr th:only-of-type {\n",
       "        vertical-align: middle;\n",
       "    }\n",
       "\n",
       "    .dataframe tbody tr th {\n",
       "        vertical-align: top;\n",
       "    }\n",
       "\n",
       "    .dataframe thead th {\n",
       "        text-align: right;\n",
       "    }\n",
       "</style>\n",
       "<table border=\"1\" class=\"dataframe\">\n",
       "  <thead>\n",
       "    <tr style=\"text-align: right;\">\n",
       "      <th></th>\n",
       "      <th>Crash Descriptor</th>\n",
       "      <th>Time</th>\n",
       "      <th>Month</th>\n",
       "      <th>Day of Week</th>\n",
       "      <th>Police Report</th>\n",
       "      <th>Daylight?</th>\n",
       "      <th>Precipitation?</th>\n",
       "      <th>Traffic Control Device</th>\n",
       "      <th>Number of Vehicles Involved</th>\n",
       "      <th>Lit Dark Road?</th>\n",
       "      <th>...</th>\n",
       "      <th>County Name_SULLIVAN</th>\n",
       "      <th>County Name_TIOGA</th>\n",
       "      <th>County Name_TOMPKINS</th>\n",
       "      <th>County Name_ULSTER</th>\n",
       "      <th>County Name_WARREN</th>\n",
       "      <th>County Name_WASHINGTON</th>\n",
       "      <th>County Name_WAYNE</th>\n",
       "      <th>County Name_WESTCHESTER</th>\n",
       "      <th>County Name_WYOMING</th>\n",
       "      <th>County Name_YATES</th>\n",
       "    </tr>\n",
       "  </thead>\n",
       "  <tbody>\n",
       "    <tr>\n",
       "      <th>0</th>\n",
       "      <td>Property Damage Accident</td>\n",
       "      <td>11</td>\n",
       "      <td>12</td>\n",
       "      <td>6</td>\n",
       "      <td>1</td>\n",
       "      <td>1</td>\n",
       "      <td>1</td>\n",
       "      <td>1</td>\n",
       "      <td>2</td>\n",
       "      <td>0</td>\n",
       "      <td>...</td>\n",
       "      <td>0</td>\n",
       "      <td>0</td>\n",
       "      <td>0</td>\n",
       "      <td>0</td>\n",
       "      <td>0</td>\n",
       "      <td>0</td>\n",
       "      <td>0</td>\n",
       "      <td>0</td>\n",
       "      <td>0</td>\n",
       "      <td>0</td>\n",
       "    </tr>\n",
       "    <tr>\n",
       "      <th>1</th>\n",
       "      <td>Injury Accident</td>\n",
       "      <td>18</td>\n",
       "      <td>12</td>\n",
       "      <td>6</td>\n",
       "      <td>1</td>\n",
       "      <td>0</td>\n",
       "      <td>1</td>\n",
       "      <td>1</td>\n",
       "      <td>1</td>\n",
       "      <td>1</td>\n",
       "      <td>...</td>\n",
       "      <td>0</td>\n",
       "      <td>0</td>\n",
       "      <td>0</td>\n",
       "      <td>0</td>\n",
       "      <td>0</td>\n",
       "      <td>0</td>\n",
       "      <td>0</td>\n",
       "      <td>0</td>\n",
       "      <td>0</td>\n",
       "      <td>0</td>\n",
       "    </tr>\n",
       "    <tr>\n",
       "      <th>2</th>\n",
       "      <td>Property Damage Accident</td>\n",
       "      <td>14</td>\n",
       "      <td>12</td>\n",
       "      <td>6</td>\n",
       "      <td>1</td>\n",
       "      <td>1</td>\n",
       "      <td>1</td>\n",
       "      <td>0</td>\n",
       "      <td>1</td>\n",
       "      <td>0</td>\n",
       "      <td>...</td>\n",
       "      <td>0</td>\n",
       "      <td>0</td>\n",
       "      <td>1</td>\n",
       "      <td>0</td>\n",
       "      <td>0</td>\n",
       "      <td>0</td>\n",
       "      <td>0</td>\n",
       "      <td>0</td>\n",
       "      <td>0</td>\n",
       "      <td>0</td>\n",
       "    </tr>\n",
       "    <tr>\n",
       "      <th>3</th>\n",
       "      <td>Property Damage Accident</td>\n",
       "      <td>12</td>\n",
       "      <td>12</td>\n",
       "      <td>6</td>\n",
       "      <td>1</td>\n",
       "      <td>1</td>\n",
       "      <td>0</td>\n",
       "      <td>0</td>\n",
       "      <td>1</td>\n",
       "      <td>0</td>\n",
       "      <td>...</td>\n",
       "      <td>0</td>\n",
       "      <td>0</td>\n",
       "      <td>0</td>\n",
       "      <td>0</td>\n",
       "      <td>0</td>\n",
       "      <td>0</td>\n",
       "      <td>0</td>\n",
       "      <td>0</td>\n",
       "      <td>0</td>\n",
       "      <td>0</td>\n",
       "    </tr>\n",
       "    <tr>\n",
       "      <th>4</th>\n",
       "      <td>Property Damage &amp; Injury Accident</td>\n",
       "      <td>15</td>\n",
       "      <td>12</td>\n",
       "      <td>6</td>\n",
       "      <td>1</td>\n",
       "      <td>1</td>\n",
       "      <td>1</td>\n",
       "      <td>1</td>\n",
       "      <td>2</td>\n",
       "      <td>0</td>\n",
       "      <td>...</td>\n",
       "      <td>0</td>\n",
       "      <td>0</td>\n",
       "      <td>0</td>\n",
       "      <td>0</td>\n",
       "      <td>0</td>\n",
       "      <td>0</td>\n",
       "      <td>0</td>\n",
       "      <td>0</td>\n",
       "      <td>0</td>\n",
       "      <td>0</td>\n",
       "    </tr>\n",
       "  </tbody>\n",
       "</table>\n",
       "<p>5 rows × 90 columns</p>\n",
       "</div>"
      ],
      "text/plain": [
       "                    Crash Descriptor  Time  Month  Day of Week  Police Report  \\\n",
       "0           Property Damage Accident    11     12            6              1   \n",
       "1                    Injury Accident    18     12            6              1   \n",
       "2           Property Damage Accident    14     12            6              1   \n",
       "3           Property Damage Accident    12     12            6              1   \n",
       "4  Property Damage & Injury Accident    15     12            6              1   \n",
       "\n",
       "   Daylight?  Precipitation?  Traffic Control Device  \\\n",
       "0          1               1                       1   \n",
       "1          0               1                       1   \n",
       "2          1               1                       0   \n",
       "3          1               0                       0   \n",
       "4          1               1                       1   \n",
       "\n",
       "   Number of Vehicles Involved  Lit Dark Road?  ...  County Name_SULLIVAN  \\\n",
       "0                            2               0  ...                     0   \n",
       "1                            1               1  ...                     0   \n",
       "2                            1               0  ...                     0   \n",
       "3                            1               0  ...                     0   \n",
       "4                            2               0  ...                     0   \n",
       "\n",
       "   County Name_TIOGA  County Name_TOMPKINS  County Name_ULSTER  \\\n",
       "0                  0                     0                   0   \n",
       "1                  0                     0                   0   \n",
       "2                  0                     1                   0   \n",
       "3                  0                     0                   0   \n",
       "4                  0                     0                   0   \n",
       "\n",
       "   County Name_WARREN  County Name_WASHINGTON  County Name_WAYNE  \\\n",
       "0                   0                       0                  0   \n",
       "1                   0                       0                  0   \n",
       "2                   0                       0                  0   \n",
       "3                   0                       0                  0   \n",
       "4                   0                       0                  0   \n",
       "\n",
       "   County Name_WESTCHESTER  County Name_WYOMING  County Name_YATES  \n",
       "0                        0                    0                  0  \n",
       "1                        0                    0                  0  \n",
       "2                        0                    0                  0  \n",
       "3                        0                    0                  0  \n",
       "4                        0                    0                  0  \n",
       "\n",
       "[5 rows x 90 columns]"
      ]
     },
     "execution_count": 286,
     "metadata": {},
     "output_type": "execute_result"
    }
   ],
   "source": [
    "df.head()"
   ]
  },
  {
   "cell_type": "code",
   "execution_count": 287,
   "metadata": {},
   "outputs": [],
   "source": [
    "df = df[['Crash Descriptor',\n",
    " 'Police Report',\n",
    " 'Traffic Control Device',\n",
    " 'Number of Vehicles Involved',\n",
    " 'Population Density',\n",
    " 'Pop per DUI',\n",
    " 'Time',\n",
    " 'Month',\n",
    " 'Day of Week',\n",
    " 'Precipitation?',\n",
    " 'Daylight?',\n",
    " 'Lit Dark Road?',\n",
    " 'Twilight Hour?',\n",
    " 'Straight Road?',\n",
    " 'Level Road?',\n",
    " 'Hill Crest?',\n",
    " 'Dry Road?',\n",
    " 'Collision?',\n",
    " 'Pedestrian',\n",
    " 'Other Vehicle?',\n",
    " 'Cyclist?',\n",
    " 'Fixed Object?',\n",
    " 'Unkown Cause',\n",
    " 'Explosion/Fire',\n",
    " 'Animal Involved?',\n",
    " 'Overturned?',\n",
    " 'Train?',\n",
    " 'Submerged Car?',\n",
    " 'County Name_ALBANY',\n",
    " 'County Name_ALLEGANY',\n",
    " 'County Name_BRONX',\n",
    " 'County Name_BROOME',\n",
    " 'County Name_CATTARAUGUS',\n",
    " 'County Name_CAYUGA',\n",
    " 'County Name_CHAUTAUQUA',\n",
    " 'County Name_CHEMUNG',\n",
    " 'County Name_CHENANGO',\n",
    " 'County Name_CLINTON',\n",
    " 'County Name_COLUMBIA',\n",
    " 'County Name_CORTLAND',\n",
    " 'County Name_DELAWARE',\n",
    " 'County Name_DUTCHESS',\n",
    " 'County Name_ERIE',\n",
    " 'County Name_ESSEX',\n",
    " 'County Name_FRANKLIN',\n",
    " 'County Name_FULTON',\n",
    " 'County Name_GENESEE',\n",
    " 'County Name_GREENE',\n",
    " 'County Name_HAMILTON',\n",
    " 'County Name_HERKIMER',\n",
    " 'County Name_JEFFERSON',\n",
    " 'County Name_KINGS',\n",
    " 'County Name_LEWIS',\n",
    " 'County Name_LIVINGSTON',\n",
    " 'County Name_MADISON',\n",
    " 'County Name_MONROE',\n",
    " 'County Name_MONTGOMERY',\n",
    " 'County Name_NASSAU',\n",
    " 'County Name_NEW YORK',\n",
    " 'County Name_NIAGARA',\n",
    " 'County Name_ONEIDA',\n",
    " 'County Name_ONONDAGA',\n",
    " 'County Name_ONTARIO',\n",
    " 'County Name_ORANGE',\n",
    " 'County Name_ORLEANS',\n",
    " 'County Name_OSWEGO',\n",
    " 'County Name_OTSEGO',\n",
    " 'County Name_PUTNAM',\n",
    " 'County Name_QUEENS',\n",
    " 'County Name_RENSSELAER',\n",
    " 'County Name_RICHMOND',\n",
    " 'County Name_ROCKLAND',\n",
    " 'County Name_SARATOGA',\n",
    " 'County Name_SCHENECTADY',\n",
    " 'County Name_SCHOHARIE',\n",
    " 'County Name_SCHUYLER',\n",
    " 'County Name_SENECA',\n",
    " 'County Name_ST LAWRENCE',\n",
    " 'County Name_STEUBEN',\n",
    " 'County Name_SUFFOLK',\n",
    " 'County Name_SULLIVAN',\n",
    " 'County Name_TIOGA',\n",
    " 'County Name_TOMPKINS',\n",
    " 'County Name_ULSTER',\n",
    " 'County Name_WARREN',\n",
    " 'County Name_WASHINGTON',\n",
    " 'County Name_WAYNE',\n",
    " 'County Name_WESTCHESTER',\n",
    " 'County Name_WYOMING',\n",
    " 'County Name_YATES']]\n"
   ]
  },
  {
   "cell_type": "markdown",
   "metadata": {},
   "source": [
    "## Save!"
   ]
  },
  {
   "cell_type": "code",
   "execution_count": 289,
   "metadata": {},
   "outputs": [
    {
     "data": {
      "text/html": [
       "<div>\n",
       "<style scoped>\n",
       "    .dataframe tbody tr th:only-of-type {\n",
       "        vertical-align: middle;\n",
       "    }\n",
       "\n",
       "    .dataframe tbody tr th {\n",
       "        vertical-align: top;\n",
       "    }\n",
       "\n",
       "    .dataframe thead th {\n",
       "        text-align: right;\n",
       "    }\n",
       "</style>\n",
       "<table border=\"1\" class=\"dataframe\">\n",
       "  <thead>\n",
       "    <tr style=\"text-align: right;\">\n",
       "      <th></th>\n",
       "      <th>Crash Descriptor</th>\n",
       "      <th>Police Report</th>\n",
       "      <th>Traffic Control Device</th>\n",
       "      <th>Number of Vehicles Involved</th>\n",
       "      <th>Population Density</th>\n",
       "      <th>Pop per DUI</th>\n",
       "      <th>Time</th>\n",
       "      <th>Month</th>\n",
       "      <th>Day of Week</th>\n",
       "      <th>Precipitation?</th>\n",
       "      <th>...</th>\n",
       "      <th>County Name_SULLIVAN</th>\n",
       "      <th>County Name_TIOGA</th>\n",
       "      <th>County Name_TOMPKINS</th>\n",
       "      <th>County Name_ULSTER</th>\n",
       "      <th>County Name_WARREN</th>\n",
       "      <th>County Name_WASHINGTON</th>\n",
       "      <th>County Name_WAYNE</th>\n",
       "      <th>County Name_WESTCHESTER</th>\n",
       "      <th>County Name_WYOMING</th>\n",
       "      <th>County Name_YATES</th>\n",
       "    </tr>\n",
       "  </thead>\n",
       "  <tbody>\n",
       "    <tr>\n",
       "      <th>0</th>\n",
       "      <td>Property Damage Accident</td>\n",
       "      <td>1</td>\n",
       "      <td>1</td>\n",
       "      <td>2</td>\n",
       "      <td>20553</td>\n",
       "      <td>5579</td>\n",
       "      <td>11</td>\n",
       "      <td>12</td>\n",
       "      <td>6</td>\n",
       "      <td>1</td>\n",
       "      <td>...</td>\n",
       "      <td>0</td>\n",
       "      <td>0</td>\n",
       "      <td>0</td>\n",
       "      <td>0</td>\n",
       "      <td>0</td>\n",
       "      <td>0</td>\n",
       "      <td>0</td>\n",
       "      <td>0</td>\n",
       "      <td>0</td>\n",
       "      <td>0</td>\n",
       "    </tr>\n",
       "    <tr>\n",
       "      <th>1</th>\n",
       "      <td>Injury Accident</td>\n",
       "      <td>1</td>\n",
       "      <td>1</td>\n",
       "      <td>1</td>\n",
       "      <td>69464</td>\n",
       "      <td>6594</td>\n",
       "      <td>18</td>\n",
       "      <td>12</td>\n",
       "      <td>6</td>\n",
       "      <td>1</td>\n",
       "      <td>...</td>\n",
       "      <td>0</td>\n",
       "      <td>0</td>\n",
       "      <td>0</td>\n",
       "      <td>0</td>\n",
       "      <td>0</td>\n",
       "      <td>0</td>\n",
       "      <td>0</td>\n",
       "      <td>0</td>\n",
       "      <td>0</td>\n",
       "      <td>0</td>\n",
       "    </tr>\n",
       "    <tr>\n",
       "      <th>2</th>\n",
       "      <td>Property Damage Accident</td>\n",
       "      <td>1</td>\n",
       "      <td>0</td>\n",
       "      <td>1</td>\n",
       "      <td>213</td>\n",
       "      <td>1261</td>\n",
       "      <td>14</td>\n",
       "      <td>12</td>\n",
       "      <td>6</td>\n",
       "      <td>1</td>\n",
       "      <td>...</td>\n",
       "      <td>0</td>\n",
       "      <td>0</td>\n",
       "      <td>1</td>\n",
       "      <td>0</td>\n",
       "      <td>0</td>\n",
       "      <td>0</td>\n",
       "      <td>0</td>\n",
       "      <td>0</td>\n",
       "      <td>0</td>\n",
       "      <td>0</td>\n",
       "    </tr>\n",
       "    <tr>\n",
       "      <th>3</th>\n",
       "      <td>Property Damage Accident</td>\n",
       "      <td>1</td>\n",
       "      <td>0</td>\n",
       "      <td>1</td>\n",
       "      <td>881</td>\n",
       "      <td>1438</td>\n",
       "      <td>12</td>\n",
       "      <td>12</td>\n",
       "      <td>6</td>\n",
       "      <td>0</td>\n",
       "      <td>...</td>\n",
       "      <td>0</td>\n",
       "      <td>0</td>\n",
       "      <td>0</td>\n",
       "      <td>0</td>\n",
       "      <td>0</td>\n",
       "      <td>0</td>\n",
       "      <td>0</td>\n",
       "      <td>0</td>\n",
       "      <td>0</td>\n",
       "      <td>0</td>\n",
       "    </tr>\n",
       "    <tr>\n",
       "      <th>4</th>\n",
       "      <td>Property Damage &amp; Injury Accident</td>\n",
       "      <td>1</td>\n",
       "      <td>1</td>\n",
       "      <td>2</td>\n",
       "      <td>69464</td>\n",
       "      <td>6594</td>\n",
       "      <td>15</td>\n",
       "      <td>12</td>\n",
       "      <td>6</td>\n",
       "      <td>1</td>\n",
       "      <td>...</td>\n",
       "      <td>0</td>\n",
       "      <td>0</td>\n",
       "      <td>0</td>\n",
       "      <td>0</td>\n",
       "      <td>0</td>\n",
       "      <td>0</td>\n",
       "      <td>0</td>\n",
       "      <td>0</td>\n",
       "      <td>0</td>\n",
       "      <td>0</td>\n",
       "    </tr>\n",
       "  </tbody>\n",
       "</table>\n",
       "<p>5 rows × 90 columns</p>\n",
       "</div>"
      ],
      "text/plain": [
       "                    Crash Descriptor  Police Report  Traffic Control Device  \\\n",
       "0           Property Damage Accident              1                       1   \n",
       "1                    Injury Accident              1                       1   \n",
       "2           Property Damage Accident              1                       0   \n",
       "3           Property Damage Accident              1                       0   \n",
       "4  Property Damage & Injury Accident              1                       1   \n",
       "\n",
       "   Number of Vehicles Involved  Population Density  Pop per DUI  Time  Month  \\\n",
       "0                            2               20553         5579    11     12   \n",
       "1                            1               69464         6594    18     12   \n",
       "2                            1                 213         1261    14     12   \n",
       "3                            1                 881         1438    12     12   \n",
       "4                            2               69464         6594    15     12   \n",
       "\n",
       "   Day of Week  Precipitation?  ...  County Name_SULLIVAN  County Name_TIOGA  \\\n",
       "0            6               1  ...                     0                  0   \n",
       "1            6               1  ...                     0                  0   \n",
       "2            6               1  ...                     0                  0   \n",
       "3            6               0  ...                     0                  0   \n",
       "4            6               1  ...                     0                  0   \n",
       "\n",
       "   County Name_TOMPKINS  County Name_ULSTER  County Name_WARREN  \\\n",
       "0                     0                   0                   0   \n",
       "1                     0                   0                   0   \n",
       "2                     1                   0                   0   \n",
       "3                     0                   0                   0   \n",
       "4                     0                   0                   0   \n",
       "\n",
       "   County Name_WASHINGTON  County Name_WAYNE  County Name_WESTCHESTER  \\\n",
       "0                       0                  0                        0   \n",
       "1                       0                  0                        0   \n",
       "2                       0                  0                        0   \n",
       "3                       0                  0                        0   \n",
       "4                       0                  0                        0   \n",
       "\n",
       "   County Name_WYOMING  County Name_YATES  \n",
       "0                    0                  0  \n",
       "1                    0                  0  \n",
       "2                    0                  0  \n",
       "3                    0                  0  \n",
       "4                    0                  0  \n",
       "\n",
       "[5 rows x 90 columns]"
      ]
     },
     "execution_count": 289,
     "metadata": {},
     "output_type": "execute_result"
    }
   ],
   "source": [
    "df.head()"
   ]
  },
  {
   "cell_type": "code",
   "execution_count": 288,
   "metadata": {},
   "outputs": [],
   "source": [
    "df.to_csv('crash_fixed.csv')"
   ]
  }
 ],
 "metadata": {
  "kernelspec": {
   "display_name": "Python 3",
   "language": "python",
   "name": "python3"
  },
  "language_info": {
   "codemirror_mode": {
    "name": "ipython",
    "version": 3
   },
   "file_extension": ".py",
   "mimetype": "text/x-python",
   "name": "python",
   "nbconvert_exporter": "python",
   "pygments_lexer": "ipython3",
   "version": "3.7.6"
  }
 },
 "nbformat": 4,
 "nbformat_minor": 4
}
